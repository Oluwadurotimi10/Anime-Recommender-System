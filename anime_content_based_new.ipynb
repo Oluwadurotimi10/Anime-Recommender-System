{
  "nbformat": 4,
  "nbformat_minor": 0,
  "metadata": {
    "colab": {
      "name": "anime_content-based_new.ipynb",
      "provenance": [],
      "toc_visible": true
    },
    "kernelspec": {
      "name": "python3",
      "display_name": "Python 3"
    }
  },
  "cells": [
    {
      "cell_type": "markdown",
      "metadata": {
        "id": "XBj3Zp_sQg4x",
        "colab_type": "text"
      },
      "source": [
        "### Content Based with new Anime Dataset"
      ]
    },
    {
      "cell_type": "markdown",
      "metadata": {
        "id": "18s_IMKaSol3",
        "colab_type": "text"
      },
      "source": [
        "Importing neccessary libraries"
      ]
    },
    {
      "cell_type": "code",
      "metadata": {
        "id": "LwvPJ2k_QVdT",
        "colab_type": "code",
        "colab": {}
      },
      "source": [
        "import pandas as pd\n",
        "import numpy as np"
      ],
      "execution_count": 1,
      "outputs": []
    },
    {
      "cell_type": "code",
      "metadata": {
        "id": "sS6RlpbHQlEJ",
        "colab_type": "code",
        "colab": {
          "base_uri": "https://localhost:8080/",
          "height": 383
        },
        "outputId": "04b4cbee-a28e-4ef2-ac5d-55434e60cae2"
      },
      "source": [
        "anime_new = pd.read_csv('/content/drive/My Drive/anime data/Anime_data.csv')\n",
        "anime_new.head(3)"
      ],
      "execution_count": 2,
      "outputs": [
        {
          "output_type": "execute_result",
          "data": {
            "text/html": [
              "<div>\n",
              "<style scoped>\n",
              "    .dataframe tbody tr th:only-of-type {\n",
              "        vertical-align: middle;\n",
              "    }\n",
              "\n",
              "    .dataframe tbody tr th {\n",
              "        vertical-align: top;\n",
              "    }\n",
              "\n",
              "    .dataframe thead th {\n",
              "        text-align: right;\n",
              "    }\n",
              "</style>\n",
              "<table border=\"1\" class=\"dataframe\">\n",
              "  <thead>\n",
              "    <tr style=\"text-align: right;\">\n",
              "      <th></th>\n",
              "      <th>Anime_id</th>\n",
              "      <th>Title</th>\n",
              "      <th>Genre</th>\n",
              "      <th>Synopsis</th>\n",
              "      <th>Type</th>\n",
              "      <th>Producer</th>\n",
              "      <th>Studio</th>\n",
              "      <th>Rating</th>\n",
              "      <th>ScoredBy</th>\n",
              "      <th>Popularity</th>\n",
              "      <th>Members</th>\n",
              "      <th>Episodes</th>\n",
              "      <th>Source</th>\n",
              "      <th>Aired</th>\n",
              "      <th>Link</th>\n",
              "    </tr>\n",
              "  </thead>\n",
              "  <tbody>\n",
              "    <tr>\n",
              "      <th>0</th>\n",
              "      <td>1</td>\n",
              "      <td>Cowboy Bebop</td>\n",
              "      <td>['Action', 'Adventure', 'Comedy', 'Drama', 'Sc...</td>\n",
              "      <td>In the year 2071, humanity has colonized sever...</td>\n",
              "      <td>TV</td>\n",
              "      <td>['Bandai Visual']</td>\n",
              "      <td>['Sunrise']</td>\n",
              "      <td>8.81</td>\n",
              "      <td>363889.0</td>\n",
              "      <td>39.0</td>\n",
              "      <td>704490.0</td>\n",
              "      <td>26.0</td>\n",
              "      <td>Original</td>\n",
              "      <td>Apr 3, 1998 to Apr 24, 1999</td>\n",
              "      <td>https://myanimelist.net/anime/1/Cowboy_Bebop</td>\n",
              "    </tr>\n",
              "    <tr>\n",
              "      <th>1</th>\n",
              "      <td>5</td>\n",
              "      <td>Cowboy Bebop: Tengoku no Tobira</td>\n",
              "      <td>['Action', 'Space', 'Drama', 'Mystery', 'Sci-Fi']</td>\n",
              "      <td>Another day, another bounty—such is the life o...</td>\n",
              "      <td>Movie</td>\n",
              "      <td>['Sunrise', 'Bandai Visual']</td>\n",
              "      <td>['Bones']</td>\n",
              "      <td>8.41</td>\n",
              "      <td>111187.0</td>\n",
              "      <td>475.0</td>\n",
              "      <td>179899.0</td>\n",
              "      <td>1.0</td>\n",
              "      <td>Original</td>\n",
              "      <td>Sep 1, 2001</td>\n",
              "      <td>https://myanimelist.net/anime/5/Cowboy_Bebop__...</td>\n",
              "    </tr>\n",
              "    <tr>\n",
              "      <th>2</th>\n",
              "      <td>6</td>\n",
              "      <td>Trigun</td>\n",
              "      <td>['Action', 'Sci-Fi', 'Adventure', 'Comedy', 'D...</td>\n",
              "      <td>Vash the Stampede is the man with a $$60,000,0...</td>\n",
              "      <td>TV</td>\n",
              "      <td>['Victor Entertainment']</td>\n",
              "      <td>['Madhouse']</td>\n",
              "      <td>8.31</td>\n",
              "      <td>197451.0</td>\n",
              "      <td>158.0</td>\n",
              "      <td>372709.0</td>\n",
              "      <td>26.0</td>\n",
              "      <td>Manga</td>\n",
              "      <td>Apr 1, 1998 to Sep 30, 1998</td>\n",
              "      <td>https://myanimelist.net/anime/6/Trigun</td>\n",
              "    </tr>\n",
              "  </tbody>\n",
              "</table>\n",
              "</div>"
            ],
            "text/plain": [
              "   Anime_id  ...                                               Link\n",
              "0         1  ...       https://myanimelist.net/anime/1/Cowboy_Bebop\n",
              "1         5  ...  https://myanimelist.net/anime/5/Cowboy_Bebop__...\n",
              "2         6  ...             https://myanimelist.net/anime/6/Trigun\n",
              "\n",
              "[3 rows x 15 columns]"
            ]
          },
          "metadata": {
            "tags": []
          },
          "execution_count": 2
        }
      ]
    },
    {
      "cell_type": "code",
      "metadata": {
        "id": "2XgwHS4dQukh",
        "colab_type": "code",
        "colab": {
          "base_uri": "https://localhost:8080/",
          "height": 34
        },
        "outputId": "823ec8fc-8109-4214-d991-451dc2fedc22"
      },
      "source": [
        "len(anime_new)"
      ],
      "execution_count": 3,
      "outputs": [
        {
          "output_type": "execute_result",
          "data": {
            "text/plain": [
              "17002"
            ]
          },
          "metadata": {
            "tags": []
          },
          "execution_count": 3
        }
      ]
    },
    {
      "cell_type": "markdown",
      "metadata": {
        "id": "h_g6nLKTQzzk",
        "colab_type": "text"
      },
      "source": [
        "Feature columns have already been split into a list containing them"
      ]
    },
    {
      "cell_type": "code",
      "metadata": {
        "id": "mjS7s6YRQvmA",
        "colab_type": "code",
        "colab": {
          "base_uri": "https://localhost:8080/",
          "height": 119
        },
        "outputId": "40de3798-8067-48c0-afb6-6f53153a74d0"
      },
      "source": [
        "anime_new['Synopsis'].head()"
      ],
      "execution_count": 4,
      "outputs": [
        {
          "output_type": "execute_result",
          "data": {
            "text/plain": [
              "0    In the year 2071, humanity has colonized sever...\n",
              "1    Another day, another bounty—such is the life o...\n",
              "2    Vash the Stampede is the man with a $$60,000,0...\n",
              "3    Witches are individuals with special powers li...\n",
              "4    It is the dark century and the people are suff...\n",
              "Name: Synopsis, dtype: object"
            ]
          },
          "metadata": {
            "tags": []
          },
          "execution_count": 4
        }
      ]
    },
    {
      "cell_type": "markdown",
      "metadata": {
        "id": "Hyl18kRXQ62k",
        "colab_type": "text"
      },
      "source": [
        "Applying vectorization to the plot summary to get other similar animes, using tf-idf vectorizer"
      ]
    },
    {
      "cell_type": "code",
      "metadata": {
        "id": "pJPEVFJyQ4Fh",
        "colab_type": "code",
        "colab": {
          "base_uri": "https://localhost:8080/",
          "height": 34
        },
        "outputId": "180e9fa7-241c-4fc9-89ca-8f25b55a15c6"
      },
      "source": [
        "#Import TfIdfVectorizer from scikit-learn\n",
        "from sklearn.feature_extraction.text import TfidfVectorizer\n",
        "\n",
        "#Define a TF-IDF Vectorizer Object. Remove all english stop words such as 'the', 'a'\n",
        "tfidf = TfidfVectorizer(stop_words='english')\n",
        "\n",
        "#Replace NaN with an empty string\n",
        "anime_new['Synopsis'] = anime_new['Synopsis'].fillna('')\n",
        "\n",
        "#Construct the required TF-IDF matrix by fitting and transforming the data\n",
        "tfidf_matrix = tfidf.fit_transform(anime_new['Synopsis'])\n",
        "\n",
        "#Output the shape of tfidf_matrix\n",
        "tfidf_matrix.shape"
      ],
      "execution_count": 5,
      "outputs": [
        {
          "output_type": "execute_result",
          "data": {
            "text/plain": [
              "(17002, 43913)"
            ]
          },
          "metadata": {
            "tags": []
          },
          "execution_count": 5
        }
      ]
    },
    {
      "cell_type": "markdown",
      "metadata": {
        "id": "VLjjqEiZRAwY",
        "colab_type": "text"
      },
      "source": [
        "With this matrix in hand, we compute similarity scores using cosine similarity"
      ]
    },
    {
      "cell_type": "code",
      "metadata": {
        "id": "y5FnBbmOQ9CU",
        "colab_type": "code",
        "colab": {}
      },
      "source": [
        "# Import linear_kernel\n",
        "from sklearn.metrics.pairwise import linear_kernel\n",
        "\n",
        "# Compute the cosine similarity matrix\n",
        "cosine_sim = linear_kernel(tfidf_matrix, tfidf_matrix)"
      ],
      "execution_count": 6,
      "outputs": []
    },
    {
      "cell_type": "markdown",
      "metadata": {
        "id": "uhWO9YoGRGZJ",
        "colab_type": "text"
      },
      "source": [
        "We define a function that takes in an anime title as an input and outputs a list of the 10 most similar animes. Firstly, for this, you need a reverse mapping of anime titles and DataFrame "
      ]
    },
    {
      "cell_type": "code",
      "metadata": {
        "id": "uodkPQ9RRDhl",
        "colab_type": "code",
        "colab": {}
      },
      "source": [
        "#Construct a reverse map of indices and anime titles\n",
        "indices = pd.Series(anime_new.index, index=anime_new['Title']).drop_duplicates()"
      ],
      "execution_count": 7,
      "outputs": []
    },
    {
      "cell_type": "code",
      "metadata": {
        "id": "237iCbViRJzb",
        "colab_type": "code",
        "colab": {
          "base_uri": "https://localhost:8080/",
          "height": 136
        },
        "outputId": "6bb2729e-3e60-4c7f-bd4d-07dfba792901"
      },
      "source": [
        "indices.head()"
      ],
      "execution_count": 8,
      "outputs": [
        {
          "output_type": "execute_result",
          "data": {
            "text/plain": [
              "Title\n",
              "Cowboy Bebop                       0\n",
              "Cowboy Bebop: Tengoku no Tobira    1\n",
              "Trigun                             2\n",
              "Witch Hunter Robin                 3\n",
              "Bouken Ou Beet                     4\n",
              "dtype: int64"
            ]
          },
          "metadata": {
            "tags": []
          },
          "execution_count": 8
        }
      ]
    },
    {
      "cell_type": "code",
      "metadata": {
        "id": "_zqz1LO_RL-0",
        "colab_type": "code",
        "colab": {}
      },
      "source": [
        "# Function that takes in anime title as input and outputs most similar anime\n",
        "def get_recommendations(title, cosine_sim=cosine_sim):\n",
        "    # Get the index of the anime that matches the title\n",
        "    idx = indices[title]\n",
        "\n",
        "    # Get the pairwsie similarity scores of all anime with that anime\n",
        "    sim_scores = list(enumerate(cosine_sim[idx]))\n",
        "\n",
        "    # Sort the anime based on the similarity scores\n",
        "    sim_scores = sorted(sim_scores, key=lambda x: x[1], reverse=True)\n",
        "\n",
        "    # Get the scores of the 10 most similar anime\n",
        "    sim_scores = sim_scores[1:11]\n",
        "\n",
        "    # Get the anime indices\n",
        "    anime_indices = [i[0] for i in sim_scores]\n",
        "\n",
        "    # Return the top 10 most similar anime\n",
        "    return anime_new['Title'].iloc[anime_indices]"
      ],
      "execution_count": 9,
      "outputs": []
    },
    {
      "cell_type": "code",
      "metadata": {
        "id": "-bbPj7g-RN7i",
        "colab_type": "code",
        "colab": {
          "base_uri": "https://localhost:8080/",
          "height": 204
        },
        "outputId": "963bdc2e-67b6-4a5c-f533-b44442886c18"
      },
      "source": [
        "get_recommendations('Death Note')"
      ],
      "execution_count": 10,
      "outputs": [
        {
          "output_type": "execute_result",
          "data": {
            "text/plain": [
              "2525              Death Note: Rewrite\n",
              "2915                       Soul Eater\n",
              "645              Shinigami no Ballad.\n",
              "12227              Dia Horizon (Kabu)\n",
              "15808      YAT Anshin! Uchuu Ryokou 2\n",
              "16618                  Kite Liberator\n",
              "4229      Ayatsuri Haramase DreamNote\n",
              "466                   Yami no Matsuei\n",
              "630      Bleach: Memories in the Rain\n",
              "1082           Yami no Shihosha Judge\n",
              "Name: Title, dtype: object"
            ]
          },
          "metadata": {
            "tags": []
          },
          "execution_count": 10
        }
      ]
    },
    {
      "cell_type": "markdown",
      "metadata": {
        "id": "iwg1O04jRT-T",
        "colab_type": "text"
      },
      "source": [
        "Similarity using genre, producer, studio, source \n",
        "\n",
        "\n"
      ]
    },
    {
      "cell_type": "code",
      "metadata": {
        "id": "mo6yZHiURP0U",
        "colab_type": "code",
        "colab": {
          "base_uri": "https://localhost:8080/",
          "height": 383
        },
        "outputId": "8a8ea829-98b0-4488-c258-0430e4b8bbd2"
      },
      "source": [
        "anime_new.head(3)"
      ],
      "execution_count": 11,
      "outputs": [
        {
          "output_type": "execute_result",
          "data": {
            "text/html": [
              "<div>\n",
              "<style scoped>\n",
              "    .dataframe tbody tr th:only-of-type {\n",
              "        vertical-align: middle;\n",
              "    }\n",
              "\n",
              "    .dataframe tbody tr th {\n",
              "        vertical-align: top;\n",
              "    }\n",
              "\n",
              "    .dataframe thead th {\n",
              "        text-align: right;\n",
              "    }\n",
              "</style>\n",
              "<table border=\"1\" class=\"dataframe\">\n",
              "  <thead>\n",
              "    <tr style=\"text-align: right;\">\n",
              "      <th></th>\n",
              "      <th>Anime_id</th>\n",
              "      <th>Title</th>\n",
              "      <th>Genre</th>\n",
              "      <th>Synopsis</th>\n",
              "      <th>Type</th>\n",
              "      <th>Producer</th>\n",
              "      <th>Studio</th>\n",
              "      <th>Rating</th>\n",
              "      <th>ScoredBy</th>\n",
              "      <th>Popularity</th>\n",
              "      <th>Members</th>\n",
              "      <th>Episodes</th>\n",
              "      <th>Source</th>\n",
              "      <th>Aired</th>\n",
              "      <th>Link</th>\n",
              "    </tr>\n",
              "  </thead>\n",
              "  <tbody>\n",
              "    <tr>\n",
              "      <th>0</th>\n",
              "      <td>1</td>\n",
              "      <td>Cowboy Bebop</td>\n",
              "      <td>['Action', 'Adventure', 'Comedy', 'Drama', 'Sc...</td>\n",
              "      <td>In the year 2071, humanity has colonized sever...</td>\n",
              "      <td>TV</td>\n",
              "      <td>['Bandai Visual']</td>\n",
              "      <td>['Sunrise']</td>\n",
              "      <td>8.81</td>\n",
              "      <td>363889.0</td>\n",
              "      <td>39.0</td>\n",
              "      <td>704490.0</td>\n",
              "      <td>26.0</td>\n",
              "      <td>Original</td>\n",
              "      <td>Apr 3, 1998 to Apr 24, 1999</td>\n",
              "      <td>https://myanimelist.net/anime/1/Cowboy_Bebop</td>\n",
              "    </tr>\n",
              "    <tr>\n",
              "      <th>1</th>\n",
              "      <td>5</td>\n",
              "      <td>Cowboy Bebop: Tengoku no Tobira</td>\n",
              "      <td>['Action', 'Space', 'Drama', 'Mystery', 'Sci-Fi']</td>\n",
              "      <td>Another day, another bounty—such is the life o...</td>\n",
              "      <td>Movie</td>\n",
              "      <td>['Sunrise', 'Bandai Visual']</td>\n",
              "      <td>['Bones']</td>\n",
              "      <td>8.41</td>\n",
              "      <td>111187.0</td>\n",
              "      <td>475.0</td>\n",
              "      <td>179899.0</td>\n",
              "      <td>1.0</td>\n",
              "      <td>Original</td>\n",
              "      <td>Sep 1, 2001</td>\n",
              "      <td>https://myanimelist.net/anime/5/Cowboy_Bebop__...</td>\n",
              "    </tr>\n",
              "    <tr>\n",
              "      <th>2</th>\n",
              "      <td>6</td>\n",
              "      <td>Trigun</td>\n",
              "      <td>['Action', 'Sci-Fi', 'Adventure', 'Comedy', 'D...</td>\n",
              "      <td>Vash the Stampede is the man with a $$60,000,0...</td>\n",
              "      <td>TV</td>\n",
              "      <td>['Victor Entertainment']</td>\n",
              "      <td>['Madhouse']</td>\n",
              "      <td>8.31</td>\n",
              "      <td>197451.0</td>\n",
              "      <td>158.0</td>\n",
              "      <td>372709.0</td>\n",
              "      <td>26.0</td>\n",
              "      <td>Manga</td>\n",
              "      <td>Apr 1, 1998 to Sep 30, 1998</td>\n",
              "      <td>https://myanimelist.net/anime/6/Trigun</td>\n",
              "    </tr>\n",
              "  </tbody>\n",
              "</table>\n",
              "</div>"
            ],
            "text/plain": [
              "   Anime_id  ...                                               Link\n",
              "0         1  ...       https://myanimelist.net/anime/1/Cowboy_Bebop\n",
              "1         5  ...  https://myanimelist.net/anime/5/Cowboy_Bebop__...\n",
              "2         6  ...             https://myanimelist.net/anime/6/Trigun\n",
              "\n",
              "[3 rows x 15 columns]"
            ]
          },
          "metadata": {
            "tags": []
          },
          "execution_count": 11
        }
      ]
    },
    {
      "cell_type": "code",
      "metadata": {
        "id": "Oir5pw-rRbLZ",
        "colab_type": "code",
        "colab": {
          "base_uri": "https://localhost:8080/",
          "height": 289
        },
        "outputId": "367e96d6-7e8b-4412-bdec-8d35bc61ac5c"
      },
      "source": [
        "anime_new.dtypes"
      ],
      "execution_count": 12,
      "outputs": [
        {
          "output_type": "execute_result",
          "data": {
            "text/plain": [
              "Anime_id        int64\n",
              "Title          object\n",
              "Genre          object\n",
              "Synopsis       object\n",
              "Type           object\n",
              "Producer       object\n",
              "Studio         object\n",
              "Rating        float64\n",
              "ScoredBy      float64\n",
              "Popularity    float64\n",
              "Members       float64\n",
              "Episodes      float64\n",
              "Source         object\n",
              "Aired          object\n",
              "Link           object\n",
              "dtype: object"
            ]
          },
          "metadata": {
            "tags": []
          },
          "execution_count": 12
        }
      ]
    },
    {
      "cell_type": "code",
      "metadata": {
        "id": "jC351zPsRdTJ",
        "colab_type": "code",
        "colab": {}
      },
      "source": [
        "#converting necessary columns to strings for processing\n",
        "anime_new['Genre'] = anime_new[\"Genre\"].astype('str')\n",
        "anime_new['Producer'] = anime_new[\"Producer\"].astype('str')\n",
        "anime_new['Studio'] = anime_new[\"Studio\"].astype('str')"
      ],
      "execution_count": 13,
      "outputs": []
    },
    {
      "cell_type": "code",
      "metadata": {
        "id": "d6X1p9cRRg7C",
        "colab_type": "code",
        "colab": {}
      },
      "source": [
        "# Function to convert all lists into strings for splitting into lists\n",
        "import re \n",
        "def clean_data_lists(s):\n",
        "    return re.sub(r\"[^\\sa-zA-Z0-9\\.\\,\\;]\",\"\",str(s))"
      ],
      "execution_count": 14,
      "outputs": []
    },
    {
      "cell_type": "code",
      "metadata": {
        "id": "X8isvuVYRkJZ",
        "colab_type": "code",
        "colab": {}
      },
      "source": [
        "# Apply clean_data function to your features.\n",
        "features = ['Genre', 'Producer', 'Studio', 'Source']\n",
        "\n",
        "for feature in features:\n",
        "    anime_new[feature] = anime_new[feature].apply(clean_data_lists)"
      ],
      "execution_count": 15,
      "outputs": []
    },
    {
      "cell_type": "markdown",
      "metadata": {
        "id": "WY9h_qDGRo5k",
        "colab_type": "text"
      },
      "source": [
        "NB: we ignore the spaces between producer names and studio names so that the vectorizer doesn't count the Johnny of \"Johnny Depp\" and \"Johnny Galecki\" as the same. That is just an example"
      ]
    },
    {
      "cell_type": "code",
      "metadata": {
        "id": "nrcXFSsvRmln",
        "colab_type": "code",
        "colab": {
          "base_uri": "https://localhost:8080/",
          "height": 400
        },
        "outputId": "b4f2e282-ed76-4fee-aebc-d9f9473f96bd"
      },
      "source": [
        "anime_new.head(3)"
      ],
      "execution_count": 16,
      "outputs": [
        {
          "output_type": "execute_result",
          "data": {
            "text/html": [
              "<div>\n",
              "<style scoped>\n",
              "    .dataframe tbody tr th:only-of-type {\n",
              "        vertical-align: middle;\n",
              "    }\n",
              "\n",
              "    .dataframe tbody tr th {\n",
              "        vertical-align: top;\n",
              "    }\n",
              "\n",
              "    .dataframe thead th {\n",
              "        text-align: right;\n",
              "    }\n",
              "</style>\n",
              "<table border=\"1\" class=\"dataframe\">\n",
              "  <thead>\n",
              "    <tr style=\"text-align: right;\">\n",
              "      <th></th>\n",
              "      <th>Anime_id</th>\n",
              "      <th>Title</th>\n",
              "      <th>Genre</th>\n",
              "      <th>Synopsis</th>\n",
              "      <th>Type</th>\n",
              "      <th>Producer</th>\n",
              "      <th>Studio</th>\n",
              "      <th>Rating</th>\n",
              "      <th>ScoredBy</th>\n",
              "      <th>Popularity</th>\n",
              "      <th>Members</th>\n",
              "      <th>Episodes</th>\n",
              "      <th>Source</th>\n",
              "      <th>Aired</th>\n",
              "      <th>Link</th>\n",
              "    </tr>\n",
              "  </thead>\n",
              "  <tbody>\n",
              "    <tr>\n",
              "      <th>0</th>\n",
              "      <td>1</td>\n",
              "      <td>Cowboy Bebop</td>\n",
              "      <td>Action, Adventure, Comedy, Drama, SciFi, Space</td>\n",
              "      <td>In the year 2071, humanity has colonized sever...</td>\n",
              "      <td>TV</td>\n",
              "      <td>Bandai Visual</td>\n",
              "      <td>Sunrise</td>\n",
              "      <td>8.81</td>\n",
              "      <td>363889.0</td>\n",
              "      <td>39.0</td>\n",
              "      <td>704490.0</td>\n",
              "      <td>26.0</td>\n",
              "      <td>Original</td>\n",
              "      <td>Apr 3, 1998 to Apr 24, 1999</td>\n",
              "      <td>https://myanimelist.net/anime/1/Cowboy_Bebop</td>\n",
              "    </tr>\n",
              "    <tr>\n",
              "      <th>1</th>\n",
              "      <td>5</td>\n",
              "      <td>Cowboy Bebop: Tengoku no Tobira</td>\n",
              "      <td>Action, Space, Drama, Mystery, SciFi</td>\n",
              "      <td>Another day, another bounty—such is the life o...</td>\n",
              "      <td>Movie</td>\n",
              "      <td>Sunrise, Bandai Visual</td>\n",
              "      <td>Bones</td>\n",
              "      <td>8.41</td>\n",
              "      <td>111187.0</td>\n",
              "      <td>475.0</td>\n",
              "      <td>179899.0</td>\n",
              "      <td>1.0</td>\n",
              "      <td>Original</td>\n",
              "      <td>Sep 1, 2001</td>\n",
              "      <td>https://myanimelist.net/anime/5/Cowboy_Bebop__...</td>\n",
              "    </tr>\n",
              "    <tr>\n",
              "      <th>2</th>\n",
              "      <td>6</td>\n",
              "      <td>Trigun</td>\n",
              "      <td>Action, SciFi, Adventure, Comedy, Drama, Shounen</td>\n",
              "      <td>Vash the Stampede is the man with a $$60,000,0...</td>\n",
              "      <td>TV</td>\n",
              "      <td>Victor Entertainment</td>\n",
              "      <td>Madhouse</td>\n",
              "      <td>8.31</td>\n",
              "      <td>197451.0</td>\n",
              "      <td>158.0</td>\n",
              "      <td>372709.0</td>\n",
              "      <td>26.0</td>\n",
              "      <td>Manga</td>\n",
              "      <td>Apr 1, 1998 to Sep 30, 1998</td>\n",
              "      <td>https://myanimelist.net/anime/6/Trigun</td>\n",
              "    </tr>\n",
              "  </tbody>\n",
              "</table>\n",
              "</div>"
            ],
            "text/plain": [
              "   Anime_id  ...                                               Link\n",
              "0         1  ...       https://myanimelist.net/anime/1/Cowboy_Bebop\n",
              "1         5  ...  https://myanimelist.net/anime/5/Cowboy_Bebop__...\n",
              "2         6  ...             https://myanimelist.net/anime/6/Trigun\n",
              "\n",
              "[3 rows x 15 columns]"
            ]
          },
          "metadata": {
            "tags": []
          },
          "execution_count": 16
        }
      ]
    },
    {
      "cell_type": "code",
      "metadata": {
        "id": "9Ns9utyRRr0l",
        "colab_type": "code",
        "colab": {}
      },
      "source": [
        "#creating a function to split the particular columns into lists again\n",
        "def split_columns(x):\n",
        "  return x.split(',')"
      ],
      "execution_count": 17,
      "outputs": []
    },
    {
      "cell_type": "code",
      "metadata": {
        "id": "K-vuJaAeRuHX",
        "colab_type": "code",
        "colab": {}
      },
      "source": [
        "#applying the function to the same set of columns\n",
        "for feature in features:\n",
        "    anime_new[feature] = anime_new[feature].apply(split_columns)"
      ],
      "execution_count": 18,
      "outputs": []
    },
    {
      "cell_type": "code",
      "metadata": {
        "id": "wzWibJUWRwkQ",
        "colab_type": "code",
        "colab": {
          "base_uri": "https://localhost:8080/",
          "height": 383
        },
        "outputId": "0090f976-8cf7-4d7c-b271-4db701be4c2d"
      },
      "source": [
        "anime_new.head(3)"
      ],
      "execution_count": 19,
      "outputs": [
        {
          "output_type": "execute_result",
          "data": {
            "text/html": [
              "<div>\n",
              "<style scoped>\n",
              "    .dataframe tbody tr th:only-of-type {\n",
              "        vertical-align: middle;\n",
              "    }\n",
              "\n",
              "    .dataframe tbody tr th {\n",
              "        vertical-align: top;\n",
              "    }\n",
              "\n",
              "    .dataframe thead th {\n",
              "        text-align: right;\n",
              "    }\n",
              "</style>\n",
              "<table border=\"1\" class=\"dataframe\">\n",
              "  <thead>\n",
              "    <tr style=\"text-align: right;\">\n",
              "      <th></th>\n",
              "      <th>Anime_id</th>\n",
              "      <th>Title</th>\n",
              "      <th>Genre</th>\n",
              "      <th>Synopsis</th>\n",
              "      <th>Type</th>\n",
              "      <th>Producer</th>\n",
              "      <th>Studio</th>\n",
              "      <th>Rating</th>\n",
              "      <th>ScoredBy</th>\n",
              "      <th>Popularity</th>\n",
              "      <th>Members</th>\n",
              "      <th>Episodes</th>\n",
              "      <th>Source</th>\n",
              "      <th>Aired</th>\n",
              "      <th>Link</th>\n",
              "    </tr>\n",
              "  </thead>\n",
              "  <tbody>\n",
              "    <tr>\n",
              "      <th>0</th>\n",
              "      <td>1</td>\n",
              "      <td>Cowboy Bebop</td>\n",
              "      <td>[Action,  Adventure,  Comedy,  Drama,  SciFi, ...</td>\n",
              "      <td>In the year 2071, humanity has colonized sever...</td>\n",
              "      <td>TV</td>\n",
              "      <td>[Bandai Visual]</td>\n",
              "      <td>[Sunrise]</td>\n",
              "      <td>8.81</td>\n",
              "      <td>363889.0</td>\n",
              "      <td>39.0</td>\n",
              "      <td>704490.0</td>\n",
              "      <td>26.0</td>\n",
              "      <td>[Original]</td>\n",
              "      <td>Apr 3, 1998 to Apr 24, 1999</td>\n",
              "      <td>https://myanimelist.net/anime/1/Cowboy_Bebop</td>\n",
              "    </tr>\n",
              "    <tr>\n",
              "      <th>1</th>\n",
              "      <td>5</td>\n",
              "      <td>Cowboy Bebop: Tengoku no Tobira</td>\n",
              "      <td>[Action,  Space,  Drama,  Mystery,  SciFi]</td>\n",
              "      <td>Another day, another bounty—such is the life o...</td>\n",
              "      <td>Movie</td>\n",
              "      <td>[Sunrise,  Bandai Visual]</td>\n",
              "      <td>[Bones]</td>\n",
              "      <td>8.41</td>\n",
              "      <td>111187.0</td>\n",
              "      <td>475.0</td>\n",
              "      <td>179899.0</td>\n",
              "      <td>1.0</td>\n",
              "      <td>[Original]</td>\n",
              "      <td>Sep 1, 2001</td>\n",
              "      <td>https://myanimelist.net/anime/5/Cowboy_Bebop__...</td>\n",
              "    </tr>\n",
              "    <tr>\n",
              "      <th>2</th>\n",
              "      <td>6</td>\n",
              "      <td>Trigun</td>\n",
              "      <td>[Action,  SciFi,  Adventure,  Comedy,  Drama, ...</td>\n",
              "      <td>Vash the Stampede is the man with a $$60,000,0...</td>\n",
              "      <td>TV</td>\n",
              "      <td>[Victor Entertainment]</td>\n",
              "      <td>[Madhouse]</td>\n",
              "      <td>8.31</td>\n",
              "      <td>197451.0</td>\n",
              "      <td>158.0</td>\n",
              "      <td>372709.0</td>\n",
              "      <td>26.0</td>\n",
              "      <td>[Manga]</td>\n",
              "      <td>Apr 1, 1998 to Sep 30, 1998</td>\n",
              "      <td>https://myanimelist.net/anime/6/Trigun</td>\n",
              "    </tr>\n",
              "  </tbody>\n",
              "</table>\n",
              "</div>"
            ],
            "text/plain": [
              "   Anime_id  ...                                               Link\n",
              "0         1  ...       https://myanimelist.net/anime/1/Cowboy_Bebop\n",
              "1         5  ...  https://myanimelist.net/anime/5/Cowboy_Bebop__...\n",
              "2         6  ...             https://myanimelist.net/anime/6/Trigun\n",
              "\n",
              "[3 rows x 15 columns]"
            ]
          },
          "metadata": {
            "tags": []
          },
          "execution_count": 19
        }
      ]
    },
    {
      "cell_type": "code",
      "metadata": {
        "id": "ZrdR3FLwRz7f",
        "colab_type": "code",
        "colab": {}
      },
      "source": [
        "# Function to convert all strings to lower case and strip names of spaces\n",
        "def clean_data(x):\n",
        "    if isinstance(x, list):\n",
        "        return [str.lower(i.replace(\" \", \"\")) for i in x]\n",
        "    else:\n",
        "        #Check if source exists. If not, return empty string\n",
        "        if isinstance(x, str):\n",
        "            return str.lower(x.replace(\" \", \"\"))\n",
        "        else:\n",
        "            return ''"
      ],
      "execution_count": 20,
      "outputs": []
    },
    {
      "cell_type": "code",
      "metadata": {
        "id": "U6lq0yHcR3Bg",
        "colab_type": "code",
        "colab": {}
      },
      "source": [
        "#applying the clean_data function\n",
        "for feature in features:\n",
        "    anime_new[feature] = anime_new[feature].apply(clean_data)"
      ],
      "execution_count": 21,
      "outputs": []
    },
    {
      "cell_type": "code",
      "metadata": {
        "id": "ypfyUSprR5Fn",
        "colab_type": "code",
        "colab": {}
      },
      "source": [
        "def create_soup(x):\n",
        "    return ' '.join(x['Genre']) + ' ' + ' '.join(x['Producer']) + ' ' + ' '.join(x['Studio']) + ' ' + ' '.join(x['Source'])"
      ],
      "execution_count": 22,
      "outputs": []
    },
    {
      "cell_type": "code",
      "metadata": {
        "id": "HEG2hY5TR7pT",
        "colab_type": "code",
        "colab": {}
      },
      "source": [
        "# Create a new soup feature\n",
        "anime_new['soup'] = anime_new.apply(create_soup, axis=1)"
      ],
      "execution_count": 23,
      "outputs": []
    },
    {
      "cell_type": "code",
      "metadata": {
        "id": "X-FoDAIYR-Ae",
        "colab_type": "code",
        "colab": {
          "base_uri": "https://localhost:8080/",
          "height": 119
        },
        "outputId": "6471fd63-5906-4476-9943-eeffec4beccb"
      },
      "source": [
        "anime_new['soup'].head()"
      ],
      "execution_count": 24,
      "outputs": [
        {
          "output_type": "execute_result",
          "data": {
            "text/plain": [
              "0    action adventure comedy drama scifi space band...\n",
              "1    action space drama mystery scifi sunrise banda...\n",
              "2    action scifi adventure comedy drama shounen vi...\n",
              "3    action magic police supernatural drama mystery...\n",
              "4    adventure fantasy shounen supernatural nan toe...\n",
              "Name: soup, dtype: object"
            ]
          },
          "metadata": {
            "tags": []
          },
          "execution_count": 24
        }
      ]
    },
    {
      "cell_type": "code",
      "metadata": {
        "id": "Q6twjTrXSAF6",
        "colab_type": "code",
        "colab": {}
      },
      "source": [
        "# Import CountVectorizer and create the count matrix\n",
        "from sklearn.feature_extraction.text import CountVectorizer\n",
        "\n",
        "count = CountVectorizer(stop_words='english')\n",
        "count_matrix = count.fit_transform(anime_new['soup'])"
      ],
      "execution_count": 25,
      "outputs": []
    },
    {
      "cell_type": "code",
      "metadata": {
        "id": "4v_PVJDGSDNm",
        "colab_type": "code",
        "colab": {
          "base_uri": "https://localhost:8080/",
          "height": 34
        },
        "outputId": "965fb0fa-ff86-4b95-d1db-9fc35ad1b305"
      },
      "source": [
        "count_matrix.shape"
      ],
      "execution_count": 26,
      "outputs": [
        {
          "output_type": "execute_result",
          "data": {
            "text/plain": [
              "(17002, 1382)"
            ]
          },
          "metadata": {
            "tags": []
          },
          "execution_count": 26
        }
      ]
    },
    {
      "cell_type": "code",
      "metadata": {
        "id": "ezCumf6oSFZK",
        "colab_type": "code",
        "colab": {}
      },
      "source": [
        "# Compute the Cosine Similarity matrix based on the count_matrix\n",
        "from sklearn.metrics.pairwise import cosine_similarity\n",
        "\n",
        "cosine_sim2 = cosine_similarity(count_matrix, count_matrix)"
      ],
      "execution_count": 27,
      "outputs": []
    },
    {
      "cell_type": "markdown",
      "metadata": {
        "id": "8-oI2LsJSKOU",
        "colab_type": "text"
      },
      "source": [
        "Using the get_recommendations function for the new cosine similarity"
      ]
    },
    {
      "cell_type": "code",
      "metadata": {
        "id": "D4YCXKqZSHr2",
        "colab_type": "code",
        "colab": {
          "base_uri": "https://localhost:8080/",
          "height": 204
        },
        "outputId": "196ad886-da18-441b-b323-22c5c076ea5f"
      },
      "source": [
        "get_recommendations('Death Note', cosine_sim2) #based on features"
      ],
      "execution_count": 28,
      "outputs": [
        {
          "output_type": "execute_result",
          "data": {
            "text/plain": [
              "2525                          Death Note: Rewrite\n",
              "2516                   Majin Tantei Nougami Neuro\n",
              "9                                         Monster\n",
              "3541                              Mouryou no Hako\n",
              "2531      Gyakkyou Burai Kaiji: Ultimate Survivor\n",
              "3067                   Top Secret: The Revelation\n",
              "5426          Gyakkyou Burai Kaiji: Hakairoku-hen\n",
              "5725                       Hunter x Hunter (2011)\n",
              "7119    Hunter x Hunter Movie 2: The Last Mission\n",
              "8552                                 Death Parade\n",
              "Name: Title, dtype: object"
            ]
          },
          "metadata": {
            "tags": []
          },
          "execution_count": 28
        }
      ]
    },
    {
      "cell_type": "code",
      "metadata": {
        "id": "o8OBzeBySM5U",
        "colab_type": "code",
        "colab": {
          "base_uri": "https://localhost:8080/",
          "height": 204
        },
        "outputId": "e70ad5d6-a21d-476b-c1b8-f84979d5b165"
      },
      "source": [
        "get_recommendations('Death Note', cosine_sim) #based on storyline"
      ],
      "execution_count": 29,
      "outputs": [
        {
          "output_type": "execute_result",
          "data": {
            "text/plain": [
              "2525              Death Note: Rewrite\n",
              "2915                       Soul Eater\n",
              "645              Shinigami no Ballad.\n",
              "12227              Dia Horizon (Kabu)\n",
              "15808      YAT Anshin! Uchuu Ryokou 2\n",
              "16618                  Kite Liberator\n",
              "4229      Ayatsuri Haramase DreamNote\n",
              "466                   Yami no Matsuei\n",
              "630      Bleach: Memories in the Rain\n",
              "1082           Yami no Shihosha Judge\n",
              "Name: Title, dtype: object"
            ]
          },
          "metadata": {
            "tags": []
          },
          "execution_count": 29
        }
      ]
    },
    {
      "cell_type": "code",
      "metadata": {
        "id": "jyhaJDQgSPFi",
        "colab_type": "code",
        "colab": {}
      },
      "source": [
        "#writing a function to get recommendations using both storyline and features based on 50% for both\n",
        "def get_recommendations_both(title, cos_sim1, cos_sim2):\n",
        "  # Get the index of the movie that matches the title\n",
        "  idx = indices[title]\n",
        "\n",
        "  # Get the pairwsie similarity scores of all anime using similarity1\n",
        "  sim_scores1 = list(enumerate(cos_sim1[idx]))\n",
        "\n",
        "  # Get the pairwsie similarity scores of all anime using similarity1\n",
        "  sim_scores2 = list(enumerate(cos_sim2[idx]))\n",
        "\n",
        "  #Getting the average of both similarity scores\n",
        "  sim_scores_avg = [(sim_scores1[i][0],(sim_scores1[i][1] + sim_scores2[i][1])/2) for i in range(len(sim_scores1))]\n",
        "\n",
        "  # Sort the movies based on the similarity scores\n",
        "  sim_scores_avg = sorted(sim_scores_avg, key=lambda x: x[1], reverse=True)\n",
        "\n",
        "  #Get the scores of the 10 most similar movies\n",
        "  sim_scores_avg = sim_scores_avg[1:11]\n",
        "\n",
        "  #Get the movie indices\n",
        "  anime_indices = [i[0] for i in sim_scores_avg]\n",
        "\n",
        "  #Return the top 10 most similar movies\n",
        "  return anime_new['Title'].iloc[anime_indices]\n"
      ],
      "execution_count": 30,
      "outputs": []
    },
    {
      "cell_type": "code",
      "metadata": {
        "id": "ckOkYKMySRaY",
        "colab_type": "code",
        "colab": {
          "base_uri": "https://localhost:8080/",
          "height": 204
        },
        "outputId": "c594f2f2-25a2-4d93-cd6f-710e257f5d7c"
      },
      "source": [
        "get_recommendations_both('Death Note',cosine_sim,cosine_sim2)"
      ],
      "execution_count": 31,
      "outputs": [
        {
          "output_type": "execute_result",
          "data": {
            "text/plain": [
              "2525                          Death Note: Rewrite\n",
              "2516                   Majin Tantei Nougami Neuro\n",
              "9                                         Monster\n",
              "8552                                 Death Parade\n",
              "2531      Gyakkyou Burai Kaiji: Ultimate Survivor\n",
              "3541                              Mouryou no Hako\n",
              "5426          Gyakkyou Burai Kaiji: Hakairoku-hen\n",
              "5725                       Hunter x Hunter (2011)\n",
              "3067                   Top Secret: The Revelation\n",
              "7119    Hunter x Hunter Movie 2: The Last Mission\n",
              "Name: Title, dtype: object"
            ]
          },
          "metadata": {
            "tags": []
          },
          "execution_count": 31
        }
      ]
    },
    {
      "cell_type": "code",
      "metadata": {
        "id": "Y09aHnfnSTfb",
        "colab_type": "code",
        "colab": {}
      },
      "source": [
        ""
      ],
      "execution_count": null,
      "outputs": []
    }
  ]
}