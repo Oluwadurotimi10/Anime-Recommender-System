{
 "cells": [
  {
   "cell_type": "code",
   "execution_count": 3,
   "metadata": {},
   "outputs": [],
   "source": [
    "#importing necessary libraries\n",
    "import pandas as pd\n",
    "import numpy as np\n",
    "import matplotlib.pyplot as plt\n",
    "import seaborn as sns\n",
    "%matplotlib inline"
   ]
  },
  {
   "cell_type": "code",
   "execution_count": 4,
   "metadata": {},
   "outputs": [],
   "source": [
    "#loading the dataset\n",
    "anime_data = pd.read_csv('DATA/Anime_data.csv')"
   ]
  },
  {
   "cell_type": "code",
   "execution_count": 5,
   "metadata": {},
   "outputs": [],
   "source": [
    "anime_data = anime_data.rename(columns={'Anime_id': 'anime_id', 'Title': 'title','Genre':'genres','Synopsis':'synopsis',\n",
    "                                       'Type':'anime_type','Producer':'producer','Studio':'studio','Rating':'rating','ScoredBy':'scored_by','Popularity':'popularity',\n",
    "                                       'Members':'members','Episodes':'num_of_episodes','Source':'anime_source'})"
   ]
  },
  {
   "cell_type": "code",
   "execution_count": 6,
   "metadata": {},
   "outputs": [],
   "source": [
    "#creating the function to remove the characters\n",
    "import re\n",
    "def clean_up(s):\n",
    "    return re.sub(r\"[^\\sa-zA-Z0-9\\.\\,\\;]\",\"\",str(s))"
   ]
  },
  {
   "cell_type": "code",
   "execution_count": 7,
   "metadata": {},
   "outputs": [],
   "source": [
    "anime_data['title'] = anime_data['title'].apply(clean_up)\n",
    "anime_data['genres'] = anime_data['genres'].apply(clean_up)\n",
    "anime_data['producer'] = anime_data['producer'].apply(clean_up)\n",
    "anime_data['studio'] = anime_data['studio'].apply(clean_up)\n",
    "anime_data['synopsis'] = anime_data['synopsis'].apply(clean_up)"
   ]
  },
  {
   "cell_type": "code",
   "execution_count": 8,
   "metadata": {},
   "outputs": [
    {
     "data": {
      "text/html": [
       "<div>\n",
       "<style scoped>\n",
       "    .dataframe tbody tr th:only-of-type {\n",
       "        vertical-align: middle;\n",
       "    }\n",
       "\n",
       "    .dataframe tbody tr th {\n",
       "        vertical-align: top;\n",
       "    }\n",
       "\n",
       "    .dataframe thead th {\n",
       "        text-align: right;\n",
       "    }\n",
       "</style>\n",
       "<table border=\"1\" class=\"dataframe\">\n",
       "  <thead>\n",
       "    <tr style=\"text-align: right;\">\n",
       "      <th></th>\n",
       "      <th>anime_id</th>\n",
       "      <th>title</th>\n",
       "      <th>genres</th>\n",
       "      <th>synopsis</th>\n",
       "      <th>anime_type</th>\n",
       "      <th>producer</th>\n",
       "      <th>studio</th>\n",
       "      <th>rating</th>\n",
       "      <th>scored_by</th>\n",
       "      <th>popularity</th>\n",
       "      <th>members</th>\n",
       "      <th>num_of_episodes</th>\n",
       "      <th>anime_source</th>\n",
       "      <th>Aired</th>\n",
       "      <th>Link</th>\n",
       "    </tr>\n",
       "  </thead>\n",
       "  <tbody>\n",
       "    <tr>\n",
       "      <th>0</th>\n",
       "      <td>1</td>\n",
       "      <td>Cowboy Bebop</td>\n",
       "      <td>Action, Adventure, Comedy, Drama, SciFi, Space</td>\n",
       "      <td>In the year 2071, humanity has colonized sever...</td>\n",
       "      <td>TV</td>\n",
       "      <td>Bandai Visual</td>\n",
       "      <td>Sunrise</td>\n",
       "      <td>8.81</td>\n",
       "      <td>363889.0</td>\n",
       "      <td>39.0</td>\n",
       "      <td>704490.0</td>\n",
       "      <td>26.0</td>\n",
       "      <td>Original</td>\n",
       "      <td>Apr 3, 1998 to Apr 24, 1999</td>\n",
       "      <td>https://myanimelist.net/anime/1/Cowboy_Bebop</td>\n",
       "    </tr>\n",
       "    <tr>\n",
       "      <th>1</th>\n",
       "      <td>5</td>\n",
       "      <td>Cowboy Bebop Tengoku no Tobira</td>\n",
       "      <td>Action, Space, Drama, Mystery, SciFi</td>\n",
       "      <td>Another day, another bountysuch is the life of...</td>\n",
       "      <td>Movie</td>\n",
       "      <td>Sunrise, Bandai Visual</td>\n",
       "      <td>Bones</td>\n",
       "      <td>8.41</td>\n",
       "      <td>111187.0</td>\n",
       "      <td>475.0</td>\n",
       "      <td>179899.0</td>\n",
       "      <td>1.0</td>\n",
       "      <td>Original</td>\n",
       "      <td>Sep 1, 2001</td>\n",
       "      <td>https://myanimelist.net/anime/5/Cowboy_Bebop__...</td>\n",
       "    </tr>\n",
       "  </tbody>\n",
       "</table>\n",
       "</div>"
      ],
      "text/plain": [
       "   anime_id                           title  \\\n",
       "0         1                    Cowboy Bebop   \n",
       "1         5  Cowboy Bebop Tengoku no Tobira   \n",
       "\n",
       "                                           genres  \\\n",
       "0  Action, Adventure, Comedy, Drama, SciFi, Space   \n",
       "1            Action, Space, Drama, Mystery, SciFi   \n",
       "\n",
       "                                            synopsis anime_type  \\\n",
       "0  In the year 2071, humanity has colonized sever...         TV   \n",
       "1  Another day, another bountysuch is the life of...      Movie   \n",
       "\n",
       "                 producer   studio  rating  scored_by  popularity   members  \\\n",
       "0           Bandai Visual  Sunrise    8.81   363889.0        39.0  704490.0   \n",
       "1  Sunrise, Bandai Visual    Bones    8.41   111187.0       475.0  179899.0   \n",
       "\n",
       "   num_of_episodes anime_source                        Aired  \\\n",
       "0             26.0     Original  Apr 3, 1998 to Apr 24, 1999   \n",
       "1              1.0     Original                  Sep 1, 2001   \n",
       "\n",
       "                                                Link  \n",
       "0       https://myanimelist.net/anime/1/Cowboy_Bebop  \n",
       "1  https://myanimelist.net/anime/5/Cowboy_Bebop__...  "
      ]
     },
     "execution_count": 8,
     "metadata": {},
     "output_type": "execute_result"
    }
   ],
   "source": [
    "anime_data.head(2)"
   ]
  },
  {
   "cell_type": "markdown",
   "metadata": {},
   "source": [
    "# Content based using genre, producer, source and type"
   ]
  },
  {
   "cell_type": "code",
   "execution_count": 9,
   "metadata": {},
   "outputs": [],
   "source": [
    "#dropping the null rows\n",
    "anime_data.dropna(axis = 0,how = 'any',inplace=True)"
   ]
  },
  {
   "cell_type": "code",
   "execution_count": 10,
   "metadata": {},
   "outputs": [
    {
     "data": {
      "text/plain": [
       "anime_id           0\n",
       "title              0\n",
       "genres             0\n",
       "synopsis           0\n",
       "anime_type         0\n",
       "producer           0\n",
       "studio             0\n",
       "rating             0\n",
       "scored_by          0\n",
       "popularity         0\n",
       "members            0\n",
       "num_of_episodes    0\n",
       "anime_source       0\n",
       "Aired              0\n",
       "Link               0\n",
       "dtype: int64"
      ]
     },
     "execution_count": 10,
     "metadata": {},
     "output_type": "execute_result"
    }
   ],
   "source": [
    "anime_data.isnull().sum()"
   ]
  },
  {
   "cell_type": "code",
   "execution_count": 11,
   "metadata": {},
   "outputs": [],
   "source": [
    "#selecting the features for this recommendation\n",
    "features = ['genres','producer','studio','anime_source','anime_type']"
   ]
  },
  {
   "cell_type": "code",
   "execution_count": 12,
   "metadata": {},
   "outputs": [],
   "source": [
    "# creating a function to split the values in the genre and producer column\n",
    "def split_column(x):\n",
    "    return x.split(', ')"
   ]
  },
  {
   "cell_type": "code",
   "execution_count": 13,
   "metadata": {},
   "outputs": [],
   "source": [
    "#applying the function\n",
    "anime_data['genres'] = anime_data['genres'].apply(split_column)\n",
    "anime_data['producer'] = anime_data['producer'].apply(split_column)"
   ]
  },
  {
   "cell_type": "code",
   "execution_count": 12,
   "metadata": {},
   "outputs": [
    {
     "data": {
      "text/html": [
       "<div>\n",
       "<style scoped>\n",
       "    .dataframe tbody tr th:only-of-type {\n",
       "        vertical-align: middle;\n",
       "    }\n",
       "\n",
       "    .dataframe tbody tr th {\n",
       "        vertical-align: top;\n",
       "    }\n",
       "\n",
       "    .dataframe thead th {\n",
       "        text-align: right;\n",
       "    }\n",
       "</style>\n",
       "<table border=\"1\" class=\"dataframe\">\n",
       "  <thead>\n",
       "    <tr style=\"text-align: right;\">\n",
       "      <th></th>\n",
       "      <th>anime_id</th>\n",
       "      <th>title</th>\n",
       "      <th>genres</th>\n",
       "      <th>synopsis</th>\n",
       "      <th>anime_type</th>\n",
       "      <th>producer</th>\n",
       "      <th>studio</th>\n",
       "      <th>rating</th>\n",
       "      <th>scored_by</th>\n",
       "      <th>popularity</th>\n",
       "      <th>members</th>\n",
       "      <th>num_of_episodes</th>\n",
       "      <th>anime_source</th>\n",
       "      <th>Aired</th>\n",
       "      <th>Link</th>\n",
       "    </tr>\n",
       "  </thead>\n",
       "  <tbody>\n",
       "    <tr>\n",
       "      <th>0</th>\n",
       "      <td>1</td>\n",
       "      <td>Cowboy Bebop</td>\n",
       "      <td>[Action, Adventure, Comedy, Drama, SciFi, Space]</td>\n",
       "      <td>In the year 2071, humanity has colonized sever...</td>\n",
       "      <td>TV</td>\n",
       "      <td>[Bandai Visual]</td>\n",
       "      <td>Sunrise</td>\n",
       "      <td>8.81</td>\n",
       "      <td>363889.0</td>\n",
       "      <td>39.0</td>\n",
       "      <td>704490.0</td>\n",
       "      <td>26.0</td>\n",
       "      <td>Original</td>\n",
       "      <td>Apr 3, 1998 to Apr 24, 1999</td>\n",
       "      <td>https://myanimelist.net/anime/1/Cowboy_Bebop</td>\n",
       "    </tr>\n",
       "    <tr>\n",
       "      <th>1</th>\n",
       "      <td>5</td>\n",
       "      <td>Cowboy Bebop Tengoku no Tobira</td>\n",
       "      <td>[Action, Space, Drama, Mystery, SciFi]</td>\n",
       "      <td>Another day, another bountysuch is the life of...</td>\n",
       "      <td>Movie</td>\n",
       "      <td>[Sunrise, Bandai Visual]</td>\n",
       "      <td>Bones</td>\n",
       "      <td>8.41</td>\n",
       "      <td>111187.0</td>\n",
       "      <td>475.0</td>\n",
       "      <td>179899.0</td>\n",
       "      <td>1.0</td>\n",
       "      <td>Original</td>\n",
       "      <td>Sep 1, 2001</td>\n",
       "      <td>https://myanimelist.net/anime/5/Cowboy_Bebop__...</td>\n",
       "    </tr>\n",
       "  </tbody>\n",
       "</table>\n",
       "</div>"
      ],
      "text/plain": [
       "   anime_id                           title  \\\n",
       "0         1                    Cowboy Bebop   \n",
       "1         5  Cowboy Bebop Tengoku no Tobira   \n",
       "\n",
       "                                             genres  \\\n",
       "0  [Action, Adventure, Comedy, Drama, SciFi, Space]   \n",
       "1            [Action, Space, Drama, Mystery, SciFi]   \n",
       "\n",
       "                                            synopsis anime_type  \\\n",
       "0  In the year 2071, humanity has colonized sever...         TV   \n",
       "1  Another day, another bountysuch is the life of...      Movie   \n",
       "\n",
       "                   producer   studio  rating  scored_by  popularity   members  \\\n",
       "0           [Bandai Visual]  Sunrise    8.81   363889.0        39.0  704490.0   \n",
       "1  [Sunrise, Bandai Visual]    Bones    8.41   111187.0       475.0  179899.0   \n",
       "\n",
       "   num_of_episodes anime_source                        Aired  \\\n",
       "0             26.0     Original  Apr 3, 1998 to Apr 24, 1999   \n",
       "1              1.0     Original                  Sep 1, 2001   \n",
       "\n",
       "                                                Link  \n",
       "0       https://myanimelist.net/anime/1/Cowboy_Bebop  \n",
       "1  https://myanimelist.net/anime/5/Cowboy_Bebop__...  "
      ]
     },
     "execution_count": 12,
     "metadata": {},
     "output_type": "execute_result"
    }
   ],
   "source": [
    "anime_data.head(2)"
   ]
  },
  {
   "cell_type": "code",
   "execution_count": 13,
   "metadata": {},
   "outputs": [
    {
     "data": {
      "text/html": [
       "<div>\n",
       "<style scoped>\n",
       "    .dataframe tbody tr th:only-of-type {\n",
       "        vertical-align: middle;\n",
       "    }\n",
       "\n",
       "    .dataframe tbody tr th {\n",
       "        vertical-align: top;\n",
       "    }\n",
       "\n",
       "    .dataframe thead th {\n",
       "        text-align: right;\n",
       "    }\n",
       "</style>\n",
       "<table border=\"1\" class=\"dataframe\">\n",
       "  <thead>\n",
       "    <tr style=\"text-align: right;\">\n",
       "      <th></th>\n",
       "      <th>title</th>\n",
       "      <th>genres</th>\n",
       "      <th>producer</th>\n",
       "      <th>studio</th>\n",
       "      <th>anime_source</th>\n",
       "      <th>anime_type</th>\n",
       "    </tr>\n",
       "  </thead>\n",
       "  <tbody>\n",
       "    <tr>\n",
       "      <th>0</th>\n",
       "      <td>Cowboy Bebop</td>\n",
       "      <td>[Action, Adventure, Comedy, Drama, SciFi, Space]</td>\n",
       "      <td>[Bandai Visual]</td>\n",
       "      <td>Sunrise</td>\n",
       "      <td>Original</td>\n",
       "      <td>TV</td>\n",
       "    </tr>\n",
       "    <tr>\n",
       "      <th>1</th>\n",
       "      <td>Cowboy Bebop Tengoku no Tobira</td>\n",
       "      <td>[Action, Space, Drama, Mystery, SciFi]</td>\n",
       "      <td>[Sunrise, Bandai Visual]</td>\n",
       "      <td>Bones</td>\n",
       "      <td>Original</td>\n",
       "      <td>Movie</td>\n",
       "    </tr>\n",
       "  </tbody>\n",
       "</table>\n",
       "</div>"
      ],
      "text/plain": [
       "                            title  \\\n",
       "0                    Cowboy Bebop   \n",
       "1  Cowboy Bebop Tengoku no Tobira   \n",
       "\n",
       "                                             genres                  producer  \\\n",
       "0  [Action, Adventure, Comedy, Drama, SciFi, Space]           [Bandai Visual]   \n",
       "1            [Action, Space, Drama, Mystery, SciFi]  [Sunrise, Bandai Visual]   \n",
       "\n",
       "    studio anime_source anime_type  \n",
       "0  Sunrise     Original         TV  \n",
       "1    Bones     Original      Movie  "
      ]
     },
     "execution_count": 13,
     "metadata": {},
     "output_type": "execute_result"
    }
   ],
   "source": [
    "#taking only the features we would be making use of\n",
    "features = ['genres','producer','studio','anime_source','anime_type']\n",
    "anime_rec1 = anime_data.copy()\n",
    "anime_rec1 = anime_rec1[['title','genres','producer','studio','anime_source','anime_type']]\n",
    "anime_rec1.head(2)"
   ]
  },
  {
   "cell_type": "markdown",
   "metadata": {},
   "source": [
    "Striping spaces between the words in the feature so that the vectorizer would not count the Chris in 'Chris Hemsworth' and\n",
    "'chris Evans' as the same. After the clean up they will be represemted as 'chrishemsworth' and 'chrisevans'."
   ]
  },
  {
   "cell_type": "code",
   "execution_count": 14,
   "metadata": {},
   "outputs": [],
   "source": [
    "# Function to convert all strings to lower case and strip names of spaces\n",
    "def clean_data(x):\n",
    "    if isinstance(x, list):\n",
    "        return [str.lower(i.replace(\" \", \"\")) for i in x]\n",
    "    else:\n",
    "        #Check if nothing exists. If not, return empty string\n",
    "        if isinstance(x, str):\n",
    "            return str.lower(x.replace(\" \", \"\"))\n",
    "        else:\n",
    "            return ''"
   ]
  },
  {
   "cell_type": "code",
   "execution_count": 15,
   "metadata": {},
   "outputs": [],
   "source": [
    "# Apply clean_data function to your features.\n",
    "for feature in features:\n",
    "    anime_rec1[feature] = anime_rec1[feature].apply(clean_data)"
   ]
  },
  {
   "cell_type": "code",
   "execution_count": 16,
   "metadata": {},
   "outputs": [
    {
     "data": {
      "text/html": [
       "<div>\n",
       "<style scoped>\n",
       "    .dataframe tbody tr th:only-of-type {\n",
       "        vertical-align: middle;\n",
       "    }\n",
       "\n",
       "    .dataframe tbody tr th {\n",
       "        vertical-align: top;\n",
       "    }\n",
       "\n",
       "    .dataframe thead th {\n",
       "        text-align: right;\n",
       "    }\n",
       "</style>\n",
       "<table border=\"1\" class=\"dataframe\">\n",
       "  <thead>\n",
       "    <tr style=\"text-align: right;\">\n",
       "      <th></th>\n",
       "      <th>title</th>\n",
       "      <th>genres</th>\n",
       "      <th>producer</th>\n",
       "      <th>studio</th>\n",
       "      <th>anime_source</th>\n",
       "      <th>anime_type</th>\n",
       "    </tr>\n",
       "  </thead>\n",
       "  <tbody>\n",
       "    <tr>\n",
       "      <th>0</th>\n",
       "      <td>Cowboy Bebop</td>\n",
       "      <td>[action, adventure, comedy, drama, scifi, space]</td>\n",
       "      <td>[bandaivisual]</td>\n",
       "      <td>sunrise</td>\n",
       "      <td>original</td>\n",
       "      <td>tv</td>\n",
       "    </tr>\n",
       "    <tr>\n",
       "      <th>1</th>\n",
       "      <td>Cowboy Bebop Tengoku no Tobira</td>\n",
       "      <td>[action, space, drama, mystery, scifi]</td>\n",
       "      <td>[sunrise, bandaivisual]</td>\n",
       "      <td>bones</td>\n",
       "      <td>original</td>\n",
       "      <td>movie</td>\n",
       "    </tr>\n",
       "  </tbody>\n",
       "</table>\n",
       "</div>"
      ],
      "text/plain": [
       "                            title  \\\n",
       "0                    Cowboy Bebop   \n",
       "1  Cowboy Bebop Tengoku no Tobira   \n",
       "\n",
       "                                             genres                 producer  \\\n",
       "0  [action, adventure, comedy, drama, scifi, space]           [bandaivisual]   \n",
       "1            [action, space, drama, mystery, scifi]  [sunrise, bandaivisual]   \n",
       "\n",
       "    studio anime_source anime_type  \n",
       "0  sunrise     original         tv  \n",
       "1    bones     original      movie  "
      ]
     },
     "execution_count": 16,
     "metadata": {},
     "output_type": "execute_result"
    }
   ],
   "source": [
    "anime_rec1.head(2)"
   ]
  },
  {
   "cell_type": "markdown",
   "metadata": {},
   "source": [
    "Creating a soup which is a string that will contain all the features to be fed to the vectorizer"
   ]
  },
  {
   "cell_type": "code",
   "execution_count": 17,
   "metadata": {},
   "outputs": [],
   "source": [
    "def create_soup(x):\n",
    "    return ' '.join(x['genres']) + ' ' +' '.join(x['producer']) + ' ' + ' '.join(x['studio']) + ' '+\\\n",
    "                ' '.join(x['anime_source']) + ' '  + ' '.join(x['anime_type'])"
   ]
  },
  {
   "cell_type": "code",
   "execution_count": 18,
   "metadata": {},
   "outputs": [],
   "source": [
    "# Create a new soup feature\n",
    "anime_rec1['soup'] = anime_rec1.apply(create_soup, axis=1)"
   ]
  },
  {
   "cell_type": "code",
   "execution_count": 19,
   "metadata": {},
   "outputs": [
    {
     "data": {
      "text/html": [
       "<div>\n",
       "<style scoped>\n",
       "    .dataframe tbody tr th:only-of-type {\n",
       "        vertical-align: middle;\n",
       "    }\n",
       "\n",
       "    .dataframe tbody tr th {\n",
       "        vertical-align: top;\n",
       "    }\n",
       "\n",
       "    .dataframe thead th {\n",
       "        text-align: right;\n",
       "    }\n",
       "</style>\n",
       "<table border=\"1\" class=\"dataframe\">\n",
       "  <thead>\n",
       "    <tr style=\"text-align: right;\">\n",
       "      <th></th>\n",
       "      <th>title</th>\n",
       "      <th>genres</th>\n",
       "      <th>producer</th>\n",
       "      <th>studio</th>\n",
       "      <th>anime_source</th>\n",
       "      <th>anime_type</th>\n",
       "      <th>soup</th>\n",
       "    </tr>\n",
       "  </thead>\n",
       "  <tbody>\n",
       "    <tr>\n",
       "      <th>0</th>\n",
       "      <td>Cowboy Bebop</td>\n",
       "      <td>[action, adventure, comedy, drama, scifi, space]</td>\n",
       "      <td>[bandaivisual]</td>\n",
       "      <td>sunrise</td>\n",
       "      <td>original</td>\n",
       "      <td>tv</td>\n",
       "      <td>action adventure comedy drama scifi space band...</td>\n",
       "    </tr>\n",
       "    <tr>\n",
       "      <th>1</th>\n",
       "      <td>Cowboy Bebop Tengoku no Tobira</td>\n",
       "      <td>[action, space, drama, mystery, scifi]</td>\n",
       "      <td>[sunrise, bandaivisual]</td>\n",
       "      <td>bones</td>\n",
       "      <td>original</td>\n",
       "      <td>movie</td>\n",
       "      <td>action space drama mystery scifi sunrise banda...</td>\n",
       "    </tr>\n",
       "  </tbody>\n",
       "</table>\n",
       "</div>"
      ],
      "text/plain": [
       "                            title  \\\n",
       "0                    Cowboy Bebop   \n",
       "1  Cowboy Bebop Tengoku no Tobira   \n",
       "\n",
       "                                             genres                 producer  \\\n",
       "0  [action, adventure, comedy, drama, scifi, space]           [bandaivisual]   \n",
       "1            [action, space, drama, mystery, scifi]  [sunrise, bandaivisual]   \n",
       "\n",
       "    studio anime_source anime_type  \\\n",
       "0  sunrise     original         tv   \n",
       "1    bones     original      movie   \n",
       "\n",
       "                                                soup  \n",
       "0  action adventure comedy drama scifi space band...  \n",
       "1  action space drama mystery scifi sunrise banda...  "
      ]
     },
     "execution_count": 19,
     "metadata": {},
     "output_type": "execute_result"
    }
   ],
   "source": [
    "anime_rec1.head(2)"
   ]
  },
  {
   "cell_type": "markdown",
   "metadata": {},
   "source": [
    "We make use of the CountVectorizer library. This is to ensure there is no down weighting of any of the elemnets. Even if appeared more than once it will be considered. This will give us a matrix where each column represents a word in the overview vocabulary (all the words that appear in at least one document), and each row represents an anime, as before."
   ]
  },
  {
   "cell_type": "code",
   "execution_count": 21,
   "metadata": {},
   "outputs": [],
   "source": [
    "# Import CountVectorizer and create the count matrix\n",
    "from sklearn.feature_extraction.text import CountVectorizer\n",
    "\n",
    "count = CountVectorizer(stop_words='english')\n",
    "count_matrix = count.fit_transform(anime_rec1['soup'])"
   ]
  },
  {
   "cell_type": "code",
   "execution_count": 22,
   "metadata": {},
   "outputs": [
    {
     "data": {
      "text/plain": [
       "(12706, 1120)"
      ]
     },
     "execution_count": 22,
     "metadata": {},
     "output_type": "execute_result"
    }
   ],
   "source": [
    "count_matrix.shape"
   ]
  },
  {
   "cell_type": "markdown",
   "metadata": {},
   "source": [
    "From the above, there are 1120 vocabularies in the metadata that you fed to it.\n",
    "Next, we will use the cosine_similarity to measure the distance between the embeddings."
   ]
  },
  {
   "cell_type": "code",
   "execution_count": 23,
   "metadata": {},
   "outputs": [],
   "source": [
    "# Compute the Cosine Similarity matrix based on the count_matrix\n",
    "from sklearn.metrics.pairwise import cosine_similarity\n",
    "\n",
    "cosine_sim1 = cosine_similarity(count_matrix, count_matrix)"
   ]
  },
  {
   "cell_type": "markdown",
   "metadata": {},
   "source": [
    "We create a function to get top 10 similar animes, based on it's features"
   ]
  },
  {
   "cell_type": "code",
   "execution_count": 24,
   "metadata": {},
   "outputs": [],
   "source": [
    "#Construct a reverse map of indices and anime titles\n",
    "indices = pd.Series(anime_rec1.index, index=anime_rec1['title']).drop_duplicates()"
   ]
  },
  {
   "cell_type": "code",
   "execution_count": 25,
   "metadata": {},
   "outputs": [
    {
     "data": {
      "text/plain": [
       "title\n",
       "Cowboy Bebop                      0\n",
       "Cowboy Bebop Tengoku no Tobira    1\n",
       "Trigun                            2\n",
       "Witch Hunter Robin                3\n",
       "Bouken Ou Beet                    4\n",
       "dtype: int64"
      ]
     },
     "execution_count": 25,
     "metadata": {},
     "output_type": "execute_result"
    }
   ],
   "source": [
    "indices.head()"
   ]
  },
  {
   "cell_type": "code",
   "execution_count": 26,
   "metadata": {},
   "outputs": [],
   "source": [
    "# Function that takes in anime title as input and outputs most similar anime\n",
    "def get_recommendations(title, cosine_sim=cosine_sim1):\n",
    "    # Get the index of the anime that matches the title\n",
    "    idx = indices[title]\n",
    "\n",
    "    # Get the pairwsie similarity scores of all anime with that anime\n",
    "    sim_scores = list(enumerate(cosine_sim[idx]))\n",
    "\n",
    "    # Sort the anime based on the similarity scores\n",
    "    sim_scores = sorted(sim_scores, key=lambda x: x[1], reverse=True)\n",
    "\n",
    "    # Get the scores of the 10 most similar anime\n",
    "    sim_scores = sim_scores[1:11]\n",
    "\n",
    "    # Get the anime indices\n",
    "    anime_indices = [i[0] for i in sim_scores]\n",
    "\n",
    "    # Return the top 10 most similar anime\n",
    "    return anime_rec1['title'].iloc[anime_indices]"
   ]
  },
  {
   "cell_type": "markdown",
   "metadata": {},
   "source": [
    "# Testing with Naruto"
   ]
  },
  {
   "cell_type": "code",
   "execution_count": 27,
   "metadata": {},
   "outputs": [
    {
     "name": "stdout",
     "output_type": "stream",
     "text": [
      "1434                                     Naruto Shippuuden\n",
      "5551               Naruto Shippuuden Movie 5  Blood Prison\n",
      "5585     Naruto Honoo no Chuunin Shiken Naruto vs. Kono...\n",
      "10145                                     D.Grayman Hallow\n",
      "245                                                 Bleach\n",
      "6483                             The Last Naruto the Movie\n",
      "8671                               Boruto Naruto the Movie\n",
      "11643                       Boruto Jump Festa 2016 Special\n",
      "8483                                         Nano Invaders\n",
      "2100                             Naruto Shippuuden Movie 1\n",
      "Name: title, dtype: object\n"
     ]
    }
   ],
   "source": [
    "recommendations = get_recommendations('Naruto')\n",
    "print(recommendations)"
   ]
  },
  {
   "cell_type": "markdown",
   "metadata": {},
   "source": [
    "# Recommendation based on storyline"
   ]
  },
  {
   "cell_type": "code",
   "execution_count": 28,
   "metadata": {},
   "outputs": [],
   "source": [
    "#making a copy of the data\n",
    "anime_rec2 = anime_data.copy()\n",
    "anime_rec2 = anime_rec2[['title','synopsis']]"
   ]
  },
  {
   "cell_type": "code",
   "execution_count": 29,
   "metadata": {},
   "outputs": [
    {
     "data": {
      "text/html": [
       "<div>\n",
       "<style scoped>\n",
       "    .dataframe tbody tr th:only-of-type {\n",
       "        vertical-align: middle;\n",
       "    }\n",
       "\n",
       "    .dataframe tbody tr th {\n",
       "        vertical-align: top;\n",
       "    }\n",
       "\n",
       "    .dataframe thead th {\n",
       "        text-align: right;\n",
       "    }\n",
       "</style>\n",
       "<table border=\"1\" class=\"dataframe\">\n",
       "  <thead>\n",
       "    <tr style=\"text-align: right;\">\n",
       "      <th></th>\n",
       "      <th>title</th>\n",
       "      <th>synopsis</th>\n",
       "    </tr>\n",
       "  </thead>\n",
       "  <tbody>\n",
       "    <tr>\n",
       "      <th>0</th>\n",
       "      <td>Cowboy Bebop</td>\n",
       "      <td>In the year 2071, humanity has colonized sever...</td>\n",
       "    </tr>\n",
       "    <tr>\n",
       "      <th>1</th>\n",
       "      <td>Cowboy Bebop Tengoku no Tobira</td>\n",
       "      <td>Another day, another bountysuch is the life of...</td>\n",
       "    </tr>\n",
       "  </tbody>\n",
       "</table>\n",
       "</div>"
      ],
      "text/plain": [
       "                            title  \\\n",
       "0                    Cowboy Bebop   \n",
       "1  Cowboy Bebop Tengoku no Tobira   \n",
       "\n",
       "                                            synopsis  \n",
       "0  In the year 2071, humanity has colonized sever...  \n",
       "1  Another day, another bountysuch is the life of...  "
      ]
     },
     "execution_count": 29,
     "metadata": {},
     "output_type": "execute_result"
    }
   ],
   "source": [
    "anime_rec2.head(2)"
   ]
  },
  {
   "cell_type": "code",
   "execution_count": 30,
   "metadata": {},
   "outputs": [
    {
     "data": {
      "text/plain": [
       "(12706, 29021)"
      ]
     },
     "execution_count": 30,
     "metadata": {},
     "output_type": "execute_result"
    }
   ],
   "source": [
    "#converting the synopsis column to word vector\n",
    "from sklearn.feature_extraction.text import TfidfVectorizer\n",
    "\n",
    "# Using Abhishek Thakur's arguments for TF-IDF\n",
    "tfv = TfidfVectorizer(min_df=3,  max_features=None, \n",
    "            strip_accents='unicode', analyzer='word',token_pattern=r'\\w{1,}',\n",
    "            ngram_range=(1, 3), use_idf=1,smooth_idf=1,sublinear_tf=1,\n",
    "            stop_words = 'english')\n",
    "\n",
    "# Filling NaNs with empty string\n",
    "anime_rec2['synopsis'] = anime_rec2['synopsis'].fillna('')\n",
    "\n",
    "# Fitting the TF-IDF on the 'overview' text\n",
    "tfv_matrix = tfv.fit_transform(anime_rec2['synopsis'])\n",
    "\n",
    "tfv_matrix.shape"
   ]
  },
  {
   "cell_type": "markdown",
   "metadata": {},
   "source": [
    "So about 29,000 unique words were used in the plot summaries to describe our 12,000 movies"
   ]
  },
  {
   "cell_type": "code",
   "execution_count": 31,
   "metadata": {},
   "outputs": [],
   "source": [
    "#calculating similarity scores\n",
    "from sklearn.metrics.pairwise import linear_kernel\n",
    "\n",
    "# Compute the cosine similarity matrix using linear kernel\n",
    "cos_sim2 = linear_kernel(tfv_matrix, tfv_matrix)"
   ]
  },
  {
   "cell_type": "code",
   "execution_count": 32,
   "metadata": {},
   "outputs": [
    {
     "data": {
      "text/plain": [
       "(12706, 12706)"
      ]
     },
     "execution_count": 32,
     "metadata": {},
     "output_type": "execute_result"
    }
   ],
   "source": [
    "cos_sim2.shape"
   ]
  },
  {
   "cell_type": "markdown",
   "metadata": {},
   "source": [
    "We define a function that takes in an anime title as an input and outputs a list of the 10 most similar animes. Firstly, for this, you need a reverse mapping of anime titles and DataFrame "
   ]
  },
  {
   "cell_type": "code",
   "execution_count": 33,
   "metadata": {},
   "outputs": [],
   "source": [
    "# Reverse mapping of indices and movie titles\n",
    "indices = pd.Series(anime_rec2.index, index=anime_rec2['title']).drop_duplicates()"
   ]
  },
  {
   "cell_type": "code",
   "execution_count": 34,
   "metadata": {},
   "outputs": [],
   "source": [
    "# Credit to Ibtesam Ahmed for the skeleton code\n",
    "def get_recommendations(title, sig=cos_sim2):\n",
    "    # Get the index corresponding to original_title\n",
    "    idx = indices[title]\n",
    "\n",
    "    # Get the pairwsie similarity scores \n",
    "    sig_scores = list(enumerate(sig[idx]))\n",
    "\n",
    "    # Sort the movies \n",
    "    sig_scores = sorted(sig_scores, key=lambda x: x[1], reverse=True)\n",
    "\n",
    "    # Scores of the 10 most similar movies\n",
    "    sig_scores = sig_scores[1:11]\n",
    "\n",
    "    # Movie indices\n",
    "    movie_indices = [i[0] for i in sig_scores]\n",
    "\n",
    "    # Top 10 most similar movies\n",
    "    return anime_rec2['title'].iloc[movie_indices]"
   ]
  },
  {
   "cell_type": "markdown",
   "metadata": {},
   "source": [
    "# Testing with Naruto"
   ]
  },
  {
   "cell_type": "code",
   "execution_count": 35,
   "metadata": {},
   "outputs": [
    {
     "name": "stdout",
     "output_type": "stream",
     "text": [
      "1434                                    Naruto Shippuuden\n",
      "8671                              Boruto Naruto the Movie\n",
      "6003       Naruto SD Rock Lee no Seishun FullPower Ninden\n",
      "504     Naruto Takigakure no Shitou  Ore ga Eiyuu Datt...\n",
      "6483                            The Last Naruto the Movie\n",
      "3240         Naruto Shippuuden  Shippuu Konoha Gakuen Den\n",
      "5551              Naruto Shippuuden Movie 5  Blood Prison\n",
      "5585    Naruto Honoo no Chuunin Shiken Naruto vs. Kono...\n",
      "2100                            Naruto Shippuuden Movie 1\n",
      "4139    Naruto Shippuuden Movie 3  Hi no Ishi wo Tsugu...\n",
      "Name: title, dtype: object\n"
     ]
    }
   ],
   "source": [
    "recommendations = get_recommendations('Naruto')\n",
    "print(recommendations)"
   ]
  },
  {
   "cell_type": "code",
   "execution_count": 36,
   "metadata": {},
   "outputs": [],
   "source": [
    "#writing a function to get recommendations using both storyline and features based on 50% for both\n",
    "def get_recommendations_both(title, cos_sim1, cos_sim2):\n",
    "  # Get the index of the movie that matches the title\n",
    "  idx = indices[title]\n",
    "\n",
    "  # Get the pairwsie similarity scores of all anime using similarity1\n",
    "  sim_scores1 = list(enumerate(cos_sim1[idx]))\n",
    "\n",
    "  # Get the pairwsie similarity scores of all anime using similarity1\n",
    "  sim_scores2 = list(enumerate(cos_sim2[idx]))\n",
    "\n",
    "  #Getting the average of both similarity scores\n",
    "  sim_scores_avg = [(sim_scores1[i][0],(sim_scores1[i][1] + sim_scores2[i][1])/2) for i in range(len(sim_scores1))]\n",
    "\n",
    "  # Sort the movies based on the similarity scores\n",
    "  sim_scores_avg = sorted(sim_scores_avg, key=lambda x: x[1], reverse=True)\n",
    "\n",
    "  #Get the scores of the 10 most similar movies\n",
    "  sim_scores_avg = sim_scores_avg[1:11]\n",
    "\n",
    "  #Get the movie indices\n",
    "  anime_indices = [i[0] for i in sim_scores_avg]\n",
    "\n",
    "  #Return the top 10 most similar movies\n",
    "  return anime_data['title'].iloc[anime_indices]"
   ]
  },
  {
   "cell_type": "code",
   "execution_count": 38,
   "metadata": {},
   "outputs": [
    {
     "data": {
      "text/plain": [
       "1434                                     Naruto Shippuuden\n",
       "8671                               Boruto Naruto the Movie\n",
       "5551               Naruto Shippuuden Movie 5  Blood Prison\n",
       "5585     Naruto Honoo no Chuunin Shiken Naruto vs. Kono...\n",
       "6483                             The Last Naruto the Movie\n",
       "504      Naruto Takigakure no Shitou  Ore ga Eiyuu Datt...\n",
       "2100                             Naruto Shippuuden Movie 1\n",
       "6003        Naruto SD Rock Lee no Seishun FullPower Ninden\n",
       "10145                                     D.Grayman Hallow\n",
       "4139     Naruto Shippuuden Movie 3  Hi no Ishi wo Tsugu...\n",
       "Name: title, dtype: object"
      ]
     },
     "execution_count": 38,
     "metadata": {},
     "output_type": "execute_result"
    }
   ],
   "source": [
    "get_recommendations_both('Naruto',cosine_sim1,cos_sim2)"
   ]
  },
  {
   "cell_type": "code",
   "execution_count": null,
   "metadata": {},
   "outputs": [],
   "source": []
  }
 ],
 "metadata": {
  "kernelspec": {
   "display_name": "Python 3",
   "language": "python",
   "name": "python3"
  },
  "language_info": {
   "codemirror_mode": {
    "name": "ipython",
    "version": 3
   },
   "file_extension": ".py",
   "mimetype": "text/x-python",
   "name": "python",
   "nbconvert_exporter": "python",
   "pygments_lexer": "ipython3",
   "version": "3.6.9"
  }
 },
 "nbformat": 4,
 "nbformat_minor": 2
}
