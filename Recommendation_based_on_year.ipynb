{
 "cells": [
  {
   "cell_type": "code",
   "execution_count": 1,
   "metadata": {},
   "outputs": [],
   "source": [
    "#importing necessary libraries\n",
    "import pandas as pd\n",
    "import numpy as np\n",
    "import matplotlib.pyplot as plt\n",
    "import seaborn as sns\n",
    "%matplotlib inline"
   ]
  },
  {
   "cell_type": "code",
   "execution_count": 2,
   "metadata": {},
   "outputs": [],
   "source": [
    "#loading the dataset\n",
    "anime_data = pd.read_csv('Anime_data.csv')"
   ]
  },
  {
   "cell_type": "code",
   "execution_count": 3,
   "metadata": {},
   "outputs": [
    {
     "data": {
      "text/html": [
       "<div>\n",
       "<style scoped>\n",
       "    .dataframe tbody tr th:only-of-type {\n",
       "        vertical-align: middle;\n",
       "    }\n",
       "\n",
       "    .dataframe tbody tr th {\n",
       "        vertical-align: top;\n",
       "    }\n",
       "\n",
       "    .dataframe thead th {\n",
       "        text-align: right;\n",
       "    }\n",
       "</style>\n",
       "<table border=\"1\" class=\"dataframe\">\n",
       "  <thead>\n",
       "    <tr style=\"text-align: right;\">\n",
       "      <th></th>\n",
       "      <th>Anime_id</th>\n",
       "      <th>Title</th>\n",
       "      <th>Genre</th>\n",
       "      <th>Synopsis</th>\n",
       "      <th>Type</th>\n",
       "      <th>Producer</th>\n",
       "      <th>Studio</th>\n",
       "      <th>Rating</th>\n",
       "      <th>ScoredBy</th>\n",
       "      <th>Popularity</th>\n",
       "      <th>Members</th>\n",
       "      <th>Episodes</th>\n",
       "      <th>Source</th>\n",
       "      <th>Aired</th>\n",
       "      <th>Link</th>\n",
       "    </tr>\n",
       "  </thead>\n",
       "  <tbody>\n",
       "    <tr>\n",
       "      <th>0</th>\n",
       "      <td>1</td>\n",
       "      <td>Cowboy Bebop</td>\n",
       "      <td>['Action', 'Adventure', 'Comedy', 'Drama', 'Sc...</td>\n",
       "      <td>In the year 2071, humanity has colonized sever...</td>\n",
       "      <td>TV</td>\n",
       "      <td>['Bandai Visual']</td>\n",
       "      <td>['Sunrise']</td>\n",
       "      <td>8.81</td>\n",
       "      <td>363889.0</td>\n",
       "      <td>39.0</td>\n",
       "      <td>704490.0</td>\n",
       "      <td>26.0</td>\n",
       "      <td>Original</td>\n",
       "      <td>Apr 3, 1998 to Apr 24, 1999</td>\n",
       "      <td>https://myanimelist.net/anime/1/Cowboy_Bebop</td>\n",
       "    </tr>\n",
       "    <tr>\n",
       "      <th>1</th>\n",
       "      <td>5</td>\n",
       "      <td>Cowboy Bebop: Tengoku no Tobira</td>\n",
       "      <td>['Action', 'Space', 'Drama', 'Mystery', 'Sci-Fi']</td>\n",
       "      <td>Another day, another bounty—such is the life o...</td>\n",
       "      <td>Movie</td>\n",
       "      <td>['Sunrise', 'Bandai Visual']</td>\n",
       "      <td>['Bones']</td>\n",
       "      <td>8.41</td>\n",
       "      <td>111187.0</td>\n",
       "      <td>475.0</td>\n",
       "      <td>179899.0</td>\n",
       "      <td>1.0</td>\n",
       "      <td>Original</td>\n",
       "      <td>Sep 1, 2001</td>\n",
       "      <td>https://myanimelist.net/anime/5/Cowboy_Bebop__...</td>\n",
       "    </tr>\n",
       "  </tbody>\n",
       "</table>\n",
       "</div>"
      ],
      "text/plain": [
       "   Anime_id                            Title  \\\n",
       "0         1                     Cowboy Bebop   \n",
       "1         5  Cowboy Bebop: Tengoku no Tobira   \n",
       "\n",
       "                                               Genre  \\\n",
       "0  ['Action', 'Adventure', 'Comedy', 'Drama', 'Sc...   \n",
       "1  ['Action', 'Space', 'Drama', 'Mystery', 'Sci-Fi']   \n",
       "\n",
       "                                            Synopsis   Type  \\\n",
       "0  In the year 2071, humanity has colonized sever...     TV   \n",
       "1  Another day, another bounty—such is the life o...  Movie   \n",
       "\n",
       "                       Producer       Studio  Rating  ScoredBy  Popularity  \\\n",
       "0             ['Bandai Visual']  ['Sunrise']    8.81  363889.0        39.0   \n",
       "1  ['Sunrise', 'Bandai Visual']    ['Bones']    8.41  111187.0       475.0   \n",
       "\n",
       "    Members  Episodes    Source                        Aired  \\\n",
       "0  704490.0      26.0  Original  Apr 3, 1998 to Apr 24, 1999   \n",
       "1  179899.0       1.0  Original                  Sep 1, 2001   \n",
       "\n",
       "                                                Link  \n",
       "0       https://myanimelist.net/anime/1/Cowboy_Bebop  \n",
       "1  https://myanimelist.net/anime/5/Cowboy_Bebop__...  "
      ]
     },
     "execution_count": 3,
     "metadata": {},
     "output_type": "execute_result"
    }
   ],
   "source": [
    "anime_data.head(2)"
   ]
  },
  {
   "cell_type": "code",
   "execution_count": 4,
   "metadata": {},
   "outputs": [
    {
     "data": {
      "text/html": [
       "<div>\n",
       "<style scoped>\n",
       "    .dataframe tbody tr th:only-of-type {\n",
       "        vertical-align: middle;\n",
       "    }\n",
       "\n",
       "    .dataframe tbody tr th {\n",
       "        vertical-align: top;\n",
       "    }\n",
       "\n",
       "    .dataframe thead th {\n",
       "        text-align: right;\n",
       "    }\n",
       "</style>\n",
       "<table border=\"1\" class=\"dataframe\">\n",
       "  <thead>\n",
       "    <tr style=\"text-align: right;\">\n",
       "      <th></th>\n",
       "      <th>Anime_id</th>\n",
       "      <th>Title</th>\n",
       "      <th>Rating</th>\n",
       "      <th>ScoredBy</th>\n",
       "      <th>Popularity</th>\n",
       "      <th>Members</th>\n",
       "      <th>Aired</th>\n",
       "    </tr>\n",
       "  </thead>\n",
       "  <tbody>\n",
       "    <tr>\n",
       "      <th>0</th>\n",
       "      <td>1</td>\n",
       "      <td>Cowboy Bebop</td>\n",
       "      <td>8.81</td>\n",
       "      <td>363889.0</td>\n",
       "      <td>39.0</td>\n",
       "      <td>704490.0</td>\n",
       "      <td>Apr 3, 1998 to Apr 24, 1999</td>\n",
       "    </tr>\n",
       "    <tr>\n",
       "      <th>1</th>\n",
       "      <td>5</td>\n",
       "      <td>Cowboy Bebop: Tengoku no Tobira</td>\n",
       "      <td>8.41</td>\n",
       "      <td>111187.0</td>\n",
       "      <td>475.0</td>\n",
       "      <td>179899.0</td>\n",
       "      <td>Sep 1, 2001</td>\n",
       "    </tr>\n",
       "  </tbody>\n",
       "</table>\n",
       "</div>"
      ],
      "text/plain": [
       "   Anime_id                            Title  Rating  ScoredBy  Popularity  \\\n",
       "0         1                     Cowboy Bebop    8.81  363889.0        39.0   \n",
       "1         5  Cowboy Bebop: Tengoku no Tobira    8.41  111187.0       475.0   \n",
       "\n",
       "    Members                        Aired  \n",
       "0  704490.0  Apr 3, 1998 to Apr 24, 1999  \n",
       "1  179899.0                  Sep 1, 2001  "
      ]
     },
     "execution_count": 4,
     "metadata": {},
     "output_type": "execute_result"
    }
   ],
   "source": [
    "#droping the columns that won't be used\n",
    "anime_data = anime_data.drop(columns=['Genre','Synopsis','Type','Producer','Studio','Episodes','Source','Link'])\n",
    "anime_data.head(2)"
   ]
  },
  {
   "cell_type": "code",
   "execution_count": 5,
   "metadata": {},
   "outputs": [],
   "source": [
    "#renaming the columns\n",
    "anime_data = anime_data.rename(columns={'Anime_id': 'anime_id', 'Title': 'title','Rating':'rating','ScoredBy':'scored_by',\n",
    "                                        'Popularity':'popularity','Members':'members','Aired':'aired'})"
   ]
  },
  {
   "cell_type": "code",
   "execution_count": 6,
   "metadata": {},
   "outputs": [
    {
     "data": {
      "text/plain": [
       "(17002, 7)"
      ]
     },
     "execution_count": 6,
     "metadata": {},
     "output_type": "execute_result"
    }
   ],
   "source": [
    "#shape of the data\n",
    "anime_data.shape"
   ]
  },
  {
   "cell_type": "code",
   "execution_count": 7,
   "metadata": {},
   "outputs": [
    {
     "data": {
      "text/plain": [
       "anime_id        int64\n",
       "title          object\n",
       "rating        float64\n",
       "scored_by     float64\n",
       "popularity    float64\n",
       "members       float64\n",
       "aired          object\n",
       "dtype: object"
      ]
     },
     "execution_count": 7,
     "metadata": {},
     "output_type": "execute_result"
    }
   ],
   "source": [
    "#checking the data type f each column\n",
    "anime_data.dtypes"
   ]
  },
  {
   "cell_type": "code",
   "execution_count": 8,
   "metadata": {},
   "outputs": [
    {
     "data": {
      "text/plain": [
       "anime_id         0\n",
       "title            0\n",
       "rating        2577\n",
       "scored_by     3775\n",
       "popularity     634\n",
       "members          0\n",
       "aired          634\n",
       "dtype: int64"
      ]
     },
     "execution_count": 8,
     "metadata": {},
     "output_type": "execute_result"
    }
   ],
   "source": [
    "#checking for null values\n",
    "anime_data.isnull().sum()"
   ]
  },
  {
   "cell_type": "code",
   "execution_count": 9,
   "metadata": {},
   "outputs": [],
   "source": [
    "#dropping the null values\n",
    "anime_data.dropna(how = 'any', inplace = True)"
   ]
  },
  {
   "cell_type": "code",
   "execution_count": 10,
   "metadata": {},
   "outputs": [
    {
     "data": {
      "text/plain": [
       "(13022, 7)"
      ]
     },
     "execution_count": 10,
     "metadata": {},
     "output_type": "execute_result"
    }
   ],
   "source": [
    "#checking the shape after dropping the null values\n",
    "anime_data.shape"
   ]
  },
  {
   "cell_type": "code",
   "execution_count": 11,
   "metadata": {},
   "outputs": [
    {
     "data": {
      "text/plain": [
       "0      Apr 3, 1998 to Apr 24, 1999\n",
       "1                      Sep 1, 2001\n",
       "2      Apr 1, 1998 to Sep 30, 1998\n",
       "3      Jul 2, 2002 to Dec 24, 2002\n",
       "4     Sep 30, 2004 to Sep 29, 2005\n",
       "5      Apr 6, 2005 to Mar 19, 2008\n",
       "6     Apr 15, 2005 to Sep 27, 2005\n",
       "7     Sep 11, 2002 to Sep 10, 2003\n",
       "8     Apr 17, 2004 to Feb 18, 2006\n",
       "9      Apr 7, 2004 to Sep 28, 2005\n",
       "10      Oct 3, 2002 to Feb 8, 2007\n",
       "11               Oct 20, 1999 to ?\n",
       "Name: aired, dtype: object"
      ]
     },
     "execution_count": 11,
     "metadata": {},
     "output_type": "execute_result"
    }
   ],
   "source": [
    "#checking out the aired column\n",
    "anime_data['aired'].head(12)"
   ]
  },
  {
   "cell_type": "code",
   "execution_count": 12,
   "metadata": {},
   "outputs": [
    {
     "data": {
      "text/plain": [
       "aired\n",
       "Sep 9, 2016               2\n",
       "Sep 9, 2017               1\n",
       "Sep, 1949                 1\n",
       "Sep, 1988                 1\n",
       "Sep, 1997                 1\n",
       "Sep, 2002 to Jul, 2004    1\n",
       "Sep, 2007                 1\n",
       "Sep, 2008                 1\n",
       "Sep, 2009                 1\n",
       "Sep, 2012                 1\n",
       "Name: title, dtype: int64"
      ]
     },
     "execution_count": 12,
     "metadata": {},
     "output_type": "execute_result"
    }
   ],
   "source": [
    "#checking the number of animes aired on the same day\n",
    "b = anime_data.groupby('aired')['title'].count()\n",
    "b.tail(10)"
   ]
  },
  {
   "cell_type": "code",
   "execution_count": 13,
   "metadata": {},
   "outputs": [],
   "source": [
    "#function to remove speacial characters\n",
    "import re\n",
    "def clean_up_special(s):\n",
    "  new_s = re.sub(r\"[^\\sa-zA-Z0-9\\.\\,\\;]\",\"\",str(s))\n",
    "  return new_s"
   ]
  },
  {
   "cell_type": "code",
   "execution_count": 14,
   "metadata": {},
   "outputs": [],
   "source": [
    "#cleaning the aired column\n",
    "anime_data['aired'] = anime_data['aired'].apply(clean_up_special)"
   ]
  },
  {
   "cell_type": "code",
   "execution_count": 15,
   "metadata": {},
   "outputs": [],
   "source": [
    "#a function to remove the month\n",
    "import re\n",
    "def clean_up_month(s):\n",
    "  new_s = re.sub(r\"Jan|Feb|Mar|Apr|May|Jun|Jul|Aug|Sep|Oct|Nov|Dec|to|Not|available\",\"\",str(s))\n",
    "  return new_s"
   ]
  },
  {
   "cell_type": "code",
   "execution_count": 16,
   "metadata": {},
   "outputs": [],
   "source": [
    "#removing month from the aired column\n",
    "anime_data['aired'] = anime_data['aired'].apply(clean_up_month)"
   ]
  },
  {
   "cell_type": "code",
   "execution_count": 17,
   "metadata": {},
   "outputs": [
    {
     "data": {
      "text/plain": [
       "0      3, 1998   24, 1999\n",
       "1                 1, 2001\n",
       "2      1, 1998   30, 1998\n",
       "3      2, 2002   24, 2002\n",
       "4     30, 2004   29, 2005\n",
       "Name: aired, dtype: object"
      ]
     },
     "execution_count": 17,
     "metadata": {},
     "output_type": "execute_result"
    }
   ],
   "source": [
    "#checking the column to see if the characters were removed\n",
    "anime_data['aired'].head()"
   ]
  },
  {
   "cell_type": "code",
   "execution_count": 18,
   "metadata": {},
   "outputs": [],
   "source": [
    "#function to remove commas joined with a number\n",
    "import re\n",
    "def clean_up_comma(s):\n",
    "  new_s = re.sub('[\\,]',\"\",str(s))\n",
    "  return new_s"
   ]
  },
  {
   "cell_type": "code",
   "execution_count": 19,
   "metadata": {},
   "outputs": [],
   "source": [
    "#applying the clean comma function to the aired column\n",
    "anime_data['aired'] = anime_data['aired'].apply(clean_up_comma)"
   ]
  },
  {
   "cell_type": "code",
   "execution_count": 20,
   "metadata": {},
   "outputs": [],
   "source": [
    "# creating a function to split the values in the aired column by ' '\n",
    "def split_column(x):\n",
    "  return x.split(' ')"
   ]
  },
  {
   "cell_type": "code",
   "execution_count": 21,
   "metadata": {},
   "outputs": [],
   "source": [
    "#splting the elements in the aired column by space\n",
    "anime_data['aired'] = anime_data['aired'].apply(split_column)"
   ]
  },
  {
   "cell_type": "code",
   "execution_count": 22,
   "metadata": {},
   "outputs": [
    {
     "data": {
      "text/plain": [
       "['', '3', '1998', '', '', '24', '1999']"
      ]
     },
     "execution_count": 22,
     "metadata": {},
     "output_type": "execute_result"
    }
   ],
   "source": [
    "anime_data['aired'][0]"
   ]
  },
  {
   "cell_type": "code",
   "execution_count": 23,
   "metadata": {},
   "outputs": [],
   "source": [
    "#writing a function to remove all empty spaces in the list\n",
    "def remove_empty(x):\n",
    "    for i in x:\n",
    "        if i == '':\n",
    "            index = x.index(i)\n",
    "            del x[index]\n",
    "    return x        "
   ]
  },
  {
   "cell_type": "code",
   "execution_count": 24,
   "metadata": {},
   "outputs": [],
   "source": [
    "anime_data['aired'] = anime_data['aired'].apply(remove_empty)"
   ]
  },
  {
   "cell_type": "code",
   "execution_count": 25,
   "metadata": {},
   "outputs": [
    {
     "data": {
      "text/plain": [
       "['3', '1998', '', '24', '1999']"
      ]
     },
     "execution_count": 25,
     "metadata": {},
     "output_type": "execute_result"
    }
   ],
   "source": [
    "anime_data['aired'][0]"
   ]
  },
  {
   "cell_type": "code",
   "execution_count": 26,
   "metadata": {},
   "outputs": [],
   "source": [
    "#to further ensure removal of all empty elements\n",
    "anime_data['aired'] = anime_data['aired'].apply(remove_empty)"
   ]
  },
  {
   "cell_type": "code",
   "execution_count": 27,
   "metadata": {},
   "outputs": [
    {
     "data": {
      "text/plain": [
       "['3', '1998', '24', '1999']"
      ]
     },
     "execution_count": 27,
     "metadata": {},
     "output_type": "execute_result"
    }
   ],
   "source": [
    "anime_data['aired'][0]"
   ]
  },
  {
   "cell_type": "code",
   "execution_count": 28,
   "metadata": {},
   "outputs": [],
   "source": [
    "#writing a function that will remove elements in the column that is not a year\n",
    "def not_year(x):\n",
    "    for i in x:\n",
    "        if int(i) <= 1900:\n",
    "            index = x.index(i)\n",
    "            del x[index]\n",
    "    return x"
   ]
  },
  {
   "cell_type": "code",
   "execution_count": 29,
   "metadata": {},
   "outputs": [],
   "source": [
    "anime_data['aired'] = anime_data['aired'].apply(not_year)"
   ]
  },
  {
   "cell_type": "code",
   "execution_count": 30,
   "metadata": {},
   "outputs": [
    {
     "data": {
      "text/plain": [
       "0    [1998, 1999]\n",
       "1          [2001]\n",
       "2    [1998, 1998]\n",
       "3    [2002, 2002]\n",
       "4    [2004, 2005]\n",
       "Name: aired, dtype: object"
      ]
     },
     "execution_count": 30,
     "metadata": {},
     "output_type": "execute_result"
    }
   ],
   "source": [
    "anime_data['aired'][:5]"
   ]
  },
  {
   "cell_type": "code",
   "execution_count": 31,
   "metadata": {},
   "outputs": [],
   "source": [
    "# function that only picks the first year in each row\n",
    "def pick_one(x):\n",
    "        if len(x) > 1:\n",
    "            x = x[0]\n",
    "        elif len(x) == 1:\n",
    "            x = x[0]\n",
    "        return x"
   ]
  },
  {
   "cell_type": "code",
   "execution_count": 32,
   "metadata": {},
   "outputs": [],
   "source": [
    "anime_data['aired'] = anime_data['aired'].apply(pick_one)"
   ]
  },
  {
   "cell_type": "code",
   "execution_count": 33,
   "metadata": {},
   "outputs": [
    {
     "data": {
      "text/plain": [
       "0    1998\n",
       "1    2001\n",
       "2    1998\n",
       "3    2002\n",
       "4    2004\n",
       "Name: aired, dtype: object"
      ]
     },
     "execution_count": 33,
     "metadata": {},
     "output_type": "execute_result"
    }
   ],
   "source": [
    "anime_data['aired'].head()"
   ]
  },
  {
   "cell_type": "code",
   "execution_count": 36,
   "metadata": {},
   "outputs": [],
   "source": [
    "#getting the unique years in the aired column\n",
    "def unique_year(x):\n",
    "    unique = []\n",
    "    for i in x:\n",
    "        if i not in unique:\n",
    "            unique.append(i)\n",
    "    return unique"
   ]
  },
  {
   "cell_type": "code",
   "execution_count": 37,
   "metadata": {},
   "outputs": [
    {
     "data": {
      "text/plain": [
       "['1998',\n",
       " '2001',\n",
       " '2002',\n",
       " '2004',\n",
       " '2005',\n",
       " '1999',\n",
       " '2003',\n",
       " '1995',\n",
       " '1997',\n",
       " '1996',\n",
       " '1988',\n",
       " '1993',\n",
       " '2000',\n",
       " '1979',\n",
       " '1989',\n",
       " '1991',\n",
       " '1985',\n",
       " '1986',\n",
       " '1994',\n",
       " '1992',\n",
       " '1990',\n",
       " '1978',\n",
       " '1973',\n",
       " '2006',\n",
       " '1987',\n",
       " '1984',\n",
       " '1982',\n",
       " '1983',\n",
       " '1980',\n",
       " '1976',\n",
       " '1968',\n",
       " '1977',\n",
       " '1981',\n",
       " '2007',\n",
       " '1971',\n",
       " '1967',\n",
       " '1975',\n",
       " '1962',\n",
       " '1965',\n",
       " '1969',\n",
       " '1974',\n",
       " '1964',\n",
       " '2008',\n",
       " '1972',\n",
       " '1970',\n",
       " '1966',\n",
       " '1963',\n",
       " '1945',\n",
       " '2009',\n",
       " '1933',\n",
       " '1929',\n",
       " '1943',\n",
       " '2010',\n",
       " '1931',\n",
       " '1934',\n",
       " '1960',\n",
       " '1958',\n",
       " '2011',\n",
       " '1959',\n",
       " '1930',\n",
       " '1928',\n",
       " '1932',\n",
       " '1947',\n",
       " '2012',\n",
       " '1936',\n",
       " '1917',\n",
       " '1935',\n",
       " '1938',\n",
       " '1939',\n",
       " '1941',\n",
       " '1942',\n",
       " '1948',\n",
       " '1950',\n",
       " '1957',\n",
       " '1961',\n",
       " '1918',\n",
       " '1924',\n",
       " '1925',\n",
       " '1926',\n",
       " '1927',\n",
       " '1937',\n",
       " '1940',\n",
       " '1944',\n",
       " '1946',\n",
       " '1949',\n",
       " '1951',\n",
       " '1952',\n",
       " '1953',\n",
       " '1954',\n",
       " '1955',\n",
       " '1956',\n",
       " '2016',\n",
       " '2013',\n",
       " '2014',\n",
       " '2015',\n",
       " '2017',\n",
       " [],\n",
       " '2018',\n",
       " '2019']"
      ]
     },
     "execution_count": 37,
     "metadata": {},
     "output_type": "execute_result"
    }
   ],
   "source": [
    "b = unique_year(anime_data['aired'])\n",
    "b"
   ]
  },
  {
   "cell_type": "markdown",
   "metadata": {},
   "source": [
    "As you can see from the unique values there are empty list, so they have to be removed. That is why unique() attribute could not be used to get the unique values"
   ]
  },
  {
   "cell_type": "code",
   "execution_count": 38,
   "metadata": {},
   "outputs": [],
   "source": [
    "#a function that removes empty list\n",
    "def remove_empty_list(x):\n",
    "    if x != []:\n",
    "        return x"
   ]
  },
  {
   "cell_type": "code",
   "execution_count": 39,
   "metadata": {},
   "outputs": [],
   "source": [
    "anime_data['aired'] =  anime_data['aired'].apply(remove_empty_list)"
   ]
  },
  {
   "cell_type": "code",
   "execution_count": 40,
   "metadata": {},
   "outputs": [
    {
     "data": {
      "text/plain": [
       "anime_id        0\n",
       "title           0\n",
       "rating          0\n",
       "scored_by       0\n",
       "popularity      0\n",
       "members         0\n",
       "aired         105\n",
       "dtype: int64"
      ]
     },
     "execution_count": 40,
     "metadata": {},
     "output_type": "execute_result"
    }
   ],
   "source": [
    "#checking for null values since the empty lists were removed\n",
    "anime_data.isnull().sum()"
   ]
  },
  {
   "cell_type": "code",
   "execution_count": 41,
   "metadata": {},
   "outputs": [],
   "source": [
    "#dropping the null values\n",
    "anime_data.dropna(axis = 0, how = 'any',inplace = True)"
   ]
  },
  {
   "cell_type": "code",
   "execution_count": 43,
   "metadata": {},
   "outputs": [
    {
     "name": "stdout",
     "output_type": "stream",
     "text": [
      "98\n"
     ]
    },
    {
     "data": {
      "text/plain": [
       "array(['1998', '2001', '2002', '2004', '2005', '1999', '2003', '1995',\n",
       "       '1997', '1996', '1988', '1993', '2000', '1979', '1989', '1991',\n",
       "       '1985', '1986', '1994', '1992', '1990', '1978', '1973', '2006',\n",
       "       '1987', '1984', '1982', '1983', '1980', '1976', '1968', '1977',\n",
       "       '1981', '2007', '1971', '1967', '1975', '1962', '1965', '1969',\n",
       "       '1974', '1964', '2008', '1972', '1970', '1966', '1963', '1945',\n",
       "       '2009', '1933', '1929', '1943', '2010', '1931', '1934', '1960',\n",
       "       '1958', '2011', '1959', '1930', '1928', '1932', '1947', '2012',\n",
       "       '1936', '1917', '1935', '1938', '1939', '1941', '1942', '1948',\n",
       "       '1950', '1957', '1961', '1918', '1924', '1925', '1926', '1927',\n",
       "       '1937', '1940', '1944', '1946', '1949', '1951', '1952', '1953',\n",
       "       '1954', '1955', '1956', '2016', '2013', '2014', '2015', '2017',\n",
       "       '2018', '2019'], dtype=object)"
      ]
     },
     "execution_count": 43,
     "metadata": {},
     "output_type": "execute_result"
    }
   ],
   "source": [
    "print(anime_data['aired'].nunique())\n",
    "anime_data['aired'].unique()"
   ]
  },
  {
   "cell_type": "code",
   "execution_count": 44,
   "metadata": {},
   "outputs": [],
   "source": [
    "#converting the type of aired column to int\n",
    "anime_data['aired'] = anime_data['aired'].astype('int')"
   ]
  },
  {
   "cell_type": "code",
   "execution_count": 45,
   "metadata": {},
   "outputs": [
    {
     "data": {
      "text/plain": [
       "anime_id        int64\n",
       "title          object\n",
       "rating        float64\n",
       "scored_by     float64\n",
       "popularity    float64\n",
       "members       float64\n",
       "aired           int32\n",
       "dtype: object"
      ]
     },
     "execution_count": 45,
     "metadata": {},
     "output_type": "execute_result"
    }
   ],
   "source": [
    "anime_data.dtypes"
   ]
  },
  {
   "cell_type": "code",
   "execution_count": 46,
   "metadata": {},
   "outputs": [
    {
     "data": {
      "text/html": [
       "<div>\n",
       "<style scoped>\n",
       "    .dataframe tbody tr th:only-of-type {\n",
       "        vertical-align: middle;\n",
       "    }\n",
       "\n",
       "    .dataframe tbody tr th {\n",
       "        vertical-align: top;\n",
       "    }\n",
       "\n",
       "    .dataframe thead th {\n",
       "        text-align: right;\n",
       "    }\n",
       "</style>\n",
       "<table border=\"1\" class=\"dataframe\">\n",
       "  <thead>\n",
       "    <tr style=\"text-align: right;\">\n",
       "      <th></th>\n",
       "      <th>anime_id</th>\n",
       "      <th>title</th>\n",
       "      <th>rating</th>\n",
       "      <th>scored_by</th>\n",
       "      <th>popularity</th>\n",
       "      <th>members</th>\n",
       "      <th>aired</th>\n",
       "    </tr>\n",
       "  </thead>\n",
       "  <tbody>\n",
       "    <tr>\n",
       "      <th>0</th>\n",
       "      <td>1</td>\n",
       "      <td>Cowboy Bebop</td>\n",
       "      <td>8.81</td>\n",
       "      <td>363889.0</td>\n",
       "      <td>39.0</td>\n",
       "      <td>704490.0</td>\n",
       "      <td>1998</td>\n",
       "    </tr>\n",
       "    <tr>\n",
       "      <th>1</th>\n",
       "      <td>5</td>\n",
       "      <td>Cowboy Bebop: Tengoku no Tobira</td>\n",
       "      <td>8.41</td>\n",
       "      <td>111187.0</td>\n",
       "      <td>475.0</td>\n",
       "      <td>179899.0</td>\n",
       "      <td>2001</td>\n",
       "    </tr>\n",
       "    <tr>\n",
       "      <th>2</th>\n",
       "      <td>6</td>\n",
       "      <td>Trigun</td>\n",
       "      <td>8.31</td>\n",
       "      <td>197451.0</td>\n",
       "      <td>158.0</td>\n",
       "      <td>372709.0</td>\n",
       "      <td>1998</td>\n",
       "    </tr>\n",
       "  </tbody>\n",
       "</table>\n",
       "</div>"
      ],
      "text/plain": [
       "   anime_id                            title  rating  scored_by  popularity  \\\n",
       "0         1                     Cowboy Bebop    8.81   363889.0        39.0   \n",
       "1         5  Cowboy Bebop: Tengoku no Tobira    8.41   111187.0       475.0   \n",
       "2         6                           Trigun    8.31   197451.0       158.0   \n",
       "\n",
       "    members  aired  \n",
       "0  704490.0   1998  \n",
       "1  179899.0   2001  \n",
       "2  372709.0   1998  "
      ]
     },
     "execution_count": 46,
     "metadata": {},
     "output_type": "execute_result"
    }
   ],
   "source": [
    "#viewing the data\n",
    "anime_data.head(3)"
   ]
  },
  {
   "cell_type": "code",
   "execution_count": 47,
   "metadata": {},
   "outputs": [
    {
     "data": {
      "text/plain": [
       "(12917, 7)"
      ]
     },
     "execution_count": 47,
     "metadata": {},
     "output_type": "execute_result"
    }
   ],
   "source": [
    "#checking the new shape of the data\n",
    "anime_data.shape"
   ]
  },
  {
   "cell_type": "code",
   "execution_count": 48,
   "metadata": {},
   "outputs": [
    {
     "data": {
      "text/html": [
       "<div>\n",
       "<style scoped>\n",
       "    .dataframe tbody tr th:only-of-type {\n",
       "        vertical-align: middle;\n",
       "    }\n",
       "\n",
       "    .dataframe tbody tr th {\n",
       "        vertical-align: top;\n",
       "    }\n",
       "\n",
       "    .dataframe thead th {\n",
       "        text-align: right;\n",
       "    }\n",
       "</style>\n",
       "<table border=\"1\" class=\"dataframe\">\n",
       "  <thead>\n",
       "    <tr style=\"text-align: right;\">\n",
       "      <th></th>\n",
       "      <th>aired</th>\n",
       "      <th>count</th>\n",
       "    </tr>\n",
       "  </thead>\n",
       "  <tbody>\n",
       "    <tr>\n",
       "      <th>93</th>\n",
       "      <td>2015</td>\n",
       "      <td>717</td>\n",
       "    </tr>\n",
       "    <tr>\n",
       "      <th>94</th>\n",
       "      <td>2016</td>\n",
       "      <td>824</td>\n",
       "    </tr>\n",
       "    <tr>\n",
       "      <th>95</th>\n",
       "      <td>2017</td>\n",
       "      <td>795</td>\n",
       "    </tr>\n",
       "    <tr>\n",
       "      <th>96</th>\n",
       "      <td>2018</td>\n",
       "      <td>333</td>\n",
       "    </tr>\n",
       "    <tr>\n",
       "      <th>97</th>\n",
       "      <td>2019</td>\n",
       "      <td>34</td>\n",
       "    </tr>\n",
       "  </tbody>\n",
       "</table>\n",
       "</div>"
      ],
      "text/plain": [
       "    aired  count\n",
       "93   2015    717\n",
       "94   2016    824\n",
       "95   2017    795\n",
       "96   2018    333\n",
       "97   2019     34"
      ]
     },
     "execution_count": 48,
     "metadata": {},
     "output_type": "execute_result"
    }
   ],
   "source": [
    "#a dataframe for the count of unique years\n",
    "year_count = pd.DataFrame(anime_data.groupby('aired')['aired'].count())\n",
    "year_count.rename(columns = {'aired':'count'}, inplace =True)\n",
    "year_count = year_count.reset_index()\n",
    "year_count.tail()"
   ]
  },
  {
   "cell_type": "code",
   "execution_count": 49,
   "metadata": {},
   "outputs": [
    {
     "data": {
      "text/html": [
       "<div>\n",
       "<style scoped>\n",
       "    .dataframe tbody tr th:only-of-type {\n",
       "        vertical-align: middle;\n",
       "    }\n",
       "\n",
       "    .dataframe tbody tr th {\n",
       "        vertical-align: top;\n",
       "    }\n",
       "\n",
       "    .dataframe thead th {\n",
       "        text-align: right;\n",
       "    }\n",
       "</style>\n",
       "<table border=\"1\" class=\"dataframe\">\n",
       "  <thead>\n",
       "    <tr style=\"text-align: right;\">\n",
       "      <th></th>\n",
       "      <th>aired</th>\n",
       "      <th>count</th>\n",
       "    </tr>\n",
       "  </thead>\n",
       "  <tbody>\n",
       "    <tr>\n",
       "      <th>0</th>\n",
       "      <td>1917</td>\n",
       "      <td>15</td>\n",
       "    </tr>\n",
       "    <tr>\n",
       "      <th>1</th>\n",
       "      <td>1918</td>\n",
       "      <td>7</td>\n",
       "    </tr>\n",
       "    <tr>\n",
       "      <th>2</th>\n",
       "      <td>1924</td>\n",
       "      <td>3</td>\n",
       "    </tr>\n",
       "    <tr>\n",
       "      <th>3</th>\n",
       "      <td>1925</td>\n",
       "      <td>6</td>\n",
       "    </tr>\n",
       "    <tr>\n",
       "      <th>4</th>\n",
       "      <td>1926</td>\n",
       "      <td>6</td>\n",
       "    </tr>\n",
       "  </tbody>\n",
       "</table>\n",
       "</div>"
      ],
      "text/plain": [
       "   aired  count\n",
       "0   1917     15\n",
       "1   1918      7\n",
       "2   1924      3\n",
       "3   1925      6\n",
       "4   1926      6"
      ]
     },
     "execution_count": 49,
     "metadata": {},
     "output_type": "execute_result"
    }
   ],
   "source": [
    "year_count.head()"
   ]
  },
  {
   "cell_type": "markdown",
   "metadata": {},
   "source": [
    "#  Calculating the weighted average of each anime in our data"
   ]
  },
  {
   "cell_type": "markdown",
   "metadata": {},
   "source": [
    "Using the Weighted Average Formula AND the members column based on popularity\n",
    "WR = (RV + Cm/V+m) where:\n",
    "- V is the number of votes\n",
    "- m is minimum votes required to be listed\n",
    "- R is rating average of the anime\n",
    "- C is mean vote across whole report"
   ]
  },
  {
   "cell_type": "code",
   "execution_count": 50,
   "metadata": {},
   "outputs": [],
   "source": [
    "#finding the weighted average for each anime\n",
    "V = anime_data['scored_by']                       #number of votes for each anime\n",
    "R = anime_data['rating']                     #average voting rating for each anime\n",
    "C = anime_data['rating'].mean()              #mean vote across the whole report\n",
    "m = anime_data['scored_by'].quantile(0.80)        #minimum votes requires to be among the top \n",
    "\n",
    "anime_data['weighted_avg'] = ((R*V)+(C*m))/(V+m)     #used by imdb to calculate weighted average of movies"
   ]
  },
  {
   "cell_type": "code",
   "execution_count": 51,
   "metadata": {},
   "outputs": [
    {
     "data": {
      "text/html": [
       "<div>\n",
       "<style scoped>\n",
       "    .dataframe tbody tr th:only-of-type {\n",
       "        vertical-align: middle;\n",
       "    }\n",
       "\n",
       "    .dataframe tbody tr th {\n",
       "        vertical-align: top;\n",
       "    }\n",
       "\n",
       "    .dataframe thead th {\n",
       "        text-align: right;\n",
       "    }\n",
       "</style>\n",
       "<table border=\"1\" class=\"dataframe\">\n",
       "  <thead>\n",
       "    <tr style=\"text-align: right;\">\n",
       "      <th></th>\n",
       "      <th>anime_id</th>\n",
       "      <th>title</th>\n",
       "      <th>rating</th>\n",
       "      <th>scored_by</th>\n",
       "      <th>popularity</th>\n",
       "      <th>members</th>\n",
       "      <th>aired</th>\n",
       "      <th>weighted_avg</th>\n",
       "    </tr>\n",
       "  </thead>\n",
       "  <tbody>\n",
       "    <tr>\n",
       "      <th>0</th>\n",
       "      <td>1</td>\n",
       "      <td>Cowboy Bebop</td>\n",
       "      <td>8.81</td>\n",
       "      <td>363889.0</td>\n",
       "      <td>39.0</td>\n",
       "      <td>704490.0</td>\n",
       "      <td>1998</td>\n",
       "      <td>8.760783</td>\n",
       "    </tr>\n",
       "    <tr>\n",
       "      <th>1</th>\n",
       "      <td>5</td>\n",
       "      <td>Cowboy Bebop: Tengoku no Tobira</td>\n",
       "      <td>8.41</td>\n",
       "      <td>111187.0</td>\n",
       "      <td>475.0</td>\n",
       "      <td>179899.0</td>\n",
       "      <td>2001</td>\n",
       "      <td>8.280022</td>\n",
       "    </tr>\n",
       "  </tbody>\n",
       "</table>\n",
       "</div>"
      ],
      "text/plain": [
       "   anime_id                            title  rating  scored_by  popularity  \\\n",
       "0         1                     Cowboy Bebop    8.81   363889.0        39.0   \n",
       "1         5  Cowboy Bebop: Tengoku no Tobira    8.41   111187.0       475.0   \n",
       "\n",
       "    members  aired  weighted_avg  \n",
       "0  704490.0   1998      8.760783  \n",
       "1  179899.0   2001      8.280022  "
      ]
     },
     "execution_count": 51,
     "metadata": {},
     "output_type": "execute_result"
    }
   ],
   "source": [
    "anime_data.head(2)"
   ]
  },
  {
   "cell_type": "code",
   "execution_count": 52,
   "metadata": {},
   "outputs": [
    {
     "data": {
      "text/html": [
       "<div>\n",
       "<style scoped>\n",
       "    .dataframe tbody tr th:only-of-type {\n",
       "        vertical-align: middle;\n",
       "    }\n",
       "\n",
       "    .dataframe tbody tr th {\n",
       "        vertical-align: top;\n",
       "    }\n",
       "\n",
       "    .dataframe thead th {\n",
       "        text-align: right;\n",
       "    }\n",
       "</style>\n",
       "<table border=\"1\" class=\"dataframe\">\n",
       "  <thead>\n",
       "    <tr style=\"text-align: right;\">\n",
       "      <th></th>\n",
       "      <th>anime_id</th>\n",
       "      <th>title</th>\n",
       "      <th>rating</th>\n",
       "      <th>scored_by</th>\n",
       "      <th>popularity</th>\n",
       "      <th>members</th>\n",
       "      <th>aired</th>\n",
       "      <th>weighted_avg</th>\n",
       "    </tr>\n",
       "  </thead>\n",
       "  <tbody>\n",
       "    <tr>\n",
       "      <th>3634</th>\n",
       "      <td>5114</td>\n",
       "      <td>Fullmetal Alchemist: Brotherhood</td>\n",
       "      <td>9.25</td>\n",
       "      <td>730784.0</td>\n",
       "      <td>4.0</td>\n",
       "      <td>1194518.0</td>\n",
       "      <td>2009</td>\n",
       "      <td>9.220964</td>\n",
       "    </tr>\n",
       "    <tr>\n",
       "      <th>10110</th>\n",
       "      <td>32281</td>\n",
       "      <td>Kimi no Na wa.</td>\n",
       "      <td>9.19</td>\n",
       "      <td>467437.0</td>\n",
       "      <td>15.0</td>\n",
       "      <td>724490.0</td>\n",
       "      <td>2016</td>\n",
       "      <td>9.145762</td>\n",
       "    </tr>\n",
       "    <tr>\n",
       "      <th>5031</th>\n",
       "      <td>9253</td>\n",
       "      <td>Steins;Gate</td>\n",
       "      <td>9.14</td>\n",
       "      <td>561405.0</td>\n",
       "      <td>7.0</td>\n",
       "      <td>1005781.0</td>\n",
       "      <td>2011</td>\n",
       "      <td>9.103706</td>\n",
       "    </tr>\n",
       "    <tr>\n",
       "      <th>5725</th>\n",
       "      <td>11061</td>\n",
       "      <td>Hunter x Hunter (2011)</td>\n",
       "      <td>9.11</td>\n",
       "      <td>400879.0</td>\n",
       "      <td>20.0</td>\n",
       "      <td>716409.0</td>\n",
       "      <td>2011</td>\n",
       "      <td>9.059957</td>\n",
       "    </tr>\n",
       "    <tr>\n",
       "      <th>8695</th>\n",
       "      <td>28851</td>\n",
       "      <td>Koe no Katachi</td>\n",
       "      <td>9.04</td>\n",
       "      <td>293169.0</td>\n",
       "      <td>53.0</td>\n",
       "      <td>507502.0</td>\n",
       "      <td>2016</td>\n",
       "      <td>8.973688</td>\n",
       "    </tr>\n",
       "  </tbody>\n",
       "</table>\n",
       "</div>"
      ],
      "text/plain": [
       "       anime_id                             title  rating  scored_by  \\\n",
       "3634       5114  Fullmetal Alchemist: Brotherhood    9.25   730784.0   \n",
       "10110     32281                    Kimi no Na wa.    9.19   467437.0   \n",
       "5031       9253                       Steins;Gate    9.14   561405.0   \n",
       "5725      11061            Hunter x Hunter (2011)    9.11   400879.0   \n",
       "8695      28851                    Koe no Katachi    9.04   293169.0   \n",
       "\n",
       "       popularity    members  aired  weighted_avg  \n",
       "3634          4.0  1194518.0   2009      9.220964  \n",
       "10110        15.0   724490.0   2016      9.145762  \n",
       "5031          7.0  1005781.0   2011      9.103706  \n",
       "5725         20.0   716409.0   2011      9.059957  \n",
       "8695         53.0   507502.0   2016      8.973688  "
      ]
     },
     "execution_count": 52,
     "metadata": {},
     "output_type": "execute_result"
    }
   ],
   "source": [
    "#showing the top 10 anime with the highest weighted average\n",
    "total_anime = anime_data.copy()\n",
    "wavg = total_anime.sort_values('weighted_avg', ascending = False)\n",
    "wavg.head()"
   ]
  },
  {
   "cell_type": "markdown",
   "metadata": {},
   "source": [
    "# Recommending Anime according to the best in their year group using the combination of weighted average ratings, members and popularity"
   ]
  },
  {
   "cell_type": "code",
   "execution_count": 53,
   "metadata": {},
   "outputs": [],
   "source": [
    "#normalizing the weighted average and popularity column\n",
    "\n",
    "from sklearn import preprocessing\n",
    "\n",
    "min_max_scaler = preprocessing.MinMaxScaler()"
   ]
  },
  {
   "cell_type": "markdown",
   "metadata": {},
   "source": [
    "### Defining all the functions that will help with this recommendation"
   ]
  },
  {
   "cell_type": "code",
   "execution_count": 54,
   "metadata": {},
   "outputs": [],
   "source": [
    "#function to create group dataframes \n",
    "def create_group(first,last):\n",
    "    group = pd.DataFrame(anime_data.loc[(anime_data['aired'] >= first) & (anime_data['aired'] <= last)])\n",
    "    #changing the index to allow for easy joining of the dataframes later\n",
    "    group.index = [x for x in range(group.shape[0])]\n",
    "    return group"
   ]
  },
  {
   "cell_type": "code",
   "execution_count": 55,
   "metadata": {},
   "outputs": [],
   "source": [
    "#function to normalize the weighted average, popularity and membrs\n",
    "def norm(group):\n",
    "    data_scaled = min_max_scaler.fit_transform(group[['weighted_avg','popularity','members']])\n",
    "    data_norm = pd.DataFrame(data_scaled, columns = ['weighted_avg','popularity','members'])\n",
    "    return data_norm"
   ]
  },
  {
   "cell_type": "code",
   "execution_count": 56,
   "metadata": {},
   "outputs": [],
   "source": [
    "#function to create a score value that splits scaled weighted_avg, popularity and members\n",
    "def create_score(group,data_norm):\n",
    "    group[['norm_weighted_avg','norm_popularity','norm_members']] = data_norm\n",
    "    group['score'] = group['norm_weighted_avg']*0.8 +group['norm_popularity']*0.1 + group['norm_members']*0.1\n",
    "    data_scored = group.sort_values(['score'], ascending=False)\n",
    "    return data_scored"
   ]
  },
  {
   "cell_type": "code",
   "execution_count": 57,
   "metadata": {},
   "outputs": [],
   "source": [
    "#a function to show normalized features and the new score  feature\n",
    "def show_normalized(data):\n",
    "    return data[['title','norm_weighted_avg','norm_popularity','norm_members','score']].head()"
   ]
  },
  {
   "cell_type": "code",
   "execution_count": 58,
   "metadata": {},
   "outputs": [],
   "source": [
    "#a function to plot the top anime according to a split between weighted avg, members and popularity\n",
    "def plot(data,first,last):\n",
    "    plt.figure(figsize=(18,8))\n",
    "\n",
    "    ax = sns.barplot(x = data['score'].head(10), y = data['title'].head(10), data = data, palette='Set2')\n",
    "\n",
    "\n",
    "    plt.title('Best anime between years {} and {}'.format (first,last), weight = 'bold')\n",
    "    plt.xlabel('Score', weight = 'bold')\n",
    "    plt.ylabel('Anime Title', weight = 'bold')\n",
    "\n",
    "#plt.savefig('scored.png')"
   ]
  },
  {
   "cell_type": "markdown",
   "metadata": {},
   "source": [
    "### Group1 recommendation (1900 to 1959)"
   ]
  },
  {
   "cell_type": "code",
   "execution_count": 59,
   "metadata": {},
   "outputs": [
    {
     "data": {
      "text/html": [
       "<div>\n",
       "<style scoped>\n",
       "    .dataframe tbody tr th:only-of-type {\n",
       "        vertical-align: middle;\n",
       "    }\n",
       "\n",
       "    .dataframe tbody tr th {\n",
       "        vertical-align: top;\n",
       "    }\n",
       "\n",
       "    .dataframe thead th {\n",
       "        text-align: right;\n",
       "    }\n",
       "</style>\n",
       "<table border=\"1\" class=\"dataframe\">\n",
       "  <thead>\n",
       "    <tr style=\"text-align: right;\">\n",
       "      <th></th>\n",
       "      <th>anime_id</th>\n",
       "      <th>title</th>\n",
       "      <th>rating</th>\n",
       "      <th>scored_by</th>\n",
       "      <th>popularity</th>\n",
       "      <th>members</th>\n",
       "      <th>aired</th>\n",
       "      <th>weighted_avg</th>\n",
       "    </tr>\n",
       "  </thead>\n",
       "  <tbody>\n",
       "    <tr>\n",
       "      <th>0</th>\n",
       "      <td>2765</td>\n",
       "      <td>Momotarou: Umi no Shinpei</td>\n",
       "      <td>5.31</td>\n",
       "      <td>465.0</td>\n",
       "      <td>8670.0</td>\n",
       "      <td>1075.0</td>\n",
       "      <td>1945</td>\n",
       "      <td>6.21225</td>\n",
       "    </tr>\n",
       "    <tr>\n",
       "      <th>1</th>\n",
       "      <td>3929</td>\n",
       "      <td>Ugokie Kori no Tatehiki</td>\n",
       "      <td>5.64</td>\n",
       "      <td>399.0</td>\n",
       "      <td>9638.0</td>\n",
       "      <td>737.0</td>\n",
       "      <td>1933</td>\n",
       "      <td>6.23744</td>\n",
       "    </tr>\n",
       "  </tbody>\n",
       "</table>\n",
       "</div>"
      ],
      "text/plain": [
       "   anime_id                      title  rating  scored_by  popularity  \\\n",
       "0      2765  Momotarou: Umi no Shinpei    5.31      465.0      8670.0   \n",
       "1      3929    Ugokie Kori no Tatehiki    5.64      399.0      9638.0   \n",
       "\n",
       "   members  aired  weighted_avg  \n",
       "0   1075.0   1945       6.21225  \n",
       "1    737.0   1933       6.23744  "
      ]
     },
     "execution_count": 59,
     "metadata": {},
     "output_type": "execute_result"
    }
   ],
   "source": [
    "group_1 = create_group(1900,1959)\n",
    "group_1.head(2)"
   ]
  },
  {
   "cell_type": "code",
   "execution_count": 60,
   "metadata": {},
   "outputs": [],
   "source": [
    "data_norm_1 = norm(group_1)"
   ]
  },
  {
   "cell_type": "code",
   "execution_count": 61,
   "metadata": {},
   "outputs": [],
   "source": [
    "data_scored_1 = create_score(group_1,data_norm_1)"
   ]
  },
  {
   "cell_type": "code",
   "execution_count": 62,
   "metadata": {},
   "outputs": [
    {
     "data": {
      "text/html": [
       "<div>\n",
       "<style scoped>\n",
       "    .dataframe tbody tr th:only-of-type {\n",
       "        vertical-align: middle;\n",
       "    }\n",
       "\n",
       "    .dataframe tbody tr th {\n",
       "        vertical-align: top;\n",
       "    }\n",
       "\n",
       "    .dataframe thead th {\n",
       "        text-align: right;\n",
       "    }\n",
       "</style>\n",
       "<table border=\"1\" class=\"dataframe\">\n",
       "  <thead>\n",
       "    <tr style=\"text-align: right;\">\n",
       "      <th></th>\n",
       "      <th>title</th>\n",
       "      <th>norm_weighted_avg</th>\n",
       "      <th>norm_popularity</th>\n",
       "      <th>norm_members</th>\n",
       "      <th>score</th>\n",
       "    </tr>\n",
       "  </thead>\n",
       "  <tbody>\n",
       "    <tr>\n",
       "      <th>177</th>\n",
       "      <td>Shin Kachikachi Yama</td>\n",
       "      <td>0.992410</td>\n",
       "      <td>0.940704</td>\n",
       "      <td>0.018611</td>\n",
       "      <td>0.889859</td>\n",
       "    </tr>\n",
       "    <tr>\n",
       "      <th>179</th>\n",
       "      <td>Kachikachi Yama (1939)</td>\n",
       "      <td>0.986928</td>\n",
       "      <td>0.960017</td>\n",
       "      <td>0.018278</td>\n",
       "      <td>0.887372</td>\n",
       "    </tr>\n",
       "    <tr>\n",
       "      <th>96</th>\n",
       "      <td>Shisei Sasshin</td>\n",
       "      <td>0.991257</td>\n",
       "      <td>0.901973</td>\n",
       "      <td>0.023928</td>\n",
       "      <td>0.885596</td>\n",
       "    </tr>\n",
       "    <tr>\n",
       "      <th>216</th>\n",
       "      <td>Chuukichi wa Kaetta</td>\n",
       "      <td>0.978934</td>\n",
       "      <td>1.000000</td>\n",
       "      <td>0.009305</td>\n",
       "      <td>0.884078</td>\n",
       "    </tr>\n",
       "    <tr>\n",
       "      <th>107</th>\n",
       "      <td>Poppoya-san: Nonki Ekichou</td>\n",
       "      <td>0.996583</td>\n",
       "      <td>0.823259</td>\n",
       "      <td>0.033234</td>\n",
       "      <td>0.882916</td>\n",
       "    </tr>\n",
       "  </tbody>\n",
       "</table>\n",
       "</div>"
      ],
      "text/plain": [
       "                          title  norm_weighted_avg  norm_popularity  \\\n",
       "177        Shin Kachikachi Yama           0.992410         0.940704   \n",
       "179      Kachikachi Yama (1939)           0.986928         0.960017   \n",
       "96               Shisei Sasshin           0.991257         0.901973   \n",
       "216         Chuukichi wa Kaetta           0.978934         1.000000   \n",
       "107  Poppoya-san: Nonki Ekichou           0.996583         0.823259   \n",
       "\n",
       "     norm_members     score  \n",
       "177      0.018611  0.889859  \n",
       "179      0.018278  0.887372  \n",
       "96       0.023928  0.885596  \n",
       "216      0.009305  0.884078  \n",
       "107      0.033234  0.882916  "
      ]
     },
     "execution_count": 62,
     "metadata": {},
     "output_type": "execute_result"
    }
   ],
   "source": [
    "show_normalized(data_scored_1)"
   ]
  },
  {
   "cell_type": "code",
   "execution_count": 63,
   "metadata": {},
   "outputs": [
    {
     "data": {
      "image/png": "[encoded data removed]",
      "text/plain": [
       "<Figure size 1296x576 with 1 Axes>"
      ]
     },
     "metadata": {
      "needs_background": "light"
     },
     "output_type": "display_data"
    }
   ],
   "source": [
    "plot(data_scored_1,1900,1959)"
   ]
  },
  {
   "cell_type": "markdown",
   "metadata": {},
   "source": [
    "### Group2 recommendation (1960 to 1979)"
   ]
  },
  {
   "cell_type": "code",
   "execution_count": 64,
   "metadata": {},
   "outputs": [
    {
     "data": {
      "text/html": [
       "<div>\n",
       "<style scoped>\n",
       "    .dataframe tbody tr th:only-of-type {\n",
       "        vertical-align: middle;\n",
       "    }\n",
       "\n",
       "    .dataframe tbody tr th {\n",
       "        vertical-align: top;\n",
       "    }\n",
       "\n",
       "    .dataframe thead th {\n",
       "        text-align: right;\n",
       "    }\n",
       "</style>\n",
       "<table border=\"1\" class=\"dataframe\">\n",
       "  <thead>\n",
       "    <tr style=\"text-align: right;\">\n",
       "      <th></th>\n",
       "      <th>anime_id</th>\n",
       "      <th>title</th>\n",
       "      <th>rating</th>\n",
       "      <th>scored_by</th>\n",
       "      <th>popularity</th>\n",
       "      <th>members</th>\n",
       "      <th>aired</th>\n",
       "      <th>weighted_avg</th>\n",
       "    </tr>\n",
       "  </thead>\n",
       "  <tbody>\n",
       "    <tr>\n",
       "      <th>0</th>\n",
       "      <td>80</td>\n",
       "      <td>Mobile Suit Gundam</td>\n",
       "      <td>7.87</td>\n",
       "      <td>29261.0</td>\n",
       "      <td>1332.0</td>\n",
       "      <td>66802.0</td>\n",
       "      <td>1979</td>\n",
       "      <td>7.554443</td>\n",
       "    </tr>\n",
       "    <tr>\n",
       "      <th>1</th>\n",
       "      <td>283</td>\n",
       "      <td>Akage no Anne</td>\n",
       "      <td>7.75</td>\n",
       "      <td>4070.0</td>\n",
       "      <td>3399.0</td>\n",
       "      <td>13669.0</td>\n",
       "      <td>1979</td>\n",
       "      <td>6.805234</td>\n",
       "    </tr>\n",
       "  </tbody>\n",
       "</table>\n",
       "</div>"
      ],
      "text/plain": [
       "   anime_id               title  rating  scored_by  popularity  members  \\\n",
       "0        80  Mobile Suit Gundam    7.87    29261.0      1332.0  66802.0   \n",
       "1       283       Akage no Anne    7.75     4070.0      3399.0  13669.0   \n",
       "\n",
       "   aired  weighted_avg  \n",
       "0   1979      7.554443  \n",
       "1   1979      6.805234  "
      ]
     },
     "execution_count": 64,
     "metadata": {},
     "output_type": "execute_result"
    }
   ],
   "source": [
    "group_2 = create_group(1960,1979)\n",
    "group_2.head(2)"
   ]
  },
  {
   "cell_type": "code",
   "execution_count": 65,
   "metadata": {},
   "outputs": [],
   "source": [
    "data_norm_2 = norm(group_2)"
   ]
  },
  {
   "cell_type": "code",
   "execution_count": 66,
   "metadata": {},
   "outputs": [],
   "source": [
    "data_scored_2 = create_score(group_2,data_norm_2)"
   ]
  },
  {
   "cell_type": "code",
   "execution_count": 67,
   "metadata": {},
   "outputs": [
    {
     "data": {
      "text/html": [
       "<div>\n",
       "<style scoped>\n",
       "    .dataframe tbody tr th:only-of-type {\n",
       "        vertical-align: middle;\n",
       "    }\n",
       "\n",
       "    .dataframe tbody tr th {\n",
       "        vertical-align: top;\n",
       "    }\n",
       "\n",
       "    .dataframe thead th {\n",
       "        text-align: right;\n",
       "    }\n",
       "</style>\n",
       "<table border=\"1\" class=\"dataframe\">\n",
       "  <thead>\n",
       "    <tr style=\"text-align: right;\">\n",
       "      <th></th>\n",
       "      <th>title</th>\n",
       "      <th>norm_weighted_avg</th>\n",
       "      <th>norm_popularity</th>\n",
       "      <th>norm_members</th>\n",
       "      <th>score</th>\n",
       "    </tr>\n",
       "  </thead>\n",
       "  <tbody>\n",
       "    <tr>\n",
       "      <th>19</th>\n",
       "      <td>Lupin III: Cagliostro no Shiro</td>\n",
       "      <td>1.000000</td>\n",
       "      <td>0.018778</td>\n",
       "      <td>0.668144</td>\n",
       "      <td>0.868692</td>\n",
       "    </tr>\n",
       "    <tr>\n",
       "      <th>6</th>\n",
       "      <td>Versailles no Bara</td>\n",
       "      <td>0.944158</td>\n",
       "      <td>0.028167</td>\n",
       "      <td>0.660358</td>\n",
       "      <td>0.824179</td>\n",
       "    </tr>\n",
       "    <tr>\n",
       "      <th>0</th>\n",
       "      <td>Mobile Suit Gundam</td>\n",
       "      <td>0.893519</td>\n",
       "      <td>0.000000</td>\n",
       "      <td>1.000000</td>\n",
       "      <td>0.814815</td>\n",
       "    </tr>\n",
       "    <tr>\n",
       "      <th>16</th>\n",
       "      <td>Lupin III</td>\n",
       "      <td>0.763594</td>\n",
       "      <td>0.021997</td>\n",
       "      <td>0.704094</td>\n",
       "      <td>0.683484</td>\n",
       "    </tr>\n",
       "    <tr>\n",
       "      <th>2</th>\n",
       "      <td>Mirai Shounen Conan</td>\n",
       "      <td>0.747106</td>\n",
       "      <td>0.087385</td>\n",
       "      <td>0.329026</td>\n",
       "      <td>0.639326</td>\n",
       "    </tr>\n",
       "  </tbody>\n",
       "</table>\n",
       "</div>"
      ],
      "text/plain": [
       "                             title  norm_weighted_avg  norm_popularity  \\\n",
       "19  Lupin III: Cagliostro no Shiro           1.000000         0.018778   \n",
       "6               Versailles no Bara           0.944158         0.028167   \n",
       "0               Mobile Suit Gundam           0.893519         0.000000   \n",
       "16                       Lupin III           0.763594         0.021997   \n",
       "2              Mirai Shounen Conan           0.747106         0.087385   \n",
       "\n",
       "    norm_members     score  \n",
       "19      0.668144  0.868692  \n",
       "6       0.660358  0.824179  \n",
       "0       1.000000  0.814815  \n",
       "16      0.704094  0.683484  \n",
       "2       0.329026  0.639326  "
      ]
     },
     "execution_count": 67,
     "metadata": {},
     "output_type": "execute_result"
    }
   ],
   "source": [
    "show_normalized(data_scored_2)"
   ]
  },
  {
   "cell_type": "code",
   "execution_count": 68,
   "metadata": {},
   "outputs": [
    {
     "data": {
      "image/png": "[encoded data removed]",
      "text/plain": [
       "<Figure size 1296x576 with 1 Axes>"
      ]
     },
     "metadata": {
      "needs_background": "light"
     },
     "output_type": "display_data"
    }
   ],
   "source": [
    "plot(data_scored_2,1960,1979)"
   ]
  },
  {
   "cell_type": "markdown",
   "metadata": {},
   "source": [
    "### Group3 recommendation (1980 to 1989)"
   ]
  },
  {
   "cell_type": "code",
   "execution_count": 69,
   "metadata": {},
   "outputs": [
    {
     "data": {
      "text/html": [
       "<div>\n",
       "<style scoped>\n",
       "    .dataframe tbody tr th:only-of-type {\n",
       "        vertical-align: middle;\n",
       "    }\n",
       "\n",
       "    .dataframe tbody tr th {\n",
       "        vertical-align: top;\n",
       "    }\n",
       "\n",
       "    .dataframe thead th {\n",
       "        text-align: right;\n",
       "    }\n",
       "</style>\n",
       "<table border=\"1\" class=\"dataframe\">\n",
       "  <thead>\n",
       "    <tr style=\"text-align: right;\">\n",
       "      <th></th>\n",
       "      <th>anime_id</th>\n",
       "      <th>title</th>\n",
       "      <th>rating</th>\n",
       "      <th>scored_by</th>\n",
       "      <th>popularity</th>\n",
       "      <th>members</th>\n",
       "      <th>aired</th>\n",
       "      <th>weighted_avg</th>\n",
       "    </tr>\n",
       "  </thead>\n",
       "  <tbody>\n",
       "    <tr>\n",
       "      <th>0</th>\n",
       "      <td>47</td>\n",
       "      <td>Akira</td>\n",
       "      <td>8.16</td>\n",
       "      <td>190158.0</td>\n",
       "      <td>195.0</td>\n",
       "      <td>309004.0</td>\n",
       "      <td>1988</td>\n",
       "      <td>8.091144</td>\n",
       "    </tr>\n",
       "    <tr>\n",
       "      <th>1</th>\n",
       "      <td>82</td>\n",
       "      <td>Mobile Suit Gundam 0080: War in the Pocket</td>\n",
       "      <td>7.87</td>\n",
       "      <td>16209.0</td>\n",
       "      <td>2298.0</td>\n",
       "      <td>29545.0</td>\n",
       "      <td>1989</td>\n",
       "      <td>7.378440</td>\n",
       "    </tr>\n",
       "  </tbody>\n",
       "</table>\n",
       "</div>"
      ],
      "text/plain": [
       "   anime_id                                       title  rating  scored_by  \\\n",
       "0        47                                       Akira    8.16   190158.0   \n",
       "1        82  Mobile Suit Gundam 0080: War in the Pocket    7.87    16209.0   \n",
       "\n",
       "   popularity   members  aired  weighted_avg  \n",
       "0       195.0  309004.0   1988      8.091144  \n",
       "1      2298.0   29545.0   1989      7.378440  "
      ]
     },
     "execution_count": 69,
     "metadata": {},
     "output_type": "execute_result"
    }
   ],
   "source": [
    "group_3 = create_group(1980,1989)\n",
    "group_3.head(2)"
   ]
  },
  {
   "cell_type": "code",
   "execution_count": 70,
   "metadata": {},
   "outputs": [],
   "source": [
    "data_norm_3 = norm(group_3)"
   ]
  },
  {
   "cell_type": "code",
   "execution_count": 71,
   "metadata": {},
   "outputs": [],
   "source": [
    "data_scored_3 = create_score(group_3,data_norm_3)"
   ]
  },
  {
   "cell_type": "code",
   "execution_count": 72,
   "metadata": {},
   "outputs": [
    {
     "data": {
      "text/html": [
       "<div>\n",
       "<style scoped>\n",
       "    .dataframe tbody tr th:only-of-type {\n",
       "        vertical-align: middle;\n",
       "    }\n",
       "\n",
       "    .dataframe tbody tr th {\n",
       "        vertical-align: top;\n",
       "    }\n",
       "\n",
       "    .dataframe thead th {\n",
       "        text-align: right;\n",
       "    }\n",
       "</style>\n",
       "<table border=\"1\" class=\"dataframe\">\n",
       "  <thead>\n",
       "    <tr style=\"text-align: right;\">\n",
       "      <th></th>\n",
       "      <th>title</th>\n",
       "      <th>norm_weighted_avg</th>\n",
       "      <th>norm_popularity</th>\n",
       "      <th>norm_members</th>\n",
       "      <th>score</th>\n",
       "    </tr>\n",
       "  </thead>\n",
       "  <tbody>\n",
       "    <tr>\n",
       "      <th>22</th>\n",
       "      <td>Tonari no Totoro</td>\n",
       "      <td>0.979575</td>\n",
       "      <td>0.001055</td>\n",
       "      <td>0.911369</td>\n",
       "      <td>0.874903</td>\n",
       "    </tr>\n",
       "    <tr>\n",
       "      <th>25</th>\n",
       "      <td>Hotaru no Haka</td>\n",
       "      <td>1.000000</td>\n",
       "      <td>0.012284</td>\n",
       "      <td>0.552138</td>\n",
       "      <td>0.856442</td>\n",
       "    </tr>\n",
       "    <tr>\n",
       "      <th>24</th>\n",
       "      <td>Kaze no Tani no Nausicaä</td>\n",
       "      <td>0.960918</td>\n",
       "      <td>0.022210</td>\n",
       "      <td>0.423764</td>\n",
       "      <td>0.813332</td>\n",
       "    </tr>\n",
       "    <tr>\n",
       "      <th>8</th>\n",
       "      <td>Dragon Ball</td>\n",
       "      <td>0.865619</td>\n",
       "      <td>0.000000</td>\n",
       "      <td>1.000000</td>\n",
       "      <td>0.792495</td>\n",
       "    </tr>\n",
       "    <tr>\n",
       "      <th>20</th>\n",
       "      <td>Majo no Takkyuubin</td>\n",
       "      <td>0.900128</td>\n",
       "      <td>0.016006</td>\n",
       "      <td>0.485183</td>\n",
       "      <td>0.770222</td>\n",
       "    </tr>\n",
       "  </tbody>\n",
       "</table>\n",
       "</div>"
      ],
      "text/plain": [
       "                       title  norm_weighted_avg  norm_popularity  \\\n",
       "22          Tonari no Totoro           0.979575         0.001055   \n",
       "25            Hotaru no Haka           1.000000         0.012284   \n",
       "24  Kaze no Tani no Nausicaä           0.960918         0.022210   \n",
       "8                Dragon Ball           0.865619         0.000000   \n",
       "20        Majo no Takkyuubin           0.900128         0.016006   \n",
       "\n",
       "    norm_members     score  \n",
       "22      0.911369  0.874903  \n",
       "25      0.552138  0.856442  \n",
       "24      0.423764  0.813332  \n",
       "8       1.000000  0.792495  \n",
       "20      0.485183  0.770222  "
      ]
     },
     "execution_count": 72,
     "metadata": {},
     "output_type": "execute_result"
    }
   ],
   "source": [
    "show_normalized(data_scored_3)"
   ]
  },
  {
   "cell_type": "code",
   "execution_count": 73,
   "metadata": {},
   "outputs": [
    {
     "data": {
      "image/png": "[encoded data removed]",
      "text/plain": [
       "<Figure size 1296x576 with 1 Axes>"
      ]
     },
     "metadata": {
      "needs_background": "light"
     },
     "output_type": "display_data"
    }
   ],
   "source": [
    "plot(data_scored_3,1980,1989)"
   ]
  },
  {
   "cell_type": "markdown",
   "metadata": {},
   "source": [
    "### Group4 recommendation (1990 to 1999)"
   ]
  },
  {
   "cell_type": "code",
   "execution_count": 74,
   "metadata": {},
   "outputs": [
    {
     "data": {
      "text/html": [
       "<div>\n",
       "<style scoped>\n",
       "    .dataframe tbody tr th:only-of-type {\n",
       "        vertical-align: middle;\n",
       "    }\n",
       "\n",
       "    .dataframe tbody tr th {\n",
       "        vertical-align: top;\n",
       "    }\n",
       "\n",
       "    .dataframe thead th {\n",
       "        text-align: right;\n",
       "    }\n",
       "</style>\n",
       "<table border=\"1\" class=\"dataframe\">\n",
       "  <thead>\n",
       "    <tr style=\"text-align: right;\">\n",
       "      <th></th>\n",
       "      <th>anime_id</th>\n",
       "      <th>title</th>\n",
       "      <th>rating</th>\n",
       "      <th>scored_by</th>\n",
       "      <th>popularity</th>\n",
       "      <th>members</th>\n",
       "      <th>aired</th>\n",
       "      <th>weighted_avg</th>\n",
       "    </tr>\n",
       "  </thead>\n",
       "  <tbody>\n",
       "    <tr>\n",
       "      <th>0</th>\n",
       "      <td>1</td>\n",
       "      <td>Cowboy Bebop</td>\n",
       "      <td>8.81</td>\n",
       "      <td>363889.0</td>\n",
       "      <td>39.0</td>\n",
       "      <td>704490.0</td>\n",
       "      <td>1998</td>\n",
       "      <td>8.760783</td>\n",
       "    </tr>\n",
       "    <tr>\n",
       "      <th>1</th>\n",
       "      <td>6</td>\n",
       "      <td>Trigun</td>\n",
       "      <td>8.31</td>\n",
       "      <td>197451.0</td>\n",
       "      <td>158.0</td>\n",
       "      <td>372709.0</td>\n",
       "      <td>1998</td>\n",
       "      <td>8.238327</td>\n",
       "    </tr>\n",
       "  </tbody>\n",
       "</table>\n",
       "</div>"
      ],
      "text/plain": [
       "   anime_id         title  rating  scored_by  popularity   members  aired  \\\n",
       "0         1  Cowboy Bebop    8.81   363889.0        39.0  704490.0   1998   \n",
       "1         6        Trigun    8.31   197451.0       158.0  372709.0   1998   \n",
       "\n",
       "   weighted_avg  \n",
       "0      8.760783  \n",
       "1      8.238327  "
      ]
     },
     "execution_count": 74,
     "metadata": {},
     "output_type": "execute_result"
    }
   ],
   "source": [
    "group_4 = create_group(1990,1999)\n",
    "group_4.head(2)"
   ]
  },
  {
   "cell_type": "code",
   "execution_count": 75,
   "metadata": {},
   "outputs": [],
   "source": [
    "data_norm_4 = norm(group_4)"
   ]
  },
  {
   "cell_type": "code",
   "execution_count": 76,
   "metadata": {},
   "outputs": [],
   "source": [
    "data_scored_4 = create_score(group_4,data_norm_4)"
   ]
  },
  {
   "cell_type": "code",
   "execution_count": 77,
   "metadata": {},
   "outputs": [
    {
     "data": {
      "text/html": [
       "<div>\n",
       "<style scoped>\n",
       "    .dataframe tbody tr th:only-of-type {\n",
       "        vertical-align: middle;\n",
       "    }\n",
       "\n",
       "    .dataframe tbody tr th {\n",
       "        vertical-align: top;\n",
       "    }\n",
       "\n",
       "    .dataframe thead th {\n",
       "        text-align: right;\n",
       "    }\n",
       "</style>\n",
       "<table border=\"1\" class=\"dataframe\">\n",
       "  <thead>\n",
       "    <tr style=\"text-align: right;\">\n",
       "      <th></th>\n",
       "      <th>title</th>\n",
       "      <th>norm_weighted_avg</th>\n",
       "      <th>norm_popularity</th>\n",
       "      <th>norm_members</th>\n",
       "      <th>score</th>\n",
       "    </tr>\n",
       "  </thead>\n",
       "  <tbody>\n",
       "    <tr>\n",
       "      <th>0</th>\n",
       "      <td>Cowboy Bebop</td>\n",
       "      <td>1.000000</td>\n",
       "      <td>0.000247</td>\n",
       "      <td>0.983047</td>\n",
       "      <td>0.898329</td>\n",
       "    </tr>\n",
       "    <tr>\n",
       "      <th>41</th>\n",
       "      <td>Mononoke Hime</td>\n",
       "      <td>0.995535</td>\n",
       "      <td>0.002596</td>\n",
       "      <td>0.706581</td>\n",
       "      <td>0.867345</td>\n",
       "    </tr>\n",
       "    <tr>\n",
       "      <th>2</th>\n",
       "      <td>One Piece</td>\n",
       "      <td>0.918994</td>\n",
       "      <td>0.000000</td>\n",
       "      <td>1.000000</td>\n",
       "      <td>0.835195</td>\n",
       "    </tr>\n",
       "    <tr>\n",
       "      <th>60</th>\n",
       "      <td>Great Teacher Onizuka</td>\n",
       "      <td>0.964862</td>\n",
       "      <td>0.007911</td>\n",
       "      <td>0.502218</td>\n",
       "      <td>0.822903</td>\n",
       "    </tr>\n",
       "    <tr>\n",
       "      <th>8</th>\n",
       "      <td>Rurouni Kenshin: Meiji Kenkaku Romantan - Tsui...</td>\n",
       "      <td>0.950189</td>\n",
       "      <td>0.031028</td>\n",
       "      <td>0.232937</td>\n",
       "      <td>0.786548</td>\n",
       "    </tr>\n",
       "  </tbody>\n",
       "</table>\n",
       "</div>"
      ],
      "text/plain": [
       "                                                title  norm_weighted_avg  \\\n",
       "0                                        Cowboy Bebop           1.000000   \n",
       "41                                      Mononoke Hime           0.995535   \n",
       "2                                           One Piece           0.918994   \n",
       "60                              Great Teacher Onizuka           0.964862   \n",
       "8   Rurouni Kenshin: Meiji Kenkaku Romantan - Tsui...           0.950189   \n",
       "\n",
       "    norm_popularity  norm_members     score  \n",
       "0          0.000247      0.983047  0.898329  \n",
       "41         0.002596      0.706581  0.867345  \n",
       "2          0.000000      1.000000  0.835195  \n",
       "60         0.007911      0.502218  0.822903  \n",
       "8          0.031028      0.232937  0.786548  "
      ]
     },
     "execution_count": 77,
     "metadata": {},
     "output_type": "execute_result"
    }
   ],
   "source": [
    "show_normalized(data_scored_4)"
   ]
  },
  {
   "cell_type": "code",
   "execution_count": 78,
   "metadata": {},
   "outputs": [
    {
     "data": {
      "image/png": "[encoded data removed]",
      "text/plain": [
       "<Figure size 1296x576 with 1 Axes>"
      ]
     },
     "metadata": {
      "needs_background": "light"
     },
     "output_type": "display_data"
    }
   ],
   "source": [
    "plot(data_scored_4,1990,1999)"
   ]
  },
  {
   "cell_type": "markdown",
   "metadata": {},
   "source": [
    "### Group5 recommendation (2000 to 2009)"
   ]
  },
  {
   "cell_type": "code",
   "execution_count": 79,
   "metadata": {},
   "outputs": [
    {
     "data": {
      "text/html": [
       "<div>\n",
       "<style scoped>\n",
       "    .dataframe tbody tr th:only-of-type {\n",
       "        vertical-align: middle;\n",
       "    }\n",
       "\n",
       "    .dataframe tbody tr th {\n",
       "        vertical-align: top;\n",
       "    }\n",
       "\n",
       "    .dataframe thead th {\n",
       "        text-align: right;\n",
       "    }\n",
       "</style>\n",
       "<table border=\"1\" class=\"dataframe\">\n",
       "  <thead>\n",
       "    <tr style=\"text-align: right;\">\n",
       "      <th></th>\n",
       "      <th>anime_id</th>\n",
       "      <th>title</th>\n",
       "      <th>rating</th>\n",
       "      <th>scored_by</th>\n",
       "      <th>popularity</th>\n",
       "      <th>members</th>\n",
       "      <th>aired</th>\n",
       "      <th>weighted_avg</th>\n",
       "    </tr>\n",
       "  </thead>\n",
       "  <tbody>\n",
       "    <tr>\n",
       "      <th>0</th>\n",
       "      <td>5</td>\n",
       "      <td>Cowboy Bebop: Tengoku no Tobira</td>\n",
       "      <td>8.41</td>\n",
       "      <td>111187.0</td>\n",
       "      <td>475.0</td>\n",
       "      <td>179899.0</td>\n",
       "      <td>2001</td>\n",
       "      <td>8.280022</td>\n",
       "    </tr>\n",
       "    <tr>\n",
       "      <th>1</th>\n",
       "      <td>7</td>\n",
       "      <td>Witch Hunter Robin</td>\n",
       "      <td>7.34</td>\n",
       "      <td>31875.0</td>\n",
       "      <td>1278.0</td>\n",
       "      <td>74889.0</td>\n",
       "      <td>2002</td>\n",
       "      <td>7.143127</td>\n",
       "    </tr>\n",
       "  </tbody>\n",
       "</table>\n",
       "</div>"
      ],
      "text/plain": [
       "   anime_id                            title  rating  scored_by  popularity  \\\n",
       "0         5  Cowboy Bebop: Tengoku no Tobira    8.41   111187.0       475.0   \n",
       "1         7               Witch Hunter Robin    7.34    31875.0      1278.0   \n",
       "\n",
       "    members  aired  weighted_avg  \n",
       "0  179899.0   2001      8.280022  \n",
       "1   74889.0   2002      7.143127  "
      ]
     },
     "execution_count": 79,
     "metadata": {},
     "output_type": "execute_result"
    }
   ],
   "source": [
    "group_5 = create_group(2000,2009)\n",
    "group_5.head(2)"
   ]
  },
  {
   "cell_type": "code",
   "execution_count": 80,
   "metadata": {},
   "outputs": [],
   "source": [
    "data_norm_5 = norm(group_5)"
   ]
  },
  {
   "cell_type": "code",
   "execution_count": 81,
   "metadata": {},
   "outputs": [],
   "source": [
    "data_scored_5 = create_score(group_5,data_norm_5)"
   ]
  },
  {
   "cell_type": "code",
   "execution_count": 82,
   "metadata": {},
   "outputs": [
    {
     "data": {
      "text/html": [
       "<div>\n",
       "<style scoped>\n",
       "    .dataframe tbody tr th:only-of-type {\n",
       "        vertical-align: middle;\n",
       "    }\n",
       "\n",
       "    .dataframe tbody tr th {\n",
       "        vertical-align: top;\n",
       "    }\n",
       "\n",
       "    .dataframe thead th {\n",
       "        text-align: right;\n",
       "    }\n",
       "</style>\n",
       "<table border=\"1\" class=\"dataframe\">\n",
       "  <thead>\n",
       "    <tr style=\"text-align: right;\">\n",
       "      <th></th>\n",
       "      <th>title</th>\n",
       "      <th>norm_weighted_avg</th>\n",
       "      <th>norm_popularity</th>\n",
       "      <th>norm_members</th>\n",
       "      <th>score</th>\n",
       "    </tr>\n",
       "  </thead>\n",
       "  <tbody>\n",
       "    <tr>\n",
       "      <th>1973</th>\n",
       "      <td>Fullmetal Alchemist: Brotherhood</td>\n",
       "      <td>1.000000</td>\n",
       "      <td>0.000184</td>\n",
       "      <td>0.822835</td>\n",
       "      <td>0.882302</td>\n",
       "    </tr>\n",
       "    <tr>\n",
       "      <th>728</th>\n",
       "      <td>Death Note</td>\n",
       "      <td>0.905169</td>\n",
       "      <td>0.000000</td>\n",
       "      <td>1.000000</td>\n",
       "      <td>0.824135</td>\n",
       "    </tr>\n",
       "    <tr>\n",
       "      <th>1328</th>\n",
       "      <td>Code Geass: Hangyaku no Lelouch R2</td>\n",
       "      <td>0.948902</td>\n",
       "      <td>0.001598</td>\n",
       "      <td>0.543387</td>\n",
       "      <td>0.813620</td>\n",
       "    </tr>\n",
       "    <tr>\n",
       "      <th>1757</th>\n",
       "      <td>Clannad: After Story</td>\n",
       "      <td>0.955879</td>\n",
       "      <td>0.003872</td>\n",
       "      <td>0.417341</td>\n",
       "      <td>0.806824</td>\n",
       "    </tr>\n",
       "    <tr>\n",
       "      <th>749</th>\n",
       "      <td>Code Geass: Hangyaku no Lelouch</td>\n",
       "      <td>0.923265</td>\n",
       "      <td>0.000615</td>\n",
       "      <td>0.677595</td>\n",
       "      <td>0.806433</td>\n",
       "    </tr>\n",
       "  </tbody>\n",
       "</table>\n",
       "</div>"
      ],
      "text/plain": [
       "                                   title  norm_weighted_avg  norm_popularity  \\\n",
       "1973    Fullmetal Alchemist: Brotherhood           1.000000         0.000184   \n",
       "728                           Death Note           0.905169         0.000000   \n",
       "1328  Code Geass: Hangyaku no Lelouch R2           0.948902         0.001598   \n",
       "1757                Clannad: After Story           0.955879         0.003872   \n",
       "749      Code Geass: Hangyaku no Lelouch           0.923265         0.000615   \n",
       "\n",
       "      norm_members     score  \n",
       "1973      0.822835  0.882302  \n",
       "728       1.000000  0.824135  \n",
       "1328      0.543387  0.813620  \n",
       "1757      0.417341  0.806824  \n",
       "749       0.677595  0.806433  "
      ]
     },
     "execution_count": 82,
     "metadata": {},
     "output_type": "execute_result"
    }
   ],
   "source": [
    "show_normalized(data_scored_5)"
   ]
  },
  {
   "cell_type": "code",
   "execution_count": 83,
   "metadata": {},
   "outputs": [
    {
     "data": {
      "image/png": "[encoded data removed]",
      "text/plain": [
       "<Figure size 1296x576 with 1 Axes>"
      ]
     },
     "metadata": {
      "needs_background": "light"
     },
     "output_type": "display_data"
    }
   ],
   "source": [
    "plot(data_scored_5,2000,2009)"
   ]
  },
  {
   "cell_type": "markdown",
   "metadata": {},
   "source": [
    "### Group6 recommendation (2010 to 2019)"
   ]
  },
  {
   "cell_type": "code",
   "execution_count": 84,
   "metadata": {},
   "outputs": [
    {
     "data": {
      "text/html": [
       "<div>\n",
       "<style scoped>\n",
       "    .dataframe tbody tr th:only-of-type {\n",
       "        vertical-align: middle;\n",
       "    }\n",
       "\n",
       "    .dataframe tbody tr th {\n",
       "        vertical-align: top;\n",
       "    }\n",
       "\n",
       "    .dataframe thead th {\n",
       "        text-align: right;\n",
       "    }\n",
       "</style>\n",
       "<table border=\"1\" class=\"dataframe\">\n",
       "  <thead>\n",
       "    <tr style=\"text-align: right;\">\n",
       "      <th></th>\n",
       "      <th>anime_id</th>\n",
       "      <th>title</th>\n",
       "      <th>rating</th>\n",
       "      <th>scored_by</th>\n",
       "      <th>popularity</th>\n",
       "      <th>members</th>\n",
       "      <th>aired</th>\n",
       "      <th>weighted_avg</th>\n",
       "    </tr>\n",
       "  </thead>\n",
       "  <tbody>\n",
       "    <tr>\n",
       "      <th>0</th>\n",
       "      <td>4106</td>\n",
       "      <td>Trigun: Badlands Rumble</td>\n",
       "      <td>8.05</td>\n",
       "      <td>46942.0</td>\n",
       "      <td>1117.0</td>\n",
       "      <td>84011.0</td>\n",
       "      <td>2010</td>\n",
       "      <td>7.813595</td>\n",
       "    </tr>\n",
       "    <tr>\n",
       "      <th>1</th>\n",
       "      <td>4713</td>\n",
       "      <td>Heart no Kuni no Alice: Wonderful Wonder World</td>\n",
       "      <td>6.23</td>\n",
       "      <td>7822.0</td>\n",
       "      <td>2797.0</td>\n",
       "      <td>23507.0</td>\n",
       "      <td>2011</td>\n",
       "      <td>6.249441</td>\n",
       "    </tr>\n",
       "  </tbody>\n",
       "</table>\n",
       "</div>"
      ],
      "text/plain": [
       "   anime_id                                           title  rating  \\\n",
       "0      4106                         Trigun: Badlands Rumble    8.05   \n",
       "1      4713  Heart no Kuni no Alice: Wonderful Wonder World    6.23   \n",
       "\n",
       "   scored_by  popularity  members  aired  weighted_avg  \n",
       "0    46942.0      1117.0  84011.0   2010      7.813595  \n",
       "1     7822.0      2797.0  23507.0   2011      6.249441  "
      ]
     },
     "execution_count": 84,
     "metadata": {},
     "output_type": "execute_result"
    }
   ],
   "source": [
    "group_6 = create_group(2010,2019)\n",
    "group_6.head(2)"
   ]
  },
  {
   "cell_type": "code",
   "execution_count": 85,
   "metadata": {},
   "outputs": [],
   "source": [
    "data_norm_6 = norm(group_6)"
   ]
  },
  {
   "cell_type": "code",
   "execution_count": 86,
   "metadata": {},
   "outputs": [],
   "source": [
    "data_scored_6 = create_score(group_6,data_norm_6)"
   ]
  },
  {
   "cell_type": "code",
   "execution_count": 87,
   "metadata": {},
   "outputs": [
    {
     "data": {
      "text/html": [
       "<div>\n",
       "<style scoped>\n",
       "    .dataframe tbody tr th:only-of-type {\n",
       "        vertical-align: middle;\n",
       "    }\n",
       "\n",
       "    .dataframe tbody tr th {\n",
       "        vertical-align: top;\n",
       "    }\n",
       "\n",
       "    .dataframe thead th {\n",
       "        text-align: right;\n",
       "    }\n",
       "</style>\n",
       "<table border=\"1\" class=\"dataframe\">\n",
       "  <thead>\n",
       "    <tr style=\"text-align: right;\">\n",
       "      <th></th>\n",
       "      <th>title</th>\n",
       "      <th>norm_weighted_avg</th>\n",
       "      <th>norm_popularity</th>\n",
       "      <th>norm_members</th>\n",
       "      <th>score</th>\n",
       "    </tr>\n",
       "  </thead>\n",
       "  <tbody>\n",
       "    <tr>\n",
       "      <th>253</th>\n",
       "      <td>Steins;Gate</td>\n",
       "      <td>0.991809</td>\n",
       "      <td>0.000307</td>\n",
       "      <td>0.750222</td>\n",
       "      <td>0.868500</td>\n",
       "    </tr>\n",
       "    <tr>\n",
       "      <th>3243</th>\n",
       "      <td>Kimi no Na wa.</td>\n",
       "      <td>1.000000</td>\n",
       "      <td>0.000798</td>\n",
       "      <td>0.540403</td>\n",
       "      <td>0.854120</td>\n",
       "    </tr>\n",
       "    <tr>\n",
       "      <th>663</th>\n",
       "      <td>Hunter x Hunter (2011)</td>\n",
       "      <td>0.983289</td>\n",
       "      <td>0.001105</td>\n",
       "      <td>0.534375</td>\n",
       "      <td>0.840179</td>\n",
       "    </tr>\n",
       "    <tr>\n",
       "      <th>2373</th>\n",
       "      <td>Koe no Katachi</td>\n",
       "      <td>0.966487</td>\n",
       "      <td>0.003132</td>\n",
       "      <td>0.378548</td>\n",
       "      <td>0.811358</td>\n",
       "    </tr>\n",
       "    <tr>\n",
       "      <th>2616</th>\n",
       "      <td>One Punch Man</td>\n",
       "      <td>0.914072</td>\n",
       "      <td>0.000184</td>\n",
       "      <td>0.757220</td>\n",
       "      <td>0.806998</td>\n",
       "    </tr>\n",
       "  </tbody>\n",
       "</table>\n",
       "</div>"
      ],
      "text/plain": [
       "                       title  norm_weighted_avg  norm_popularity  \\\n",
       "253              Steins;Gate           0.991809         0.000307   \n",
       "3243          Kimi no Na wa.           1.000000         0.000798   \n",
       "663   Hunter x Hunter (2011)           0.983289         0.001105   \n",
       "2373          Koe no Katachi           0.966487         0.003132   \n",
       "2616           One Punch Man           0.914072         0.000184   \n",
       "\n",
       "      norm_members     score  \n",
       "253       0.750222  0.868500  \n",
       "3243      0.540403  0.854120  \n",
       "663       0.534375  0.840179  \n",
       "2373      0.378548  0.811358  \n",
       "2616      0.757220  0.806998  "
      ]
     },
     "execution_count": 87,
     "metadata": {},
     "output_type": "execute_result"
    }
   ],
   "source": [
    "show_normalized(data_scored_6)"
   ]
  },
  {
   "cell_type": "code",
   "execution_count": 88,
   "metadata": {},
   "outputs": [
    {
     "data": {
      "image/png": "[encoded data removed]",
      "text/plain": [
       "<Figure size 1296x576 with 1 Axes>"
      ]
     },
     "metadata": {
      "needs_background": "light"
     },
     "output_type": "display_data"
    }
   ],
   "source": [
    "plot(data_scored_6,2010,2019)"
   ]
  },
  {
   "cell_type": "code",
   "execution_count": null,
   "metadata": {},
   "outputs": [],
   "source": []
  }
 ],
 "metadata": {
  "kernelspec": {
   "display_name": "Python 3",
   "language": "python",
   "name": "python3"
  },
  "language_info": {
   "codemirror_mode": {
    "name": "ipython",
    "version": 3
   },
   "file_extension": ".py",
   "mimetype": "text/x-python",
   "name": "python",
   "nbconvert_exporter": "python",
   "pygments_lexer": "ipython3",
   "version": "3.7.1"
  }
 },
 "nbformat": 4,
 "nbformat_minor": 2
}
