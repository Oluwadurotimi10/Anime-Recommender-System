{
 "cells": [
  {
   "cell_type": "code",
   "execution_count": 1,
   "metadata": {},
   "outputs": [],
   "source": [
    "#importing necessary libraries\n",
    "import pandas as pd\n",
    "import numpy as np\n",
    "import matplotlib.pyplot as plt\n",
    "import seaborn as sns\n",
    "%matplotlib inline"
   ]
  },
  {
   "cell_type": "code",
   "execution_count": 2,
   "metadata": {},
   "outputs": [],
   "source": [
    "#loading the dataset\n",
    "anime_data = pd.read_csv('DATA/Anime_data.csv')"
   ]
  },
  {
   "cell_type": "code",
   "execution_count": 3,
   "metadata": {},
   "outputs": [
    {
     "data": {
      "text/html": [
       "<div>\n",
       "<style scoped>\n",
       "    .dataframe tbody tr th:only-of-type {\n",
       "        vertical-align: middle;\n",
       "    }\n",
       "\n",
       "    .dataframe tbody tr th {\n",
       "        vertical-align: top;\n",
       "    }\n",
       "\n",
       "    .dataframe thead th {\n",
       "        text-align: right;\n",
       "    }\n",
       "</style>\n",
       "<table border=\"1\" class=\"dataframe\">\n",
       "  <thead>\n",
       "    <tr style=\"text-align: right;\">\n",
       "      <th></th>\n",
       "      <th>Anime_id</th>\n",
       "      <th>Title</th>\n",
       "      <th>Genre</th>\n",
       "      <th>Synopsis</th>\n",
       "      <th>Type</th>\n",
       "      <th>Producer</th>\n",
       "      <th>Studio</th>\n",
       "      <th>Rating</th>\n",
       "      <th>ScoredBy</th>\n",
       "      <th>Popularity</th>\n",
       "      <th>Members</th>\n",
       "      <th>Episodes</th>\n",
       "      <th>Source</th>\n",
       "      <th>Aired</th>\n",
       "      <th>Link</th>\n",
       "    </tr>\n",
       "  </thead>\n",
       "  <tbody>\n",
       "    <tr>\n",
       "      <th>0</th>\n",
       "      <td>1</td>\n",
       "      <td>Cowboy Bebop</td>\n",
       "      <td>['Action', 'Adventure', 'Comedy', 'Drama', 'Sc...</td>\n",
       "      <td>In the year 2071, humanity has colonized sever...</td>\n",
       "      <td>TV</td>\n",
       "      <td>['Bandai Visual']</td>\n",
       "      <td>['Sunrise']</td>\n",
       "      <td>8.81</td>\n",
       "      <td>363889.0</td>\n",
       "      <td>39.0</td>\n",
       "      <td>704490.0</td>\n",
       "      <td>26.0</td>\n",
       "      <td>Original</td>\n",
       "      <td>Apr 3, 1998 to Apr 24, 1999</td>\n",
       "      <td>https://myanimelist.net/anime/1/Cowboy_Bebop</td>\n",
       "    </tr>\n",
       "    <tr>\n",
       "      <th>1</th>\n",
       "      <td>5</td>\n",
       "      <td>Cowboy Bebop: Tengoku no Tobira</td>\n",
       "      <td>['Action', 'Space', 'Drama', 'Mystery', 'Sci-Fi']</td>\n",
       "      <td>Another day, another bounty—such is the life o...</td>\n",
       "      <td>Movie</td>\n",
       "      <td>['Sunrise', 'Bandai Visual']</td>\n",
       "      <td>['Bones']</td>\n",
       "      <td>8.41</td>\n",
       "      <td>111187.0</td>\n",
       "      <td>475.0</td>\n",
       "      <td>179899.0</td>\n",
       "      <td>1.0</td>\n",
       "      <td>Original</td>\n",
       "      <td>Sep 1, 2001</td>\n",
       "      <td>https://myanimelist.net/anime/5/Cowboy_Bebop__...</td>\n",
       "    </tr>\n",
       "  </tbody>\n",
       "</table>\n",
       "</div>"
      ],
      "text/plain": [
       "   Anime_id                            Title  \\\n",
       "0         1                     Cowboy Bebop   \n",
       "1         5  Cowboy Bebop: Tengoku no Tobira   \n",
       "\n",
       "                                               Genre  \\\n",
       "0  ['Action', 'Adventure', 'Comedy', 'Drama', 'Sc...   \n",
       "1  ['Action', 'Space', 'Drama', 'Mystery', 'Sci-Fi']   \n",
       "\n",
       "                                            Synopsis   Type  \\\n",
       "0  In the year 2071, humanity has colonized sever...     TV   \n",
       "1  Another day, another bounty—such is the life o...  Movie   \n",
       "\n",
       "                       Producer       Studio  Rating  ScoredBy  Popularity  \\\n",
       "0             ['Bandai Visual']  ['Sunrise']    8.81  363889.0        39.0   \n",
       "1  ['Sunrise', 'Bandai Visual']    ['Bones']    8.41  111187.0       475.0   \n",
       "\n",
       "    Members  Episodes    Source                        Aired  \\\n",
       "0  704490.0      26.0  Original  Apr 3, 1998 to Apr 24, 1999   \n",
       "1  179899.0       1.0  Original                  Sep 1, 2001   \n",
       "\n",
       "                                                Link  \n",
       "0       https://myanimelist.net/anime/1/Cowboy_Bebop  \n",
       "1  https://myanimelist.net/anime/5/Cowboy_Bebop__...  "
      ]
     },
     "execution_count": 3,
     "metadata": {},
     "output_type": "execute_result"
    }
   ],
   "source": [
    "anime_data.head(2)"
   ]
  },
  {
   "cell_type": "code",
   "execution_count": 4,
   "metadata": {},
   "outputs": [
    {
     "data": {
      "text/html": [
       "<div>\n",
       "<style scoped>\n",
       "    .dataframe tbody tr th:only-of-type {\n",
       "        vertical-align: middle;\n",
       "    }\n",
       "\n",
       "    .dataframe tbody tr th {\n",
       "        vertical-align: top;\n",
       "    }\n",
       "\n",
       "    .dataframe thead th {\n",
       "        text-align: right;\n",
       "    }\n",
       "</style>\n",
       "<table border=\"1\" class=\"dataframe\">\n",
       "  <thead>\n",
       "    <tr style=\"text-align: right;\">\n",
       "      <th></th>\n",
       "      <th>Anime_id</th>\n",
       "      <th>Title</th>\n",
       "      <th>Rating</th>\n",
       "      <th>ScoredBy</th>\n",
       "      <th>Popularity</th>\n",
       "      <th>Members</th>\n",
       "      <th>Aired</th>\n",
       "    </tr>\n",
       "  </thead>\n",
       "  <tbody>\n",
       "    <tr>\n",
       "      <th>0</th>\n",
       "      <td>1</td>\n",
       "      <td>Cowboy Bebop</td>\n",
       "      <td>8.81</td>\n",
       "      <td>363889.0</td>\n",
       "      <td>39.0</td>\n",
       "      <td>704490.0</td>\n",
       "      <td>Apr 3, 1998 to Apr 24, 1999</td>\n",
       "    </tr>\n",
       "    <tr>\n",
       "      <th>1</th>\n",
       "      <td>5</td>\n",
       "      <td>Cowboy Bebop: Tengoku no Tobira</td>\n",
       "      <td>8.41</td>\n",
       "      <td>111187.0</td>\n",
       "      <td>475.0</td>\n",
       "      <td>179899.0</td>\n",
       "      <td>Sep 1, 2001</td>\n",
       "    </tr>\n",
       "  </tbody>\n",
       "</table>\n",
       "</div>"
      ],
      "text/plain": [
       "   Anime_id                            Title  Rating  ScoredBy  Popularity  \\\n",
       "0         1                     Cowboy Bebop    8.81  363889.0        39.0   \n",
       "1         5  Cowboy Bebop: Tengoku no Tobira    8.41  111187.0       475.0   \n",
       "\n",
       "    Members                        Aired  \n",
       "0  704490.0  Apr 3, 1998 to Apr 24, 1999  \n",
       "1  179899.0                  Sep 1, 2001  "
      ]
     },
     "execution_count": 4,
     "metadata": {},
     "output_type": "execute_result"
    }
   ],
   "source": [
    "#droping the columns that won't be used\n",
    "anime_data = anime_data.drop(columns=['Genre','Synopsis','Type','Producer','Studio','Episodes','Source','Link'])\n",
    "anime_data.head(2)"
   ]
  },
  {
   "cell_type": "code",
   "execution_count": 5,
   "metadata": {},
   "outputs": [],
   "source": [
    "#renaming the columns\n",
    "anime_data = anime_data.rename(columns={'Anime_id': 'anime_id', 'Title': 'title','Rating':'rating','ScoredBy':'scored_by',\n",
    "                                        'Popularity':'popularity','Members':'members','Aired':'aired'})"
   ]
  },
  {
   "cell_type": "code",
   "execution_count": 6,
   "metadata": {},
   "outputs": [
    {
     "data": {
      "text/plain": [
       "(17002, 7)"
      ]
     },
     "execution_count": 6,
     "metadata": {},
     "output_type": "execute_result"
    }
   ],
   "source": [
    "#shape of the data\n",
    "anime_data.shape"
   ]
  },
  {
   "cell_type": "code",
   "execution_count": 7,
   "metadata": {},
   "outputs": [
    {
     "data": {
      "text/plain": [
       "anime_id        int64\n",
       "title          object\n",
       "rating        float64\n",
       "scored_by     float64\n",
       "popularity    float64\n",
       "members       float64\n",
       "aired          object\n",
       "dtype: object"
      ]
     },
     "execution_count": 7,
     "metadata": {},
     "output_type": "execute_result"
    }
   ],
   "source": [
    "#checking the data type f each column\n",
    "anime_data.dtypes"
   ]
  },
  {
   "cell_type": "code",
   "execution_count": 8,
   "metadata": {},
   "outputs": [
    {
     "data": {
      "text/plain": [
       "anime_id         0\n",
       "title            0\n",
       "rating        2577\n",
       "scored_by     3775\n",
       "popularity     634\n",
       "members          0\n",
       "aired          634\n",
       "dtype: int64"
      ]
     },
     "execution_count": 8,
     "metadata": {},
     "output_type": "execute_result"
    }
   ],
   "source": [
    "#checking for null values\n",
    "anime_data.isnull().sum()"
   ]
  },
  {
   "cell_type": "code",
   "execution_count": 9,
   "metadata": {},
   "outputs": [],
   "source": [
    "#dropping the null values\n",
    "anime_data.dropna(how = 'any', inplace = True)"
   ]
  },
  {
   "cell_type": "code",
   "execution_count": 10,
   "metadata": {},
   "outputs": [
    {
     "data": {
      "text/plain": [
       "(13022, 7)"
      ]
     },
     "execution_count": 10,
     "metadata": {},
     "output_type": "execute_result"
    }
   ],
   "source": [
    "#checking the shape after dropping the null values\n",
    "anime_data.shape"
   ]
  },
  {
   "cell_type": "code",
   "execution_count": 11,
   "metadata": {},
   "outputs": [
    {
     "data": {
      "text/plain": [
       "0      Apr 3, 1998 to Apr 24, 1999\n",
       "1                      Sep 1, 2001\n",
       "2      Apr 1, 1998 to Sep 30, 1998\n",
       "3      Jul 2, 2002 to Dec 24, 2002\n",
       "4     Sep 30, 2004 to Sep 29, 2005\n",
       "5      Apr 6, 2005 to Mar 19, 2008\n",
       "6     Apr 15, 2005 to Sep 27, 2005\n",
       "7     Sep 11, 2002 to Sep 10, 2003\n",
       "8     Apr 17, 2004 to Feb 18, 2006\n",
       "9      Apr 7, 2004 to Sep 28, 2005\n",
       "10      Oct 3, 2002 to Feb 8, 2007\n",
       "11               Oct 20, 1999 to ?\n",
       "Name: aired, dtype: object"
      ]
     },
     "execution_count": 11,
     "metadata": {},
     "output_type": "execute_result"
    }
   ],
   "source": [
    "#checking out the aired column\n",
    "anime_data['aired'].head(12\n",
    "                        )"
   ]
  },
  {
   "cell_type": "code",
   "execution_count": 12,
   "metadata": {
    "scrolled": true
   },
   "outputs": [
    {
     "data": {
      "text/plain": [
       "aired\n",
       "Sep 9, 2016               2\n",
       "Sep 9, 2017               1\n",
       "Sep, 1949                 1\n",
       "Sep, 1988                 1\n",
       "Sep, 1997                 1\n",
       "Sep, 2002 to Jul, 2004    1\n",
       "Sep, 2007                 1\n",
       "Sep, 2008                 1\n",
       "Sep, 2009                 1\n",
       "Sep, 2012                 1\n",
       "Name: title, dtype: int64"
      ]
     },
     "execution_count": 12,
     "metadata": {},
     "output_type": "execute_result"
    }
   ],
   "source": [
    "#checking the number of animes aired on the same day\n",
    "b = anime_data.groupby('aired')['title'].count()\n",
    "b.tail(10)"
   ]
  },
  {
   "cell_type": "code",
   "execution_count": 29,
   "metadata": {},
   "outputs": [],
   "source": [
    "#function to get only the first year\n",
    "import re\n",
    "def get_year(s):\n",
    "    years = re.findall(r\"\\d{4}\",str(s))\n",
    "    if years:\n",
    "        return (years[0])\n",
    "    else:\n",
    "        return '[]'"
   ]
  },
  {
   "cell_type": "code",
   "execution_count": 30,
   "metadata": {},
   "outputs": [
    {
     "data": {
      "text/plain": [
       "0    1998\n",
       "1    2001\n",
       "2    1998\n",
       "3    2002\n",
       "4    2004\n",
       "Name: aired, dtype: object"
      ]
     },
     "execution_count": 30,
     "metadata": {},
     "output_type": "execute_result"
    }
   ],
   "source": [
    "anime_data['aired'] = anime_data['aired'].apply(get_year)\n",
    "anime_data['aired'].head()"
   ]
  },
  {
   "cell_type": "code",
   "execution_count": 31,
   "metadata": {},
   "outputs": [],
   "source": [
    "#getting the unique years in the aired column\n",
    "def unique_year(x):\n",
    "    unique = []\n",
    "    for i in x:\n",
    "        if i not in unique:\n",
    "            unique.append(i)\n",
    "    return unique"
   ]
  },
  {
   "cell_type": "code",
   "execution_count": 32,
   "metadata": {},
   "outputs": [
    {
     "data": {
      "text/plain": [
       "99"
      ]
     },
     "execution_count": 32,
     "metadata": {},
     "output_type": "execute_result"
    }
   ],
   "source": [
    "b = unique_year(anime_data['aired'])\n",
    "len(b)"
   ]
  },
  {
   "cell_type": "markdown",
   "metadata": {},
   "source": [
    "As you can see from the unique values there are empty list, so they have to be removed. That is why unique() attribute could not be used to get the unique values"
   ]
  },
  {
   "cell_type": "code",
   "execution_count": 34,
   "metadata": {
    "scrolled": false
   },
   "outputs": [
    {
     "data": {
      "text/html": [
       "<div>\n",
       "<style scoped>\n",
       "    .dataframe tbody tr th:only-of-type {\n",
       "        vertical-align: middle;\n",
       "    }\n",
       "\n",
       "    .dataframe tbody tr th {\n",
       "        vertical-align: top;\n",
       "    }\n",
       "\n",
       "    .dataframe thead th {\n",
       "        text-align: right;\n",
       "    }\n",
       "</style>\n",
       "<table border=\"1\" class=\"dataframe\">\n",
       "  <thead>\n",
       "    <tr style=\"text-align: right;\">\n",
       "      <th></th>\n",
       "      <th>anime_id</th>\n",
       "      <th>title</th>\n",
       "      <th>rating</th>\n",
       "      <th>scored_by</th>\n",
       "      <th>popularity</th>\n",
       "      <th>members</th>\n",
       "      <th>aired</th>\n",
       "    </tr>\n",
       "  </thead>\n",
       "  <tbody>\n",
       "    <tr>\n",
       "      <th>8235</th>\n",
       "      <td>25985</td>\n",
       "      <td>Contact</td>\n",
       "      <td>5.26</td>\n",
       "      <td>77.0</td>\n",
       "      <td>12487.0</td>\n",
       "      <td>170.0</td>\n",
       "      <td>[]</td>\n",
       "    </tr>\n",
       "    <tr>\n",
       "      <th>8289</th>\n",
       "      <td>26157</td>\n",
       "      <td>Shin-chan no Sanrinsha</td>\n",
       "      <td>6.69</td>\n",
       "      <td>13.0</td>\n",
       "      <td>14261.0</td>\n",
       "      <td>99.0</td>\n",
       "      <td>[]</td>\n",
       "    </tr>\n",
       "    <tr>\n",
       "      <th>8310</th>\n",
       "      <td>26237</td>\n",
       "      <td>Cherry Blossom</td>\n",
       "      <td>6.00</td>\n",
       "      <td>6.0</td>\n",
       "      <td>14293.0</td>\n",
       "      <td>102.0</td>\n",
       "      <td>[]</td>\n",
       "    </tr>\n",
       "    <tr>\n",
       "      <th>8625</th>\n",
       "      <td>28581</td>\n",
       "      <td>Nintama Rantarou no Jishin Youjin Hi no Youjin</td>\n",
       "      <td>6.17</td>\n",
       "      <td>12.0</td>\n",
       "      <td>13910.0</td>\n",
       "      <td>112.0</td>\n",
       "      <td>[]</td>\n",
       "    </tr>\n",
       "    <tr>\n",
       "      <th>8626</th>\n",
       "      <td>28583</td>\n",
       "      <td>Nintama Rantarou no Shouboutai</td>\n",
       "      <td>6.54</td>\n",
       "      <td>13.0</td>\n",
       "      <td>13771.0</td>\n",
       "      <td>118.0</td>\n",
       "      <td>[]</td>\n",
       "    </tr>\n",
       "    <tr>\n",
       "      <th>...</th>\n",
       "      <td>...</td>\n",
       "      <td>...</td>\n",
       "      <td>...</td>\n",
       "      <td>...</td>\n",
       "      <td>...</td>\n",
       "      <td>...</td>\n",
       "      <td>...</td>\n",
       "    </tr>\n",
       "    <tr>\n",
       "      <th>14607</th>\n",
       "      <td>39147</td>\n",
       "      <td>Hachidori no Hito Shizuku: Watashi ni Dekiru koto</td>\n",
       "      <td>4.00</td>\n",
       "      <td>2.0</td>\n",
       "      <td>16235.0</td>\n",
       "      <td>15.0</td>\n",
       "      <td>[]</td>\n",
       "    </tr>\n",
       "    <tr>\n",
       "      <th>14615</th>\n",
       "      <td>39155</td>\n",
       "      <td>Kuma-san no My Home</td>\n",
       "      <td>1.00</td>\n",
       "      <td>1.0</td>\n",
       "      <td>16264.0</td>\n",
       "      <td>14.0</td>\n",
       "      <td>[]</td>\n",
       "    </tr>\n",
       "    <tr>\n",
       "      <th>14616</th>\n",
       "      <td>39156</td>\n",
       "      <td>Kaji to Kouma</td>\n",
       "      <td>4.00</td>\n",
       "      <td>2.0</td>\n",
       "      <td>16220.0</td>\n",
       "      <td>15.0</td>\n",
       "      <td>[]</td>\n",
       "    </tr>\n",
       "    <tr>\n",
       "      <th>14622</th>\n",
       "      <td>39162</td>\n",
       "      <td>Tatakae! Chou Robot Seimeitai Transformers Vic...</td>\n",
       "      <td>6.38</td>\n",
       "      <td>8.0</td>\n",
       "      <td>14493.0</td>\n",
       "      <td>72.0</td>\n",
       "      <td>[]</td>\n",
       "    </tr>\n",
       "    <tr>\n",
       "      <th>14681</th>\n",
       "      <td>39226</td>\n",
       "      <td>Captain Tsubasa no Shouka Sakusen</td>\n",
       "      <td>6.36</td>\n",
       "      <td>22.0</td>\n",
       "      <td>12095.0</td>\n",
       "      <td>184.0</td>\n",
       "      <td>[]</td>\n",
       "    </tr>\n",
       "  </tbody>\n",
       "</table>\n",
       "<p>105 rows × 7 columns</p>\n",
       "</div>"
      ],
      "text/plain": [
       "       anime_id                                              title  rating  \\\n",
       "8235      25985                                            Contact    5.26   \n",
       "8289      26157                             Shin-chan no Sanrinsha    6.69   \n",
       "8310      26237                                     Cherry Blossom    6.00   \n",
       "8625      28581     Nintama Rantarou no Jishin Youjin Hi no Youjin    6.17   \n",
       "8626      28583                     Nintama Rantarou no Shouboutai    6.54   \n",
       "...         ...                                                ...     ...   \n",
       "14607     39147  Hachidori no Hito Shizuku: Watashi ni Dekiru koto    4.00   \n",
       "14615     39155                                Kuma-san no My Home    1.00   \n",
       "14616     39156                                      Kaji to Kouma    4.00   \n",
       "14622     39162  Tatakae! Chou Robot Seimeitai Transformers Vic...    6.38   \n",
       "14681     39226                  Captain Tsubasa no Shouka Sakusen    6.36   \n",
       "\n",
       "       scored_by  popularity  members aired  \n",
       "8235        77.0     12487.0    170.0    []  \n",
       "8289        13.0     14261.0     99.0    []  \n",
       "8310         6.0     14293.0    102.0    []  \n",
       "8625        12.0     13910.0    112.0    []  \n",
       "8626        13.0     13771.0    118.0    []  \n",
       "...          ...         ...      ...   ...  \n",
       "14607        2.0     16235.0     15.0    []  \n",
       "14615        1.0     16264.0     14.0    []  \n",
       "14616        2.0     16220.0     15.0    []  \n",
       "14622        8.0     14493.0     72.0    []  \n",
       "14681       22.0     12095.0    184.0    []  \n",
       "\n",
       "[105 rows x 7 columns]"
      ]
     },
     "execution_count": 34,
     "metadata": {},
     "output_type": "execute_result"
    }
   ],
   "source": [
    "#rows without release dates\n",
    "anime_data[anime_data['aired']== '[]']"
   ]
  },
  {
   "cell_type": "code",
   "execution_count": 36,
   "metadata": {},
   "outputs": [],
   "source": [
    "#getting rid of rows without dates\n",
    "anime_data = anime_data[anime_data['aired'] != '[]']"
   ]
  },
  {
   "cell_type": "code",
   "execution_count": 37,
   "metadata": {},
   "outputs": [],
   "source": [
    "#converting the type of aired column to int\n",
    "anime_data['aired'] = anime_data['aired'].astype('int')"
   ]
  },
  {
   "cell_type": "code",
   "execution_count": 38,
   "metadata": {},
   "outputs": [
    {
     "data": {
      "text/plain": [
       "anime_id        int64\n",
       "title          object\n",
       "rating        float64\n",
       "scored_by     float64\n",
       "popularity    float64\n",
       "members       float64\n",
       "aired           int64\n",
       "dtype: object"
      ]
     },
     "execution_count": 38,
     "metadata": {},
     "output_type": "execute_result"
    }
   ],
   "source": [
    "anime_data.dtypes"
   ]
  },
  {
   "cell_type": "code",
   "execution_count": 39,
   "metadata": {},
   "outputs": [
    {
     "data": {
      "text/html": [
       "<div>\n",
       "<style scoped>\n",
       "    .dataframe tbody tr th:only-of-type {\n",
       "        vertical-align: middle;\n",
       "    }\n",
       "\n",
       "    .dataframe tbody tr th {\n",
       "        vertical-align: top;\n",
       "    }\n",
       "\n",
       "    .dataframe thead th {\n",
       "        text-align: right;\n",
       "    }\n",
       "</style>\n",
       "<table border=\"1\" class=\"dataframe\">\n",
       "  <thead>\n",
       "    <tr style=\"text-align: right;\">\n",
       "      <th></th>\n",
       "      <th>anime_id</th>\n",
       "      <th>title</th>\n",
       "      <th>rating</th>\n",
       "      <th>scored_by</th>\n",
       "      <th>popularity</th>\n",
       "      <th>members</th>\n",
       "      <th>aired</th>\n",
       "    </tr>\n",
       "  </thead>\n",
       "  <tbody>\n",
       "    <tr>\n",
       "      <th>0</th>\n",
       "      <td>1</td>\n",
       "      <td>Cowboy Bebop</td>\n",
       "      <td>8.81</td>\n",
       "      <td>363889.0</td>\n",
       "      <td>39.0</td>\n",
       "      <td>704490.0</td>\n",
       "      <td>1998</td>\n",
       "    </tr>\n",
       "    <tr>\n",
       "      <th>1</th>\n",
       "      <td>5</td>\n",
       "      <td>Cowboy Bebop: Tengoku no Tobira</td>\n",
       "      <td>8.41</td>\n",
       "      <td>111187.0</td>\n",
       "      <td>475.0</td>\n",
       "      <td>179899.0</td>\n",
       "      <td>2001</td>\n",
       "    </tr>\n",
       "    <tr>\n",
       "      <th>2</th>\n",
       "      <td>6</td>\n",
       "      <td>Trigun</td>\n",
       "      <td>8.31</td>\n",
       "      <td>197451.0</td>\n",
       "      <td>158.0</td>\n",
       "      <td>372709.0</td>\n",
       "      <td>1998</td>\n",
       "    </tr>\n",
       "  </tbody>\n",
       "</table>\n",
       "</div>"
      ],
      "text/plain": [
       "   anime_id                            title  rating  scored_by  popularity  \\\n",
       "0         1                     Cowboy Bebop    8.81   363889.0        39.0   \n",
       "1         5  Cowboy Bebop: Tengoku no Tobira    8.41   111187.0       475.0   \n",
       "2         6                           Trigun    8.31   197451.0       158.0   \n",
       "\n",
       "    members  aired  \n",
       "0  704490.0   1998  \n",
       "1  179899.0   2001  \n",
       "2  372709.0   1998  "
      ]
     },
     "execution_count": 39,
     "metadata": {},
     "output_type": "execute_result"
    }
   ],
   "source": [
    "#viewing the data\n",
    "anime_data.head(3)"
   ]
  },
  {
   "cell_type": "code",
   "execution_count": 40,
   "metadata": {},
   "outputs": [
    {
     "data": {
      "text/plain": [
       "(12917, 7)"
      ]
     },
     "execution_count": 40,
     "metadata": {},
     "output_type": "execute_result"
    }
   ],
   "source": [
    "#checking the new shape of the data\n",
    "anime_data.shape"
   ]
  },
  {
   "cell_type": "code",
   "execution_count": 41,
   "metadata": {},
   "outputs": [
    {
     "data": {
      "text/html": [
       "<div>\n",
       "<style scoped>\n",
       "    .dataframe tbody tr th:only-of-type {\n",
       "        vertical-align: middle;\n",
       "    }\n",
       "\n",
       "    .dataframe tbody tr th {\n",
       "        vertical-align: top;\n",
       "    }\n",
       "\n",
       "    .dataframe thead th {\n",
       "        text-align: right;\n",
       "    }\n",
       "</style>\n",
       "<table border=\"1\" class=\"dataframe\">\n",
       "  <thead>\n",
       "    <tr style=\"text-align: right;\">\n",
       "      <th></th>\n",
       "      <th>aired</th>\n",
       "      <th>count</th>\n",
       "    </tr>\n",
       "  </thead>\n",
       "  <tbody>\n",
       "    <tr>\n",
       "      <th>93</th>\n",
       "      <td>2015</td>\n",
       "      <td>717</td>\n",
       "    </tr>\n",
       "    <tr>\n",
       "      <th>94</th>\n",
       "      <td>2016</td>\n",
       "      <td>824</td>\n",
       "    </tr>\n",
       "    <tr>\n",
       "      <th>95</th>\n",
       "      <td>2017</td>\n",
       "      <td>795</td>\n",
       "    </tr>\n",
       "    <tr>\n",
       "      <th>96</th>\n",
       "      <td>2018</td>\n",
       "      <td>333</td>\n",
       "    </tr>\n",
       "    <tr>\n",
       "      <th>97</th>\n",
       "      <td>2019</td>\n",
       "      <td>34</td>\n",
       "    </tr>\n",
       "  </tbody>\n",
       "</table>\n",
       "</div>"
      ],
      "text/plain": [
       "    aired  count\n",
       "93   2015    717\n",
       "94   2016    824\n",
       "95   2017    795\n",
       "96   2018    333\n",
       "97   2019     34"
      ]
     },
     "execution_count": 41,
     "metadata": {},
     "output_type": "execute_result"
    }
   ],
   "source": [
    "#a dataframe for the count of unique years\n",
    "year_count = pd.DataFrame(anime_data.groupby('aired')['aired'].count())\n",
    "year_count.rename(columns = {'aired':'count'}, inplace =True)\n",
    "year_count = year_count.reset_index()\n",
    "year_count.tail()"
   ]
  },
  {
   "cell_type": "markdown",
   "metadata": {},
   "source": [
    "#  Calculating the weighted average of each anime in our data"
   ]
  },
  {
   "cell_type": "markdown",
   "metadata": {},
   "source": [
    "Using the Weighted Average Formula AND the members column based on popularity\n",
    "WR = (RV + Cm/V+m) where:\n",
    "- V is the number of votes\n",
    "- m is minimum votes required to be listed\n",
    "- R is rating average of the anime\n",
    "- C is mean vote across whole report"
   ]
  },
  {
   "cell_type": "code",
   "execution_count": 42,
   "metadata": {},
   "outputs": [],
   "source": [
    "#finding the weighted average for each anime\n",
    "V = anime_data['scored_by']                       #number of votes for each anime\n",
    "R = anime_data['rating']                     #average voting rating for each anime\n",
    "C = anime_data['rating'].mean()              #mean vote across the whole report\n",
    "m = anime_data['scored_by'].quantile(0.80)        #minimum votes requires to be among the top \n",
    "\n",
    "anime_data['weighted_avg'] = ((R*V)+(C*m))/(V+m)     #used by imdb to calculate weighted average of movies"
   ]
  },
  {
   "cell_type": "code",
   "execution_count": 43,
   "metadata": {},
   "outputs": [
    {
     "data": {
      "text/html": [
       "<div>\n",
       "<style scoped>\n",
       "    .dataframe tbody tr th:only-of-type {\n",
       "        vertical-align: middle;\n",
       "    }\n",
       "\n",
       "    .dataframe tbody tr th {\n",
       "        vertical-align: top;\n",
       "    }\n",
       "\n",
       "    .dataframe thead th {\n",
       "        text-align: right;\n",
       "    }\n",
       "</style>\n",
       "<table border=\"1\" class=\"dataframe\">\n",
       "  <thead>\n",
       "    <tr style=\"text-align: right;\">\n",
       "      <th></th>\n",
       "      <th>anime_id</th>\n",
       "      <th>title</th>\n",
       "      <th>rating</th>\n",
       "      <th>scored_by</th>\n",
       "      <th>popularity</th>\n",
       "      <th>members</th>\n",
       "      <th>aired</th>\n",
       "      <th>weighted_avg</th>\n",
       "    </tr>\n",
       "  </thead>\n",
       "  <tbody>\n",
       "    <tr>\n",
       "      <th>0</th>\n",
       "      <td>1</td>\n",
       "      <td>Cowboy Bebop</td>\n",
       "      <td>8.81</td>\n",
       "      <td>363889.0</td>\n",
       "      <td>39.0</td>\n",
       "      <td>704490.0</td>\n",
       "      <td>1998</td>\n",
       "      <td>8.760783</td>\n",
       "    </tr>\n",
       "    <tr>\n",
       "      <th>1</th>\n",
       "      <td>5</td>\n",
       "      <td>Cowboy Bebop: Tengoku no Tobira</td>\n",
       "      <td>8.41</td>\n",
       "      <td>111187.0</td>\n",
       "      <td>475.0</td>\n",
       "      <td>179899.0</td>\n",
       "      <td>2001</td>\n",
       "      <td>8.280022</td>\n",
       "    </tr>\n",
       "  </tbody>\n",
       "</table>\n",
       "</div>"
      ],
      "text/plain": [
       "   anime_id                            title  rating  scored_by  popularity  \\\n",
       "0         1                     Cowboy Bebop    8.81   363889.0        39.0   \n",
       "1         5  Cowboy Bebop: Tengoku no Tobira    8.41   111187.0       475.0   \n",
       "\n",
       "    members  aired  weighted_avg  \n",
       "0  704490.0   1998      8.760783  \n",
       "1  179899.0   2001      8.280022  "
      ]
     },
     "execution_count": 43,
     "metadata": {},
     "output_type": "execute_result"
    }
   ],
   "source": [
    "anime_data.head(2)"
   ]
  },
  {
   "cell_type": "code",
   "execution_count": 44,
   "metadata": {},
   "outputs": [
    {
     "data": {
      "text/html": [
       "<div>\n",
       "<style scoped>\n",
       "    .dataframe tbody tr th:only-of-type {\n",
       "        vertical-align: middle;\n",
       "    }\n",
       "\n",
       "    .dataframe tbody tr th {\n",
       "        vertical-align: top;\n",
       "    }\n",
       "\n",
       "    .dataframe thead th {\n",
       "        text-align: right;\n",
       "    }\n",
       "</style>\n",
       "<table border=\"1\" class=\"dataframe\">\n",
       "  <thead>\n",
       "    <tr style=\"text-align: right;\">\n",
       "      <th></th>\n",
       "      <th>anime_id</th>\n",
       "      <th>title</th>\n",
       "      <th>rating</th>\n",
       "      <th>scored_by</th>\n",
       "      <th>popularity</th>\n",
       "      <th>members</th>\n",
       "      <th>aired</th>\n",
       "      <th>weighted_avg</th>\n",
       "    </tr>\n",
       "  </thead>\n",
       "  <tbody>\n",
       "    <tr>\n",
       "      <th>3634</th>\n",
       "      <td>5114</td>\n",
       "      <td>Fullmetal Alchemist: Brotherhood</td>\n",
       "      <td>9.25</td>\n",
       "      <td>730784.0</td>\n",
       "      <td>4.0</td>\n",
       "      <td>1194518.0</td>\n",
       "      <td>2009</td>\n",
       "      <td>9.220964</td>\n",
       "    </tr>\n",
       "    <tr>\n",
       "      <th>10110</th>\n",
       "      <td>32281</td>\n",
       "      <td>Kimi no Na wa.</td>\n",
       "      <td>9.19</td>\n",
       "      <td>467437.0</td>\n",
       "      <td>15.0</td>\n",
       "      <td>724490.0</td>\n",
       "      <td>2016</td>\n",
       "      <td>9.145762</td>\n",
       "    </tr>\n",
       "    <tr>\n",
       "      <th>5031</th>\n",
       "      <td>9253</td>\n",
       "      <td>Steins;Gate</td>\n",
       "      <td>9.14</td>\n",
       "      <td>561405.0</td>\n",
       "      <td>7.0</td>\n",
       "      <td>1005781.0</td>\n",
       "      <td>2011</td>\n",
       "      <td>9.103706</td>\n",
       "    </tr>\n",
       "    <tr>\n",
       "      <th>5725</th>\n",
       "      <td>11061</td>\n",
       "      <td>Hunter x Hunter (2011)</td>\n",
       "      <td>9.11</td>\n",
       "      <td>400879.0</td>\n",
       "      <td>20.0</td>\n",
       "      <td>716409.0</td>\n",
       "      <td>2011</td>\n",
       "      <td>9.059957</td>\n",
       "    </tr>\n",
       "    <tr>\n",
       "      <th>8695</th>\n",
       "      <td>28851</td>\n",
       "      <td>Koe no Katachi</td>\n",
       "      <td>9.04</td>\n",
       "      <td>293169.0</td>\n",
       "      <td>53.0</td>\n",
       "      <td>507502.0</td>\n",
       "      <td>2016</td>\n",
       "      <td>8.973688</td>\n",
       "    </tr>\n",
       "  </tbody>\n",
       "</table>\n",
       "</div>"
      ],
      "text/plain": [
       "       anime_id                             title  rating  scored_by  \\\n",
       "3634       5114  Fullmetal Alchemist: Brotherhood    9.25   730784.0   \n",
       "10110     32281                    Kimi no Na wa.    9.19   467437.0   \n",
       "5031       9253                       Steins;Gate    9.14   561405.0   \n",
       "5725      11061            Hunter x Hunter (2011)    9.11   400879.0   \n",
       "8695      28851                    Koe no Katachi    9.04   293169.0   \n",
       "\n",
       "       popularity    members  aired  weighted_avg  \n",
       "3634          4.0  1194518.0   2009      9.220964  \n",
       "10110        15.0   724490.0   2016      9.145762  \n",
       "5031          7.0  1005781.0   2011      9.103706  \n",
       "5725         20.0   716409.0   2011      9.059957  \n",
       "8695         53.0   507502.0   2016      8.973688  "
      ]
     },
     "execution_count": 44,
     "metadata": {},
     "output_type": "execute_result"
    }
   ],
   "source": [
    "#showing the top 10 anime with the highest weighted average\n",
    "total_anime = anime_data.copy()\n",
    "wavg = total_anime.sort_values('weighted_avg', ascending = False)\n",
    "wavg.head()"
   ]
  },
  {
   "cell_type": "markdown",
   "metadata": {},
   "source": [
    "# Recommending Anime according to the best in their year group using the combination of weighted average ratings, members and popularity"
   ]
  },
  {
   "cell_type": "code",
   "execution_count": 45,
   "metadata": {},
   "outputs": [],
   "source": [
    "#normalizing the weighted average and popularity column\n",
    "\n",
    "from sklearn import preprocessing\n",
    "\n",
    "min_max_scaler = preprocessing.MinMaxScaler()"
   ]
  },
  {
   "cell_type": "markdown",
   "metadata": {},
   "source": [
    "### Defining all the functions that will help with this recommendation"
   ]
  },
  {
   "cell_type": "code",
   "execution_count": 46,
   "metadata": {},
   "outputs": [],
   "source": [
    "#function to create group dataframes \n",
    "def create_group(first,last):\n",
    "    group = pd.DataFrame(anime_data.loc[(anime_data['aired'] >= first) & (anime_data['aired'] <= last)])\n",
    "    #changing the index to allow for easy joining of the dataframes later\n",
    "    group.index = [x for x in range(group.shape[0])]\n",
    "    return group"
   ]
  },
  {
   "cell_type": "code",
   "execution_count": 47,
   "metadata": {},
   "outputs": [],
   "source": [
    "#function to normalize the weighted average, popularity and membrs\n",
    "def norm(group):\n",
    "    data_scaled = min_max_scaler.fit_transform(group[['weighted_avg','popularity','members']])\n",
    "    data_norm = pd.DataFrame(data_scaled, columns = ['weighted_avg','popularity','members'])\n",
    "    return data_norm"
   ]
  },
  {
   "cell_type": "code",
   "execution_count": 48,
   "metadata": {},
   "outputs": [],
   "source": [
    "#function to create a score value that splits scaled weighted_avg, popularity and members\n",
    "def create_score(group,data_norm):\n",
    "    group[['norm_weighted_avg','norm_popularity','norm_members']] = data_norm\n",
    "    group['score'] = group['norm_weighted_avg']*0.8 +group['norm_popularity']*0.1 + group['norm_members']*0.1\n",
    "    data_scored = group.sort_values(['score'], ascending=False)\n",
    "    return data_scored"
   ]
  },
  {
   "cell_type": "code",
   "execution_count": 49,
   "metadata": {},
   "outputs": [],
   "source": [
    "#a function to show normalized features and the new score  feature\n",
    "def show_normalized(data):\n",
    "    return data[['title','norm_weighted_avg','norm_popularity','norm_members','score']].head()"
   ]
  },
  {
   "cell_type": "code",
   "execution_count": 50,
   "metadata": {},
   "outputs": [],
   "source": [
    "#a function to plot the top anime according to a split between weighted avg, members and popularity\n",
    "def plot(data,first,last):\n",
    "    plt.figure(figsize=(18,8))\n",
    "\n",
    "    ax = sns.barplot(x = data['score'].head(10), y = data['title'].head(10), data = data, palette='Set2')\n",
    "\n",
    "\n",
    "    plt.title('Best anime between years {} and {}'.format (first,last), weight = 'bold')\n",
    "    plt.xlabel('Score', weight = 'bold')\n",
    "    plt.ylabel('Anime Title', weight = 'bold')\n",
    "\n",
    "#plt.savefig('scored.png')"
   ]
  },
  {
   "cell_type": "markdown",
   "metadata": {},
   "source": [
    "### Group1 recommendation (1900 to 1959)"
   ]
  },
  {
   "cell_type": "code",
   "execution_count": 51,
   "metadata": {},
   "outputs": [
    {
     "data": {
      "text/html": [
       "<div>\n",
       "<style scoped>\n",
       "    .dataframe tbody tr th:only-of-type {\n",
       "        vertical-align: middle;\n",
       "    }\n",
       "\n",
       "    .dataframe tbody tr th {\n",
       "        vertical-align: top;\n",
       "    }\n",
       "\n",
       "    .dataframe thead th {\n",
       "        text-align: right;\n",
       "    }\n",
       "</style>\n",
       "<table border=\"1\" class=\"dataframe\">\n",
       "  <thead>\n",
       "    <tr style=\"text-align: right;\">\n",
       "      <th></th>\n",
       "      <th>anime_id</th>\n",
       "      <th>title</th>\n",
       "      <th>rating</th>\n",
       "      <th>scored_by</th>\n",
       "      <th>popularity</th>\n",
       "      <th>members</th>\n",
       "      <th>aired</th>\n",
       "      <th>weighted_avg</th>\n",
       "    </tr>\n",
       "  </thead>\n",
       "  <tbody>\n",
       "    <tr>\n",
       "      <th>0</th>\n",
       "      <td>1</td>\n",
       "      <td>Cowboy Bebop</td>\n",
       "      <td>8.81</td>\n",
       "      <td>363889.0</td>\n",
       "      <td>39.0</td>\n",
       "      <td>704490.0</td>\n",
       "      <td>1998</td>\n",
       "      <td>8.760783</td>\n",
       "    </tr>\n",
       "    <tr>\n",
       "      <th>1</th>\n",
       "      <td>6</td>\n",
       "      <td>Trigun</td>\n",
       "      <td>8.31</td>\n",
       "      <td>197451.0</td>\n",
       "      <td>158.0</td>\n",
       "      <td>372709.0</td>\n",
       "      <td>1998</td>\n",
       "      <td>8.238327</td>\n",
       "    </tr>\n",
       "  </tbody>\n",
       "</table>\n",
       "</div>"
      ],
      "text/plain": [
       "   anime_id         title  rating  scored_by  popularity   members  aired  \\\n",
       "0         1  Cowboy Bebop    8.81   363889.0        39.0  704490.0   1998   \n",
       "1         6        Trigun    8.31   197451.0       158.0  372709.0   1998   \n",
       "\n",
       "   weighted_avg  \n",
       "0      8.760783  \n",
       "1      8.238327  "
      ]
     },
     "execution_count": 51,
     "metadata": {},
     "output_type": "execute_result"
    }
   ],
   "source": [
    "group_1 = create_group(1900,1999)\n",
    "group_1.head(2)"
   ]
  },
  {
   "cell_type": "code",
   "execution_count": 52,
   "metadata": {},
   "outputs": [],
   "source": [
    "data_norm_1 = norm(group_1)"
   ]
  },
  {
   "cell_type": "code",
   "execution_count": 53,
   "metadata": {},
   "outputs": [],
   "source": [
    "data_scored_1 = create_score(group_1,data_norm_1)"
   ]
  },
  {
   "cell_type": "code",
   "execution_count": 54,
   "metadata": {},
   "outputs": [
    {
     "data": {
      "text/html": [
       "<div>\n",
       "<style scoped>\n",
       "    .dataframe tbody tr th:only-of-type {\n",
       "        vertical-align: middle;\n",
       "    }\n",
       "\n",
       "    .dataframe tbody tr th {\n",
       "        vertical-align: top;\n",
       "    }\n",
       "\n",
       "    .dataframe thead th {\n",
       "        text-align: right;\n",
       "    }\n",
       "</style>\n",
       "<table border=\"1\" class=\"dataframe\">\n",
       "  <thead>\n",
       "    <tr style=\"text-align: right;\">\n",
       "      <th></th>\n",
       "      <th>title</th>\n",
       "      <th>norm_weighted_avg</th>\n",
       "      <th>norm_popularity</th>\n",
       "      <th>norm_members</th>\n",
       "      <th>score</th>\n",
       "    </tr>\n",
       "  </thead>\n",
       "  <tbody>\n",
       "    <tr>\n",
       "      <th>0</th>\n",
       "      <td>Cowboy Bebop</td>\n",
       "      <td>1.000000</td>\n",
       "      <td>0.000247</td>\n",
       "      <td>0.983047</td>\n",
       "      <td>0.898329</td>\n",
       "    </tr>\n",
       "    <tr>\n",
       "      <th>48</th>\n",
       "      <td>Mononoke Hime</td>\n",
       "      <td>0.995535</td>\n",
       "      <td>0.002591</td>\n",
       "      <td>0.706584</td>\n",
       "      <td>0.867345</td>\n",
       "    </tr>\n",
       "    <tr>\n",
       "      <th>2</th>\n",
       "      <td>One Piece</td>\n",
       "      <td>0.918994</td>\n",
       "      <td>0.000000</td>\n",
       "      <td>1.000000</td>\n",
       "      <td>0.835195</td>\n",
       "    </tr>\n",
       "    <tr>\n",
       "      <th>70</th>\n",
       "      <td>Great Teacher Onizuka</td>\n",
       "      <td>0.964862</td>\n",
       "      <td>0.007897</td>\n",
       "      <td>0.502224</td>\n",
       "      <td>0.822902</td>\n",
       "    </tr>\n",
       "    <tr>\n",
       "      <th>8</th>\n",
       "      <td>Rurouni Kenshin: Meiji Kenkaku Romantan - Tsui...</td>\n",
       "      <td>0.950189</td>\n",
       "      <td>0.030972</td>\n",
       "      <td>0.232947</td>\n",
       "      <td>0.786543</td>\n",
       "    </tr>\n",
       "  </tbody>\n",
       "</table>\n",
       "</div>"
      ],
      "text/plain": [
       "                                                title  norm_weighted_avg  \\\n",
       "0                                        Cowboy Bebop           1.000000   \n",
       "48                                      Mononoke Hime           0.995535   \n",
       "2                                           One Piece           0.918994   \n",
       "70                              Great Teacher Onizuka           0.964862   \n",
       "8   Rurouni Kenshin: Meiji Kenkaku Romantan - Tsui...           0.950189   \n",
       "\n",
       "    norm_popularity  norm_members     score  \n",
       "0          0.000247      0.983047  0.898329  \n",
       "48         0.002591      0.706584  0.867345  \n",
       "2          0.000000      1.000000  0.835195  \n",
       "70         0.007897      0.502224  0.822902  \n",
       "8          0.030972      0.232947  0.786543  "
      ]
     },
     "execution_count": 54,
     "metadata": {},
     "output_type": "execute_result"
    }
   ],
   "source": [
    "show_normalized(data_scored_1)"
   ]
  },
  {
   "cell_type": "code",
   "execution_count": 55,
   "metadata": {},
   "outputs": [
    {
     "data": {
      "image/png": "[encoded data removed]",
      "text/plain": [
       "<Figure size 1296x576 with 1 Axes>"
      ]
     },
     "metadata": {
      "needs_background": "light"
     },
     "output_type": "display_data"
    }
   ],
   "source": [
    "plot(data_scored_1,1900,1999)"
   ]
  },
  {
   "cell_type": "markdown",
   "metadata": {},
   "source": [
    "### Group2 recommendation (1960 to 1979)"
   ]
  },
  {
   "cell_type": "code",
   "execution_count": 56,
   "metadata": {},
   "outputs": [
    {
     "data": {
      "text/html": [
       "<div>\n",
       "<style scoped>\n",
       "    .dataframe tbody tr th:only-of-type {\n",
       "        vertical-align: middle;\n",
       "    }\n",
       "\n",
       "    .dataframe tbody tr th {\n",
       "        vertical-align: top;\n",
       "    }\n",
       "\n",
       "    .dataframe thead th {\n",
       "        text-align: right;\n",
       "    }\n",
       "</style>\n",
       "<table border=\"1\" class=\"dataframe\">\n",
       "  <thead>\n",
       "    <tr style=\"text-align: right;\">\n",
       "      <th></th>\n",
       "      <th>anime_id</th>\n",
       "      <th>title</th>\n",
       "      <th>rating</th>\n",
       "      <th>scored_by</th>\n",
       "      <th>popularity</th>\n",
       "      <th>members</th>\n",
       "      <th>aired</th>\n",
       "      <th>weighted_avg</th>\n",
       "    </tr>\n",
       "  </thead>\n",
       "  <tbody>\n",
       "    <tr>\n",
       "      <th>0</th>\n",
       "      <td>5</td>\n",
       "      <td>Cowboy Bebop: Tengoku no Tobira</td>\n",
       "      <td>8.41</td>\n",
       "      <td>111187.0</td>\n",
       "      <td>475.0</td>\n",
       "      <td>179899.0</td>\n",
       "      <td>2001</td>\n",
       "      <td>8.280022</td>\n",
       "    </tr>\n",
       "    <tr>\n",
       "      <th>1</th>\n",
       "      <td>7</td>\n",
       "      <td>Witch Hunter Robin</td>\n",
       "      <td>7.34</td>\n",
       "      <td>31875.0</td>\n",
       "      <td>1278.0</td>\n",
       "      <td>74889.0</td>\n",
       "      <td>2002</td>\n",
       "      <td>7.143127</td>\n",
       "    </tr>\n",
       "  </tbody>\n",
       "</table>\n",
       "</div>"
      ],
      "text/plain": [
       "   anime_id                            title  rating  scored_by  popularity  \\\n",
       "0         5  Cowboy Bebop: Tengoku no Tobira    8.41   111187.0       475.0   \n",
       "1         7               Witch Hunter Robin    7.34    31875.0      1278.0   \n",
       "\n",
       "    members  aired  weighted_avg  \n",
       "0  179899.0   2001      8.280022  \n",
       "1   74889.0   2002      7.143127  "
      ]
     },
     "execution_count": 56,
     "metadata": {},
     "output_type": "execute_result"
    }
   ],
   "source": [
    "group_2 = create_group(2000,2009)\n",
    "group_2.head(2)"
   ]
  },
  {
   "cell_type": "code",
   "execution_count": 57,
   "metadata": {},
   "outputs": [],
   "source": [
    "data_norm_2 = norm(group_2)"
   ]
  },
  {
   "cell_type": "code",
   "execution_count": 58,
   "metadata": {},
   "outputs": [],
   "source": [
    "data_scored_2 = create_score(group_2,data_norm_2)"
   ]
  },
  {
   "cell_type": "code",
   "execution_count": 59,
   "metadata": {},
   "outputs": [
    {
     "data": {
      "text/html": [
       "<div>\n",
       "<style scoped>\n",
       "    .dataframe tbody tr th:only-of-type {\n",
       "        vertical-align: middle;\n",
       "    }\n",
       "\n",
       "    .dataframe tbody tr th {\n",
       "        vertical-align: top;\n",
       "    }\n",
       "\n",
       "    .dataframe thead th {\n",
       "        text-align: right;\n",
       "    }\n",
       "</style>\n",
       "<table border=\"1\" class=\"dataframe\">\n",
       "  <thead>\n",
       "    <tr style=\"text-align: right;\">\n",
       "      <th></th>\n",
       "      <th>title</th>\n",
       "      <th>norm_weighted_avg</th>\n",
       "      <th>norm_popularity</th>\n",
       "      <th>norm_members</th>\n",
       "      <th>score</th>\n",
       "    </tr>\n",
       "  </thead>\n",
       "  <tbody>\n",
       "    <tr>\n",
       "      <th>1973</th>\n",
       "      <td>Fullmetal Alchemist: Brotherhood</td>\n",
       "      <td>1.000000</td>\n",
       "      <td>0.000184</td>\n",
       "      <td>0.822835</td>\n",
       "      <td>0.882302</td>\n",
       "    </tr>\n",
       "    <tr>\n",
       "      <th>728</th>\n",
       "      <td>Death Note</td>\n",
       "      <td>0.905169</td>\n",
       "      <td>0.000000</td>\n",
       "      <td>1.000000</td>\n",
       "      <td>0.824135</td>\n",
       "    </tr>\n",
       "    <tr>\n",
       "      <th>1328</th>\n",
       "      <td>Code Geass: Hangyaku no Lelouch R2</td>\n",
       "      <td>0.948902</td>\n",
       "      <td>0.001598</td>\n",
       "      <td>0.543387</td>\n",
       "      <td>0.813620</td>\n",
       "    </tr>\n",
       "    <tr>\n",
       "      <th>1757</th>\n",
       "      <td>Clannad: After Story</td>\n",
       "      <td>0.955879</td>\n",
       "      <td>0.003872</td>\n",
       "      <td>0.417341</td>\n",
       "      <td>0.806824</td>\n",
       "    </tr>\n",
       "    <tr>\n",
       "      <th>749</th>\n",
       "      <td>Code Geass: Hangyaku no Lelouch</td>\n",
       "      <td>0.923265</td>\n",
       "      <td>0.000615</td>\n",
       "      <td>0.677595</td>\n",
       "      <td>0.806433</td>\n",
       "    </tr>\n",
       "  </tbody>\n",
       "</table>\n",
       "</div>"
      ],
      "text/plain": [
       "                                   title  norm_weighted_avg  norm_popularity  \\\n",
       "1973    Fullmetal Alchemist: Brotherhood           1.000000         0.000184   \n",
       "728                           Death Note           0.905169         0.000000   \n",
       "1328  Code Geass: Hangyaku no Lelouch R2           0.948902         0.001598   \n",
       "1757                Clannad: After Story           0.955879         0.003872   \n",
       "749      Code Geass: Hangyaku no Lelouch           0.923265         0.000615   \n",
       "\n",
       "      norm_members     score  \n",
       "1973      0.822835  0.882302  \n",
       "728       1.000000  0.824135  \n",
       "1328      0.543387  0.813620  \n",
       "1757      0.417341  0.806824  \n",
       "749       0.677595  0.806433  "
      ]
     },
     "execution_count": 59,
     "metadata": {},
     "output_type": "execute_result"
    }
   ],
   "source": [
    "show_normalized(data_scored_2)"
   ]
  },
  {
   "cell_type": "code",
   "execution_count": 60,
   "metadata": {},
   "outputs": [
    {
     "data": {
      "image/png": "[encoded data removed]",
      "text/plain": [
       "<Figure size 1296x576 with 1 Axes>"
      ]
     },
     "metadata": {
      "needs_background": "light"
     },
     "output_type": "display_data"
    }
   ],
   "source": [
    "plot(data_scored_2,1960,1979)"
   ]
  },
  {
   "cell_type": "markdown",
   "metadata": {},
   "source": [
    "### Group3 recommendation (1980 to 1989)"
   ]
  },
  {
   "cell_type": "code",
   "execution_count": 61,
   "metadata": {},
   "outputs": [
    {
     "data": {
      "text/html": [
       "<div>\n",
       "<style scoped>\n",
       "    .dataframe tbody tr th:only-of-type {\n",
       "        vertical-align: middle;\n",
       "    }\n",
       "\n",
       "    .dataframe tbody tr th {\n",
       "        vertical-align: top;\n",
       "    }\n",
       "\n",
       "    .dataframe thead th {\n",
       "        text-align: right;\n",
       "    }\n",
       "</style>\n",
       "<table border=\"1\" class=\"dataframe\">\n",
       "  <thead>\n",
       "    <tr style=\"text-align: right;\">\n",
       "      <th></th>\n",
       "      <th>anime_id</th>\n",
       "      <th>title</th>\n",
       "      <th>rating</th>\n",
       "      <th>scored_by</th>\n",
       "      <th>popularity</th>\n",
       "      <th>members</th>\n",
       "      <th>aired</th>\n",
       "      <th>weighted_avg</th>\n",
       "    </tr>\n",
       "  </thead>\n",
       "  <tbody>\n",
       "    <tr>\n",
       "      <th>0</th>\n",
       "      <td>4106</td>\n",
       "      <td>Trigun: Badlands Rumble</td>\n",
       "      <td>8.05</td>\n",
       "      <td>46942.0</td>\n",
       "      <td>1117.0</td>\n",
       "      <td>84011.0</td>\n",
       "      <td>2010</td>\n",
       "      <td>7.813595</td>\n",
       "    </tr>\n",
       "    <tr>\n",
       "      <th>1</th>\n",
       "      <td>4713</td>\n",
       "      <td>Heart no Kuni no Alice: Wonderful Wonder World</td>\n",
       "      <td>6.23</td>\n",
       "      <td>7822.0</td>\n",
       "      <td>2797.0</td>\n",
       "      <td>23507.0</td>\n",
       "      <td>2011</td>\n",
       "      <td>6.249441</td>\n",
       "    </tr>\n",
       "  </tbody>\n",
       "</table>\n",
       "</div>"
      ],
      "text/plain": [
       "   anime_id                                           title  rating  \\\n",
       "0      4106                         Trigun: Badlands Rumble    8.05   \n",
       "1      4713  Heart no Kuni no Alice: Wonderful Wonder World    6.23   \n",
       "\n",
       "   scored_by  popularity  members  aired  weighted_avg  \n",
       "0    46942.0      1117.0  84011.0   2010      7.813595  \n",
       "1     7822.0      2797.0  23507.0   2011      6.249441  "
      ]
     },
     "execution_count": 61,
     "metadata": {},
     "output_type": "execute_result"
    }
   ],
   "source": [
    "group_3 = create_group(2010,2019)\n",
    "group_3.head(2)"
   ]
  },
  {
   "cell_type": "code",
   "execution_count": 62,
   "metadata": {},
   "outputs": [],
   "source": [
    "data_norm_3 = norm(group_3)"
   ]
  },
  {
   "cell_type": "code",
   "execution_count": 63,
   "metadata": {},
   "outputs": [],
   "source": [
    "data_scored_3 = create_score(group_3,data_norm_3)"
   ]
  },
  {
   "cell_type": "code",
   "execution_count": 64,
   "metadata": {},
   "outputs": [
    {
     "data": {
      "text/html": [
       "<div>\n",
       "<style scoped>\n",
       "    .dataframe tbody tr th:only-of-type {\n",
       "        vertical-align: middle;\n",
       "    }\n",
       "\n",
       "    .dataframe tbody tr th {\n",
       "        vertical-align: top;\n",
       "    }\n",
       "\n",
       "    .dataframe thead th {\n",
       "        text-align: right;\n",
       "    }\n",
       "</style>\n",
       "<table border=\"1\" class=\"dataframe\">\n",
       "  <thead>\n",
       "    <tr style=\"text-align: right;\">\n",
       "      <th></th>\n",
       "      <th>title</th>\n",
       "      <th>norm_weighted_avg</th>\n",
       "      <th>norm_popularity</th>\n",
       "      <th>norm_members</th>\n",
       "      <th>score</th>\n",
       "    </tr>\n",
       "  </thead>\n",
       "  <tbody>\n",
       "    <tr>\n",
       "      <th>253</th>\n",
       "      <td>Steins;Gate</td>\n",
       "      <td>0.991809</td>\n",
       "      <td>0.000307</td>\n",
       "      <td>0.750222</td>\n",
       "      <td>0.868500</td>\n",
       "    </tr>\n",
       "    <tr>\n",
       "      <th>3243</th>\n",
       "      <td>Kimi no Na wa.</td>\n",
       "      <td>1.000000</td>\n",
       "      <td>0.000798</td>\n",
       "      <td>0.540403</td>\n",
       "      <td>0.854120</td>\n",
       "    </tr>\n",
       "    <tr>\n",
       "      <th>663</th>\n",
       "      <td>Hunter x Hunter (2011)</td>\n",
       "      <td>0.983289</td>\n",
       "      <td>0.001105</td>\n",
       "      <td>0.534375</td>\n",
       "      <td>0.840179</td>\n",
       "    </tr>\n",
       "    <tr>\n",
       "      <th>2373</th>\n",
       "      <td>Koe no Katachi</td>\n",
       "      <td>0.966487</td>\n",
       "      <td>0.003132</td>\n",
       "      <td>0.378548</td>\n",
       "      <td>0.811358</td>\n",
       "    </tr>\n",
       "    <tr>\n",
       "      <th>2616</th>\n",
       "      <td>One Punch Man</td>\n",
       "      <td>0.914072</td>\n",
       "      <td>0.000184</td>\n",
       "      <td>0.757220</td>\n",
       "      <td>0.806998</td>\n",
       "    </tr>\n",
       "  </tbody>\n",
       "</table>\n",
       "</div>"
      ],
      "text/plain": [
       "                       title  norm_weighted_avg  norm_popularity  \\\n",
       "253              Steins;Gate           0.991809         0.000307   \n",
       "3243          Kimi no Na wa.           1.000000         0.000798   \n",
       "663   Hunter x Hunter (2011)           0.983289         0.001105   \n",
       "2373          Koe no Katachi           0.966487         0.003132   \n",
       "2616           One Punch Man           0.914072         0.000184   \n",
       "\n",
       "      norm_members     score  \n",
       "253       0.750222  0.868500  \n",
       "3243      0.540403  0.854120  \n",
       "663       0.534375  0.840179  \n",
       "2373      0.378548  0.811358  \n",
       "2616      0.757220  0.806998  "
      ]
     },
     "execution_count": 64,
     "metadata": {},
     "output_type": "execute_result"
    }
   ],
   "source": [
    "show_normalized(data_scored_3)"
   ]
  },
  {
   "cell_type": "code",
   "execution_count": 65,
   "metadata": {},
   "outputs": [
    {
     "data": {
      "image/png": "[encoded data removed]",
      "text/plain": [
       "<Figure size 1296x576 with 1 Axes>"
      ]
     },
     "metadata": {
      "needs_background": "light"
     },
     "output_type": "display_data"
    }
   ],
   "source": [
    "plot(data_scored_3,2010,2019)"
   ]
  },
  {
   "cell_type": "code",
   "execution_count": null,
   "metadata": {},
   "outputs": [],
   "source": []
  }
 ],
 "metadata": {
  "kernelspec": {
   "display_name": "Python 3",
   "language": "python",
   "name": "python3"
  },
  "language_info": {
   "codemirror_mode": {
    "name": "ipython",
    "version": 3
   },
   "file_extension": ".py",
   "mimetype": "text/x-python",
   "name": "python",
   "nbconvert_exporter": "python",
   "pygments_lexer": "ipython3",
   "version": "3.6.9"
  }
 },
 "nbformat": 4,
 "nbformat_minor": 2
}
