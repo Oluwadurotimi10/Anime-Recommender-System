{
 "cells": [
  {
   "cell_type": "code",
   "execution_count": 1,
   "metadata": {},
   "outputs": [],
   "source": [
    "#importing necessary libraries\n",
    "import pandas as pd\n",
    "import numpy as np\n",
    "import matplotlib.pyplot as plt\n",
    "import seaborn as sns\n",
    "%matplotlib inline"
   ]
  },
  {
   "cell_type": "code",
   "execution_count": 5,
   "metadata": {},
   "outputs": [],
   "source": [
    "#loading the dataset\n",
    "anime_data = pd.read_csv('../DATA/Anime_new_year.csv')"
   ]
  },
  {
   "cell_type": "code",
   "execution_count": 6,
   "metadata": {},
   "outputs": [
    {
     "data": {
      "text/html": [
       "<div>\n",
       "<style scoped>\n",
       "    .dataframe tbody tr th:only-of-type {\n",
       "        vertical-align: middle;\n",
       "    }\n",
       "\n",
       "    .dataframe tbody tr th {\n",
       "        vertical-align: top;\n",
       "    }\n",
       "\n",
       "    .dataframe thead th {\n",
       "        text-align: right;\n",
       "    }\n",
       "</style>\n",
       "<table border=\"1\" class=\"dataframe\">\n",
       "  <thead>\n",
       "    <tr style=\"text-align: right;\">\n",
       "      <th></th>\n",
       "      <th>anime_id</th>\n",
       "      <th>title</th>\n",
       "      <th>genres</th>\n",
       "      <th>synopsis</th>\n",
       "      <th>anime_type</th>\n",
       "      <th>producer</th>\n",
       "      <th>studio</th>\n",
       "      <th>rating</th>\n",
       "      <th>scored_by</th>\n",
       "      <th>popularity</th>\n",
       "      <th>members</th>\n",
       "      <th>num_of_episodes</th>\n",
       "      <th>anime_source</th>\n",
       "      <th>aired</th>\n",
       "      <th>Link</th>\n",
       "    </tr>\n",
       "  </thead>\n",
       "  <tbody>\n",
       "    <tr>\n",
       "      <th>0</th>\n",
       "      <td>1</td>\n",
       "      <td>Cowboy Bebop</td>\n",
       "      <td>['Action','Adventure','Comedy','Drama','SciFi'...</td>\n",
       "      <td>In the year 2071, humanity has colonized sever...</td>\n",
       "      <td>TV</td>\n",
       "      <td>['BandaiVisual']</td>\n",
       "      <td>Sunrise</td>\n",
       "      <td>8.81</td>\n",
       "      <td>363889.0</td>\n",
       "      <td>39.0</td>\n",
       "      <td>704490.0</td>\n",
       "      <td>26.0</td>\n",
       "      <td>Original</td>\n",
       "      <td>1998</td>\n",
       "      <td>https://myanimelist.net/anime/1/Cowboy_Bebop</td>\n",
       "    </tr>\n",
       "    <tr>\n",
       "      <th>1</th>\n",
       "      <td>5</td>\n",
       "      <td>Cowboy Bebop Tengoku no Tobira</td>\n",
       "      <td>['Action','Space','Drama','Mystery','SciFi']</td>\n",
       "      <td>Another day, another bountysuch is the life of...</td>\n",
       "      <td>Movie</td>\n",
       "      <td>['Sunrise','BandaiVisual']</td>\n",
       "      <td>Bones</td>\n",
       "      <td>8.41</td>\n",
       "      <td>111187.0</td>\n",
       "      <td>475.0</td>\n",
       "      <td>179899.0</td>\n",
       "      <td>1.0</td>\n",
       "      <td>Original</td>\n",
       "      <td>2001</td>\n",
       "      <td>https://myanimelist.net/anime/5/Cowboy_Bebop__...</td>\n",
       "    </tr>\n",
       "  </tbody>\n",
       "</table>\n",
       "</div>"
      ],
      "text/plain": [
       "   anime_id                           title  \\\n",
       "0         1                    Cowboy Bebop   \n",
       "1         5  Cowboy Bebop Tengoku no Tobira   \n",
       "\n",
       "                                              genres  \\\n",
       "0  ['Action','Adventure','Comedy','Drama','SciFi'...   \n",
       "1       ['Action','Space','Drama','Mystery','SciFi']   \n",
       "\n",
       "                                            synopsis anime_type  \\\n",
       "0  In the year 2071, humanity has colonized sever...         TV   \n",
       "1  Another day, another bountysuch is the life of...      Movie   \n",
       "\n",
       "                     producer   studio  rating  scored_by  popularity  \\\n",
       "0            ['BandaiVisual']  Sunrise    8.81   363889.0        39.0   \n",
       "1  ['Sunrise','BandaiVisual']    Bones    8.41   111187.0       475.0   \n",
       "\n",
       "    members  num_of_episodes anime_source  aired  \\\n",
       "0  704490.0             26.0     Original   1998   \n",
       "1  179899.0              1.0     Original   2001   \n",
       "\n",
       "                                                Link  \n",
       "0       https://myanimelist.net/anime/1/Cowboy_Bebop  \n",
       "1  https://myanimelist.net/anime/5/Cowboy_Bebop__...  "
      ]
     },
     "execution_count": 6,
     "metadata": {},
     "output_type": "execute_result"
    }
   ],
   "source": [
    "anime_data.head(2)"
   ]
  },
  {
   "cell_type": "code",
   "execution_count": 9,
   "metadata": {},
   "outputs": [
    {
     "data": {
      "text/html": [
       "<div>\n",
       "<style scoped>\n",
       "    .dataframe tbody tr th:only-of-type {\n",
       "        vertical-align: middle;\n",
       "    }\n",
       "\n",
       "    .dataframe tbody tr th {\n",
       "        vertical-align: top;\n",
       "    }\n",
       "\n",
       "    .dataframe thead th {\n",
       "        text-align: right;\n",
       "    }\n",
       "</style>\n",
       "<table border=\"1\" class=\"dataframe\">\n",
       "  <thead>\n",
       "    <tr style=\"text-align: right;\">\n",
       "      <th></th>\n",
       "      <th>anime_id</th>\n",
       "      <th>title</th>\n",
       "      <th>rating</th>\n",
       "      <th>scored_by</th>\n",
       "      <th>popularity</th>\n",
       "      <th>members</th>\n",
       "      <th>aired</th>\n",
       "    </tr>\n",
       "  </thead>\n",
       "  <tbody>\n",
       "    <tr>\n",
       "      <th>0</th>\n",
       "      <td>1</td>\n",
       "      <td>Cowboy Bebop</td>\n",
       "      <td>8.81</td>\n",
       "      <td>363889.0</td>\n",
       "      <td>39.0</td>\n",
       "      <td>704490.0</td>\n",
       "      <td>1998</td>\n",
       "    </tr>\n",
       "    <tr>\n",
       "      <th>1</th>\n",
       "      <td>5</td>\n",
       "      <td>Cowboy Bebop Tengoku no Tobira</td>\n",
       "      <td>8.41</td>\n",
       "      <td>111187.0</td>\n",
       "      <td>475.0</td>\n",
       "      <td>179899.0</td>\n",
       "      <td>2001</td>\n",
       "    </tr>\n",
       "  </tbody>\n",
       "</table>\n",
       "</div>"
      ],
      "text/plain": [
       "   anime_id                           title  rating  scored_by  popularity  \\\n",
       "0         1                    Cowboy Bebop    8.81   363889.0        39.0   \n",
       "1         5  Cowboy Bebop Tengoku no Tobira    8.41   111187.0       475.0   \n",
       "\n",
       "    members  aired  \n",
       "0  704490.0   1998  \n",
       "1  179899.0   2001  "
      ]
     },
     "execution_count": 9,
     "metadata": {},
     "output_type": "execute_result"
    }
   ],
   "source": [
    "#droping the columns that won't be used\n",
    "anime_data = anime_data.drop(columns=['genres','synopsis','anime_type','producer','studio','num_of_episodes','anime_source','Link'])\n",
    "anime_data.head(2)"
   ]
  },
  {
   "cell_type": "code",
   "execution_count": 10,
   "metadata": {},
   "outputs": [
    {
     "data": {
      "text/plain": [
       "(14918, 7)"
      ]
     },
     "execution_count": 10,
     "metadata": {},
     "output_type": "execute_result"
    }
   ],
   "source": [
    "#shape of the data\n",
    "anime_data.shape"
   ]
  },
  {
   "cell_type": "code",
   "execution_count": 11,
   "metadata": {},
   "outputs": [
    {
     "data": {
      "text/plain": [
       "anime_id        int64\n",
       "title          object\n",
       "rating        float64\n",
       "scored_by     float64\n",
       "popularity    float64\n",
       "members       float64\n",
       "aired           int64\n",
       "dtype: object"
      ]
     },
     "execution_count": 11,
     "metadata": {},
     "output_type": "execute_result"
    }
   ],
   "source": [
    "#checking the data type f each column\n",
    "anime_data.dtypes"
   ]
  },
  {
   "cell_type": "code",
   "execution_count": 12,
   "metadata": {},
   "outputs": [
    {
     "data": {
      "text/plain": [
       "anime_id         0\n",
       "title            1\n",
       "rating        1835\n",
       "scored_by     3008\n",
       "popularity       0\n",
       "members          0\n",
       "aired            0\n",
       "dtype: int64"
      ]
     },
     "execution_count": 12,
     "metadata": {},
     "output_type": "execute_result"
    }
   ],
   "source": [
    "#checking for null values\n",
    "anime_data.isnull().sum()"
   ]
  },
  {
   "cell_type": "code",
   "execution_count": 13,
   "metadata": {},
   "outputs": [],
   "source": [
    "#dropping the null values\n",
    "anime_data.dropna(how = 'any', inplace = True)"
   ]
  },
  {
   "cell_type": "code",
   "execution_count": 14,
   "metadata": {},
   "outputs": [
    {
     "data": {
      "text/plain": [
       "(11823, 7)"
      ]
     },
     "execution_count": 14,
     "metadata": {},
     "output_type": "execute_result"
    }
   ],
   "source": [
    "#checking the shape after dropping the null values\n",
    "anime_data.shape"
   ]
  },
  {
   "cell_type": "code",
   "execution_count": 15,
   "metadata": {},
   "outputs": [
    {
     "data": {
      "text/plain": [
       "0     1998\n",
       "1     2001\n",
       "2     1998\n",
       "3     2002\n",
       "4     2004\n",
       "5     2005\n",
       "6     2005\n",
       "7     2002\n",
       "8     2004\n",
       "9     2004\n",
       "10    2002\n",
       "11    1999\n",
       "Name: aired, dtype: int64"
      ]
     },
     "execution_count": 15,
     "metadata": {},
     "output_type": "execute_result"
    }
   ],
   "source": [
    "#checking out the aired column\n",
    "anime_data['aired'].head(12)"
   ]
  },
  {
   "cell_type": "code",
   "execution_count": 18,
   "metadata": {
    "scrolled": true
   },
   "outputs": [
    {
     "data": {
      "text/plain": [
       "aired\n",
       "2010    379\n",
       "2011    494\n",
       "2012    486\n",
       "2013    593\n",
       "2014    692\n",
       "2015    660\n",
       "2016    768\n",
       "2017    741\n",
       "2018    316\n",
       "2019     33\n",
       "Name: title, dtype: int64"
      ]
     },
     "execution_count": 18,
     "metadata": {},
     "output_type": "execute_result"
    }
   ],
   "source": [
    "#checking the number of animes aired on the same day\n",
    "b = anime_data.groupby('aired')['title'].count()\n",
    "b.tail(10)"
   ]
  },
  {
   "cell_type": "code",
   "execution_count": 20,
   "metadata": {},
   "outputs": [],
   "source": [
    "#getting the unique years in the aired column\n",
    "def unique_year(x):\n",
    "    unique = []\n",
    "    for i in x:\n",
    "        if i not in unique:\n",
    "            unique.append(i)\n",
    "    return unique"
   ]
  },
  {
   "cell_type": "code",
   "execution_count": 21,
   "metadata": {},
   "outputs": [
    {
     "data": {
      "text/plain": [
       "98"
      ]
     },
     "execution_count": 21,
     "metadata": {},
     "output_type": "execute_result"
    }
   ],
   "source": [
    "b = unique_year(anime_data['aired'])\n",
    "len(b)"
   ]
  },
  {
   "cell_type": "markdown",
   "metadata": {},
   "source": [
    "As you can see from the unique values there are empty list, so they have to be removed. That is why unique() attribute could not be used to get the unique values"
   ]
  },
  {
   "cell_type": "code",
   "execution_count": 22,
   "metadata": {
    "scrolled": false
   },
   "outputs": [
    {
     "name": "stderr",
     "output_type": "stream",
     "text": [
      "/home/dare/.virtualenvs/cv/lib/python3.6/site-packages/pandas/core/ops/__init__.py:1115: FutureWarning: elementwise comparison failed; returning scalar instead, but in the future will perform elementwise comparison\n",
      "  result = method(y)\n"
     ]
    },
    {
     "data": {
      "text/html": [
       "<div>\n",
       "<style scoped>\n",
       "    .dataframe tbody tr th:only-of-type {\n",
       "        vertical-align: middle;\n",
       "    }\n",
       "\n",
       "    .dataframe tbody tr th {\n",
       "        vertical-align: top;\n",
       "    }\n",
       "\n",
       "    .dataframe thead th {\n",
       "        text-align: right;\n",
       "    }\n",
       "</style>\n",
       "<table border=\"1\" class=\"dataframe\">\n",
       "  <thead>\n",
       "    <tr style=\"text-align: right;\">\n",
       "      <th></th>\n",
       "      <th>anime_id</th>\n",
       "      <th>title</th>\n",
       "      <th>rating</th>\n",
       "      <th>scored_by</th>\n",
       "      <th>popularity</th>\n",
       "      <th>members</th>\n",
       "      <th>aired</th>\n",
       "    </tr>\n",
       "  </thead>\n",
       "  <tbody>\n",
       "  </tbody>\n",
       "</table>\n",
       "</div>"
      ],
      "text/plain": [
       "Empty DataFrame\n",
       "Columns: [anime_id, title, rating, scored_by, popularity, members, aired]\n",
       "Index: []"
      ]
     },
     "execution_count": 22,
     "metadata": {},
     "output_type": "execute_result"
    }
   ],
   "source": [
    "#rows without release dates\n",
    "anime_data[anime_data['aired']== '[]']"
   ]
  },
  {
   "cell_type": "code",
   "execution_count": 36,
   "metadata": {},
   "outputs": [],
   "source": [
    "#getting rid of rows without dates\n",
    "anime_data = anime_data[anime_data['aired'] != '[]']"
   ]
  },
  {
   "cell_type": "code",
   "execution_count": 23,
   "metadata": {},
   "outputs": [],
   "source": [
    "#converting the type of aired column to int\n",
    "anime_data['aired'] = anime_data['aired'].astype('int')"
   ]
  },
  {
   "cell_type": "code",
   "execution_count": 24,
   "metadata": {},
   "outputs": [
    {
     "data": {
      "text/plain": [
       "anime_id        int64\n",
       "title          object\n",
       "rating        float64\n",
       "scored_by     float64\n",
       "popularity    float64\n",
       "members       float64\n",
       "aired           int64\n",
       "dtype: object"
      ]
     },
     "execution_count": 24,
     "metadata": {},
     "output_type": "execute_result"
    }
   ],
   "source": [
    "anime_data.dtypes"
   ]
  },
  {
   "cell_type": "code",
   "execution_count": 25,
   "metadata": {},
   "outputs": [
    {
     "data": {
      "text/html": [
       "<div>\n",
       "<style scoped>\n",
       "    .dataframe tbody tr th:only-of-type {\n",
       "        vertical-align: middle;\n",
       "    }\n",
       "\n",
       "    .dataframe tbody tr th {\n",
       "        vertical-align: top;\n",
       "    }\n",
       "\n",
       "    .dataframe thead th {\n",
       "        text-align: right;\n",
       "    }\n",
       "</style>\n",
       "<table border=\"1\" class=\"dataframe\">\n",
       "  <thead>\n",
       "    <tr style=\"text-align: right;\">\n",
       "      <th></th>\n",
       "      <th>anime_id</th>\n",
       "      <th>title</th>\n",
       "      <th>rating</th>\n",
       "      <th>scored_by</th>\n",
       "      <th>popularity</th>\n",
       "      <th>members</th>\n",
       "      <th>aired</th>\n",
       "    </tr>\n",
       "  </thead>\n",
       "  <tbody>\n",
       "    <tr>\n",
       "      <th>0</th>\n",
       "      <td>1</td>\n",
       "      <td>Cowboy Bebop</td>\n",
       "      <td>8.81</td>\n",
       "      <td>363889.0</td>\n",
       "      <td>39.0</td>\n",
       "      <td>704490.0</td>\n",
       "      <td>1998</td>\n",
       "    </tr>\n",
       "    <tr>\n",
       "      <th>1</th>\n",
       "      <td>5</td>\n",
       "      <td>Cowboy Bebop Tengoku no Tobira</td>\n",
       "      <td>8.41</td>\n",
       "      <td>111187.0</td>\n",
       "      <td>475.0</td>\n",
       "      <td>179899.0</td>\n",
       "      <td>2001</td>\n",
       "    </tr>\n",
       "    <tr>\n",
       "      <th>2</th>\n",
       "      <td>6</td>\n",
       "      <td>Trigun</td>\n",
       "      <td>8.31</td>\n",
       "      <td>197451.0</td>\n",
       "      <td>158.0</td>\n",
       "      <td>372709.0</td>\n",
       "      <td>1998</td>\n",
       "    </tr>\n",
       "  </tbody>\n",
       "</table>\n",
       "</div>"
      ],
      "text/plain": [
       "   anime_id                           title  rating  scored_by  popularity  \\\n",
       "0         1                    Cowboy Bebop    8.81   363889.0        39.0   \n",
       "1         5  Cowboy Bebop Tengoku no Tobira    8.41   111187.0       475.0   \n",
       "2         6                          Trigun    8.31   197451.0       158.0   \n",
       "\n",
       "    members  aired  \n",
       "0  704490.0   1998  \n",
       "1  179899.0   2001  \n",
       "2  372709.0   1998  "
      ]
     },
     "execution_count": 25,
     "metadata": {},
     "output_type": "execute_result"
    }
   ],
   "source": [
    "#viewing the data\n",
    "anime_data.head(3)"
   ]
  },
  {
   "cell_type": "code",
   "execution_count": 26,
   "metadata": {},
   "outputs": [
    {
     "data": {
      "text/plain": [
       "(11823, 7)"
      ]
     },
     "execution_count": 26,
     "metadata": {},
     "output_type": "execute_result"
    }
   ],
   "source": [
    "#checking the new shape of the data\n",
    "anime_data.shape"
   ]
  },
  {
   "cell_type": "code",
   "execution_count": 27,
   "metadata": {},
   "outputs": [
    {
     "data": {
      "text/html": [
       "<div>\n",
       "<style scoped>\n",
       "    .dataframe tbody tr th:only-of-type {\n",
       "        vertical-align: middle;\n",
       "    }\n",
       "\n",
       "    .dataframe tbody tr th {\n",
       "        vertical-align: top;\n",
       "    }\n",
       "\n",
       "    .dataframe thead th {\n",
       "        text-align: right;\n",
       "    }\n",
       "</style>\n",
       "<table border=\"1\" class=\"dataframe\">\n",
       "  <thead>\n",
       "    <tr style=\"text-align: right;\">\n",
       "      <th></th>\n",
       "      <th>aired</th>\n",
       "      <th>count</th>\n",
       "    </tr>\n",
       "  </thead>\n",
       "  <tbody>\n",
       "    <tr>\n",
       "      <th>93</th>\n",
       "      <td>2015</td>\n",
       "      <td>660</td>\n",
       "    </tr>\n",
       "    <tr>\n",
       "      <th>94</th>\n",
       "      <td>2016</td>\n",
       "      <td>768</td>\n",
       "    </tr>\n",
       "    <tr>\n",
       "      <th>95</th>\n",
       "      <td>2017</td>\n",
       "      <td>741</td>\n",
       "    </tr>\n",
       "    <tr>\n",
       "      <th>96</th>\n",
       "      <td>2018</td>\n",
       "      <td>316</td>\n",
       "    </tr>\n",
       "    <tr>\n",
       "      <th>97</th>\n",
       "      <td>2019</td>\n",
       "      <td>33</td>\n",
       "    </tr>\n",
       "  </tbody>\n",
       "</table>\n",
       "</div>"
      ],
      "text/plain": [
       "    aired  count\n",
       "93   2015    660\n",
       "94   2016    768\n",
       "95   2017    741\n",
       "96   2018    316\n",
       "97   2019     33"
      ]
     },
     "execution_count": 27,
     "metadata": {},
     "output_type": "execute_result"
    }
   ],
   "source": [
    "#a dataframe for the count of unique years\n",
    "year_count = pd.DataFrame(anime_data.groupby('aired')['aired'].count())\n",
    "year_count.rename(columns = {'aired':'count'}, inplace =True)\n",
    "year_count = year_count.reset_index()\n",
    "year_count.tail()"
   ]
  },
  {
   "cell_type": "markdown",
   "metadata": {},
   "source": [
    "#  Calculating the weighted average of each anime in our data"
   ]
  },
  {
   "cell_type": "markdown",
   "metadata": {},
   "source": [
    "Using the Weighted Average Formula AND the members column based on popularity\n",
    "WR = (RV + Cm/V+m) where:\n",
    "- V is the number of votes\n",
    "- m is minimum votes required to be listed\n",
    "- R is rating average of the anime\n",
    "- C is mean vote across whole report"
   ]
  },
  {
   "cell_type": "code",
   "execution_count": 28,
   "metadata": {},
   "outputs": [],
   "source": [
    "#finding the weighted average for each anime\n",
    "V = anime_data['scored_by']                       #number of votes for each anime\n",
    "R = anime_data['rating']                     #average voting rating for each anime\n",
    "C = anime_data['rating'].mean()              #mean vote across the whole report\n",
    "m = anime_data['scored_by'].quantile(0.80)        #minimum votes requires to be among the top \n",
    "\n",
    "anime_data['weighted_avg'] = ((R*V)+(C*m))/(V+m)     #used by imdb to calculate weighted average of movies"
   ]
  },
  {
   "cell_type": "code",
   "execution_count": 29,
   "metadata": {},
   "outputs": [
    {
     "data": {
      "text/html": [
       "<div>\n",
       "<style scoped>\n",
       "    .dataframe tbody tr th:only-of-type {\n",
       "        vertical-align: middle;\n",
       "    }\n",
       "\n",
       "    .dataframe tbody tr th {\n",
       "        vertical-align: top;\n",
       "    }\n",
       "\n",
       "    .dataframe thead th {\n",
       "        text-align: right;\n",
       "    }\n",
       "</style>\n",
       "<table border=\"1\" class=\"dataframe\">\n",
       "  <thead>\n",
       "    <tr style=\"text-align: right;\">\n",
       "      <th></th>\n",
       "      <th>anime_id</th>\n",
       "      <th>title</th>\n",
       "      <th>rating</th>\n",
       "      <th>scored_by</th>\n",
       "      <th>popularity</th>\n",
       "      <th>members</th>\n",
       "      <th>aired</th>\n",
       "      <th>weighted_avg</th>\n",
       "    </tr>\n",
       "  </thead>\n",
       "  <tbody>\n",
       "    <tr>\n",
       "      <th>0</th>\n",
       "      <td>1</td>\n",
       "      <td>Cowboy Bebop</td>\n",
       "      <td>8.81</td>\n",
       "      <td>363889.0</td>\n",
       "      <td>39.0</td>\n",
       "      <td>704490.0</td>\n",
       "      <td>1998</td>\n",
       "      <td>8.751886</td>\n",
       "    </tr>\n",
       "    <tr>\n",
       "      <th>1</th>\n",
       "      <td>5</td>\n",
       "      <td>Cowboy Bebop Tengoku no Tobira</td>\n",
       "      <td>8.41</td>\n",
       "      <td>111187.0</td>\n",
       "      <td>475.0</td>\n",
       "      <td>179899.0</td>\n",
       "      <td>2001</td>\n",
       "      <td>8.257816</td>\n",
       "    </tr>\n",
       "  </tbody>\n",
       "</table>\n",
       "</div>"
      ],
      "text/plain": [
       "   anime_id                           title  rating  scored_by  popularity  \\\n",
       "0         1                    Cowboy Bebop    8.81   363889.0        39.0   \n",
       "1         5  Cowboy Bebop Tengoku no Tobira    8.41   111187.0       475.0   \n",
       "\n",
       "    members  aired  weighted_avg  \n",
       "0  704490.0   1998      8.751886  \n",
       "1  179899.0   2001      8.257816  "
      ]
     },
     "execution_count": 29,
     "metadata": {},
     "output_type": "execute_result"
    }
   ],
   "source": [
    "anime_data.head(2)"
   ]
  },
  {
   "cell_type": "code",
   "execution_count": 30,
   "metadata": {},
   "outputs": [
    {
     "data": {
      "text/html": [
       "<div>\n",
       "<style scoped>\n",
       "    .dataframe tbody tr th:only-of-type {\n",
       "        vertical-align: middle;\n",
       "    }\n",
       "\n",
       "    .dataframe tbody tr th {\n",
       "        vertical-align: top;\n",
       "    }\n",
       "\n",
       "    .dataframe thead th {\n",
       "        text-align: right;\n",
       "    }\n",
       "</style>\n",
       "<table border=\"1\" class=\"dataframe\">\n",
       "  <thead>\n",
       "    <tr style=\"text-align: right;\">\n",
       "      <th></th>\n",
       "      <th>anime_id</th>\n",
       "      <th>title</th>\n",
       "      <th>rating</th>\n",
       "      <th>scored_by</th>\n",
       "      <th>popularity</th>\n",
       "      <th>members</th>\n",
       "      <th>aired</th>\n",
       "      <th>weighted_avg</th>\n",
       "    </tr>\n",
       "  </thead>\n",
       "  <tbody>\n",
       "    <tr>\n",
       "      <th>3133</th>\n",
       "      <td>5114</td>\n",
       "      <td>Fullmetal Alchemist Brotherhood</td>\n",
       "      <td>9.25</td>\n",
       "      <td>730784.0</td>\n",
       "      <td>4.0</td>\n",
       "      <td>1194518.0</td>\n",
       "      <td>2009</td>\n",
       "      <td>9.215634</td>\n",
       "    </tr>\n",
       "    <tr>\n",
       "      <th>9029</th>\n",
       "      <td>32281</td>\n",
       "      <td>Kimi no Na wa.</td>\n",
       "      <td>9.19</td>\n",
       "      <td>467437.0</td>\n",
       "      <td>15.0</td>\n",
       "      <td>724490.0</td>\n",
       "      <td>2016</td>\n",
       "      <td>9.137699</td>\n",
       "    </tr>\n",
       "    <tr>\n",
       "      <th>4348</th>\n",
       "      <td>9253</td>\n",
       "      <td>Steins;Gate</td>\n",
       "      <td>9.14</td>\n",
       "      <td>561405.0</td>\n",
       "      <td>7.0</td>\n",
       "      <td>1005781.0</td>\n",
       "      <td>2011</td>\n",
       "      <td>9.097073</td>\n",
       "    </tr>\n",
       "    <tr>\n",
       "      <th>4967</th>\n",
       "      <td>11061</td>\n",
       "      <td>Hunter x Hunter 2011</td>\n",
       "      <td>9.11</td>\n",
       "      <td>400879.0</td>\n",
       "      <td>20.0</td>\n",
       "      <td>716409.0</td>\n",
       "      <td>2011</td>\n",
       "      <td>9.050869</td>\n",
       "    </tr>\n",
       "    <tr>\n",
       "      <th>7716</th>\n",
       "      <td>28851</td>\n",
       "      <td>Koe no Katachi</td>\n",
       "      <td>9.04</td>\n",
       "      <td>293169.0</td>\n",
       "      <td>53.0</td>\n",
       "      <td>507502.0</td>\n",
       "      <td>2016</td>\n",
       "      <td>8.961744</td>\n",
       "    </tr>\n",
       "  </tbody>\n",
       "</table>\n",
       "</div>"
      ],
      "text/plain": [
       "      anime_id                            title  rating  scored_by  \\\n",
       "3133      5114  Fullmetal Alchemist Brotherhood    9.25   730784.0   \n",
       "9029     32281                   Kimi no Na wa.    9.19   467437.0   \n",
       "4348      9253                      Steins;Gate    9.14   561405.0   \n",
       "4967     11061             Hunter x Hunter 2011    9.11   400879.0   \n",
       "7716     28851                   Koe no Katachi    9.04   293169.0   \n",
       "\n",
       "      popularity    members  aired  weighted_avg  \n",
       "3133         4.0  1194518.0   2009      9.215634  \n",
       "9029        15.0   724490.0   2016      9.137699  \n",
       "4348         7.0  1005781.0   2011      9.097073  \n",
       "4967        20.0   716409.0   2011      9.050869  \n",
       "7716        53.0   507502.0   2016      8.961744  "
      ]
     },
     "execution_count": 30,
     "metadata": {},
     "output_type": "execute_result"
    }
   ],
   "source": [
    "#showing the top 10 anime with the highest weighted average\n",
    "total_anime = anime_data.copy()\n",
    "wavg = total_anime.sort_values('weighted_avg', ascending = False)\n",
    "wavg.head()"
   ]
  },
  {
   "cell_type": "markdown",
   "metadata": {},
   "source": [
    "# Recommending Anime according to the best in their year group using the combination of weighted average ratings, members and popularity"
   ]
  },
  {
   "cell_type": "code",
   "execution_count": 31,
   "metadata": {},
   "outputs": [],
   "source": [
    "#normalizing the weighted average and popularity column\n",
    "\n",
    "from sklearn import preprocessing\n",
    "\n",
    "min_max_scaler = preprocessing.MinMaxScaler()"
   ]
  },
  {
   "cell_type": "markdown",
   "metadata": {},
   "source": [
    "### Defining all the functions that will help with this recommendation"
   ]
  },
  {
   "cell_type": "code",
   "execution_count": 32,
   "metadata": {},
   "outputs": [],
   "source": [
    "#function to create group dataframes \n",
    "def create_group(first,last):\n",
    "    group = pd.DataFrame(anime_data.loc[(anime_data['aired'] >= first) & (anime_data['aired'] <= last)])\n",
    "    #changing the index to allow for easy joining of the dataframes later\n",
    "    group.index = [x for x in range(group.shape[0])]\n",
    "    return group"
   ]
  },
  {
   "cell_type": "code",
   "execution_count": 33,
   "metadata": {},
   "outputs": [],
   "source": [
    "#function to normalize the weighted average, popularity and membrs\n",
    "def norm(group):\n",
    "    data_scaled = min_max_scaler.fit_transform(group[['weighted_avg','popularity','members']])\n",
    "    data_norm = pd.DataFrame(data_scaled, columns = ['weighted_avg','popularity','members'])\n",
    "    return data_norm"
   ]
  },
  {
   "cell_type": "code",
   "execution_count": 54,
   "metadata": {},
   "outputs": [],
   "source": [
    "#function to create a score value that splits scaled weighted_avg, popularity and members\n",
    "def create_score(group,data_norm):\n",
    "    group[['norm_weighted_avg','norm_popularity','norm_members']] = data_norm\n",
    "    group['score'] = group['norm_weighted_avg']*0.8 +group['norm_popularity']*0.1 + group['norm_members']*0.1\n",
    "    data_scored = group.sort_values(['score'], ascending=False)\n",
    "    return data_scored"
   ]
  },
  {
   "cell_type": "code",
   "execution_count": 55,
   "metadata": {},
   "outputs": [],
   "source": [
    "#a function to show normalized features and the new score  feature\n",
    "def show_normalized(data):\n",
    "    return data[['title','norm_weighted_avg','norm_popularity','norm_members','score']].head(10)"
   ]
  },
  {
   "cell_type": "code",
   "execution_count": 56,
   "metadata": {},
   "outputs": [],
   "source": [
    "#a function to plot the top anime according to a split between weighted avg, members and popularity\n",
    "def plot(data,first,last):\n",
    "    plt.figure(figsize=(18,8))\n",
    "\n",
    "    ax = sns.barplot(x = data['score'].head(10), y = data['title'].head(10), data = data, palette='Set2')\n",
    "\n",
    "\n",
    "    plt.title('Best anime between years {} and {}'.format (first,last), weight = 'bold')\n",
    "    plt.xlabel('Score', weight = 'bold')\n",
    "    plt.ylabel('Anime Title', weight = 'bold')\n",
    "\n",
    "#plt.savefig('scored.png')"
   ]
  },
  {
   "cell_type": "markdown",
   "metadata": {},
   "source": [
    "### Group1 recommendation (1900 to 1999)"
   ]
  },
  {
   "cell_type": "code",
   "execution_count": 57,
   "metadata": {},
   "outputs": [
    {
     "data": {
      "text/html": [
       "<div>\n",
       "<style scoped>\n",
       "    .dataframe tbody tr th:only-of-type {\n",
       "        vertical-align: middle;\n",
       "    }\n",
       "\n",
       "    .dataframe tbody tr th {\n",
       "        vertical-align: top;\n",
       "    }\n",
       "\n",
       "    .dataframe thead th {\n",
       "        text-align: right;\n",
       "    }\n",
       "</style>\n",
       "<table border=\"1\" class=\"dataframe\">\n",
       "  <thead>\n",
       "    <tr style=\"text-align: right;\">\n",
       "      <th></th>\n",
       "      <th>anime_id</th>\n",
       "      <th>title</th>\n",
       "      <th>rating</th>\n",
       "      <th>scored_by</th>\n",
       "      <th>popularity</th>\n",
       "      <th>members</th>\n",
       "      <th>aired</th>\n",
       "      <th>weighted_avg</th>\n",
       "    </tr>\n",
       "  </thead>\n",
       "  <tbody>\n",
       "    <tr>\n",
       "      <th>0</th>\n",
       "      <td>1</td>\n",
       "      <td>Cowboy Bebop</td>\n",
       "      <td>8.81</td>\n",
       "      <td>363889.0</td>\n",
       "      <td>39.0</td>\n",
       "      <td>704490.0</td>\n",
       "      <td>1998</td>\n",
       "      <td>8.751886</td>\n",
       "    </tr>\n",
       "    <tr>\n",
       "      <th>1</th>\n",
       "      <td>6</td>\n",
       "      <td>Trigun</td>\n",
       "      <td>8.31</td>\n",
       "      <td>197451.0</td>\n",
       "      <td>158.0</td>\n",
       "      <td>372709.0</td>\n",
       "      <td>1998</td>\n",
       "      <td>8.225695</td>\n",
       "    </tr>\n",
       "  </tbody>\n",
       "</table>\n",
       "</div>"
      ],
      "text/plain": [
       "   anime_id         title  rating  scored_by  popularity   members  aired  \\\n",
       "0         1  Cowboy Bebop    8.81   363889.0        39.0  704490.0   1998   \n",
       "1         6        Trigun    8.31   197451.0       158.0  372709.0   1998   \n",
       "\n",
       "   weighted_avg  \n",
       "0      8.751886  \n",
       "1      8.225695  "
      ]
     },
     "execution_count": 57,
     "metadata": {},
     "output_type": "execute_result"
    }
   ],
   "source": [
    "group_1 = create_group(1900,1999)\n",
    "group_1.head(2)"
   ]
  },
  {
   "cell_type": "code",
   "execution_count": 58,
   "metadata": {},
   "outputs": [],
   "source": [
    "data_norm_1 = norm(group_1)"
   ]
  },
  {
   "cell_type": "code",
   "execution_count": 59,
   "metadata": {},
   "outputs": [],
   "source": [
    "data_scored_1 = create_score(group_1,data_norm_1)"
   ]
  },
  {
   "cell_type": "code",
   "execution_count": 62,
   "metadata": {},
   "outputs": [
    {
     "name": "stdout",
     "output_type": "stream",
     "text": [
      "0                                           Cowboy Bebop\n",
      "48                                         Mononoke Hime\n",
      "2                                              One Piece\n",
      "66                                 Great Teacher Onizuka\n",
      "8      Rurouni Kenshin Meiji Kenkaku Romantan  Tsuiok...\n",
      "3                                Neon Genesis Evangelion\n",
      "128                                     Tonari no Totoro\n",
      "152                                       Hotaru no Haka\n",
      "5          Neon Genesis Evangelion The End of Evangelion\n",
      "6                                   Kenpuu Denki Berserk\n",
      "Name: title, dtype: object\n"
     ]
    }
   ],
   "source": [
    "res = show_normalized(data_scored_1)\n",
    "print(res['title'])"
   ]
  },
  {
   "cell_type": "code",
   "execution_count": 44,
   "metadata": {},
   "outputs": [
    {
     "data": {
      "image/png": "[encoded data removed]",
      "text/plain": [
       "<Figure size 1296x576 with 1 Axes>"
      ]
     },
     "metadata": {
      "needs_background": "light"
     },
     "output_type": "display_data"
    }
   ],
   "source": [
    "plot(data_scored_1,1900,1999)"
   ]
  },
  {
   "cell_type": "markdown",
   "metadata": {},
   "source": [
    "### Group2 recommendation (2000 to 2009)"
   ]
  },
  {
   "cell_type": "code",
   "execution_count": 63,
   "metadata": {},
   "outputs": [
    {
     "data": {
      "text/html": [
       "<div>\n",
       "<style scoped>\n",
       "    .dataframe tbody tr th:only-of-type {\n",
       "        vertical-align: middle;\n",
       "    }\n",
       "\n",
       "    .dataframe tbody tr th {\n",
       "        vertical-align: top;\n",
       "    }\n",
       "\n",
       "    .dataframe thead th {\n",
       "        text-align: right;\n",
       "    }\n",
       "</style>\n",
       "<table border=\"1\" class=\"dataframe\">\n",
       "  <thead>\n",
       "    <tr style=\"text-align: right;\">\n",
       "      <th></th>\n",
       "      <th>anime_id</th>\n",
       "      <th>title</th>\n",
       "      <th>rating</th>\n",
       "      <th>scored_by</th>\n",
       "      <th>popularity</th>\n",
       "      <th>members</th>\n",
       "      <th>aired</th>\n",
       "      <th>weighted_avg</th>\n",
       "    </tr>\n",
       "  </thead>\n",
       "  <tbody>\n",
       "    <tr>\n",
       "      <th>0</th>\n",
       "      <td>5</td>\n",
       "      <td>Cowboy Bebop Tengoku no Tobira</td>\n",
       "      <td>8.41</td>\n",
       "      <td>111187.0</td>\n",
       "      <td>475.0</td>\n",
       "      <td>179899.0</td>\n",
       "      <td>2001</td>\n",
       "      <td>8.257816</td>\n",
       "    </tr>\n",
       "    <tr>\n",
       "      <th>1</th>\n",
       "      <td>7</td>\n",
       "      <td>Witch Hunter Robin</td>\n",
       "      <td>7.34</td>\n",
       "      <td>31875.0</td>\n",
       "      <td>1278.0</td>\n",
       "      <td>74889.0</td>\n",
       "      <td>2002</td>\n",
       "      <td>7.115654</td>\n",
       "    </tr>\n",
       "  </tbody>\n",
       "</table>\n",
       "</div>"
      ],
      "text/plain": [
       "   anime_id                           title  rating  scored_by  popularity  \\\n",
       "0         5  Cowboy Bebop Tengoku no Tobira    8.41   111187.0       475.0   \n",
       "1         7              Witch Hunter Robin    7.34    31875.0      1278.0   \n",
       "\n",
       "    members  aired  weighted_avg  \n",
       "0  179899.0   2001      8.257816  \n",
       "1   74889.0   2002      7.115654  "
      ]
     },
     "execution_count": 63,
     "metadata": {},
     "output_type": "execute_result"
    }
   ],
   "source": [
    "group_2 = create_group(2000,2009)\n",
    "group_2.head(2)"
   ]
  },
  {
   "cell_type": "code",
   "execution_count": 64,
   "metadata": {},
   "outputs": [],
   "source": [
    "data_norm_2 = norm(group_2)"
   ]
  },
  {
   "cell_type": "code",
   "execution_count": 65,
   "metadata": {},
   "outputs": [],
   "source": [
    "data_scored_2 = create_score(group_2,data_norm_2)"
   ]
  },
  {
   "cell_type": "code",
   "execution_count": 67,
   "metadata": {},
   "outputs": [
    {
     "name": "stdout",
     "output_type": "stream",
     "text": [
      "                                  title  norm_weighted_avg  norm_popularity  \\\n",
      "1629    Fullmetal Alchemist Brotherhood           1.000000         0.000184   \n",
      "696                          Death Note           0.903378         0.000000   \n",
      "1177  Code Geass Hangyaku no Lelouch R2           0.947551         0.001598   \n",
      "1476                Clannad After Story           0.954132         0.003872   \n",
      "716      Code Geass Hangyaku no Lelouch           0.921528         0.000615   \n",
      "129       Sen to Chihiro no Kamikakushi           0.941882         0.002397   \n",
      "934          Tengen Toppa Gurren Lagann           0.910906         0.001721   \n",
      "475                             Gintama           0.938268         0.005900   \n",
      "263                 Howl no Ugoku Shiro           0.906589         0.005347   \n",
      "1490                           Toradora           0.853543         0.000799   \n",
      "\n",
      "      norm_members     score  \n",
      "1629      0.822835  0.882302  \n",
      "696       1.000000  0.822703  \n",
      "1177      0.543387  0.812539  \n",
      "1476      0.417341  0.805427  \n",
      "716       0.677595  0.805044  \n",
      "129       0.484411  0.802187  \n",
      "934       0.540777  0.782975  \n",
      "475       0.314891  0.782694  \n",
      "263       0.330496  0.758855  \n",
      "1490      0.625157  0.745430  \n"
     ]
    }
   ],
   "source": [
    "res = show_normalized(data_scored_2)\n",
    "print(res)"
   ]
  },
  {
   "cell_type": "code",
   "execution_count": 49,
   "metadata": {},
   "outputs": [
    {
     "data": {
      "image/png": "[encoded data removed]",
      "text/plain": [
       "<Figure size 1296x576 with 1 Axes>"
      ]
     },
     "metadata": {
      "needs_background": "light"
     },
     "output_type": "display_data"
    }
   ],
   "source": [
    "plot(data_scored_2,1960,1979)"
   ]
  },
  {
   "cell_type": "markdown",
   "metadata": {},
   "source": [
    "### Group3 recommendation (2010 to 2019)"
   ]
  },
  {
   "cell_type": "code",
   "execution_count": 68,
   "metadata": {},
   "outputs": [
    {
     "data": {
      "text/html": [
       "<div>\n",
       "<style scoped>\n",
       "    .dataframe tbody tr th:only-of-type {\n",
       "        vertical-align: middle;\n",
       "    }\n",
       "\n",
       "    .dataframe tbody tr th {\n",
       "        vertical-align: top;\n",
       "    }\n",
       "\n",
       "    .dataframe thead th {\n",
       "        text-align: right;\n",
       "    }\n",
       "</style>\n",
       "<table border=\"1\" class=\"dataframe\">\n",
       "  <thead>\n",
       "    <tr style=\"text-align: right;\">\n",
       "      <th></th>\n",
       "      <th>anime_id</th>\n",
       "      <th>title</th>\n",
       "      <th>rating</th>\n",
       "      <th>scored_by</th>\n",
       "      <th>popularity</th>\n",
       "      <th>members</th>\n",
       "      <th>aired</th>\n",
       "      <th>weighted_avg</th>\n",
       "    </tr>\n",
       "  </thead>\n",
       "  <tbody>\n",
       "    <tr>\n",
       "      <th>0</th>\n",
       "      <td>4106</td>\n",
       "      <td>Trigun Badlands Rumble</td>\n",
       "      <td>8.05</td>\n",
       "      <td>46942.0</td>\n",
       "      <td>1117.0</td>\n",
       "      <td>84011.0</td>\n",
       "      <td>2010</td>\n",
       "      <td>7.777128</td>\n",
       "    </tr>\n",
       "    <tr>\n",
       "      <th>1</th>\n",
       "      <td>4713</td>\n",
       "      <td>Heart no Kuni no Alice Wonderful Wonder World</td>\n",
       "      <td>6.23</td>\n",
       "      <td>7822.0</td>\n",
       "      <td>2797.0</td>\n",
       "      <td>23507.0</td>\n",
       "      <td>2011</td>\n",
       "      <td>6.255933</td>\n",
       "    </tr>\n",
       "  </tbody>\n",
       "</table>\n",
       "</div>"
      ],
      "text/plain": [
       "   anime_id                                          title  rating  scored_by  \\\n",
       "0      4106                         Trigun Badlands Rumble    8.05    46942.0   \n",
       "1      4713  Heart no Kuni no Alice Wonderful Wonder World    6.23     7822.0   \n",
       "\n",
       "   popularity  members  aired  weighted_avg  \n",
       "0      1117.0  84011.0   2010      7.777128  \n",
       "1      2797.0  23507.0   2011      6.255933  "
      ]
     },
     "execution_count": 68,
     "metadata": {},
     "output_type": "execute_result"
    }
   ],
   "source": [
    "group_3 = create_group(2010,2019)\n",
    "group_3.head(2)"
   ]
  },
  {
   "cell_type": "code",
   "execution_count": 69,
   "metadata": {},
   "outputs": [],
   "source": [
    "data_norm_3 = norm(group_3)"
   ]
  },
  {
   "cell_type": "code",
   "execution_count": 70,
   "metadata": {},
   "outputs": [],
   "source": [
    "data_scored_3 = create_score(group_3,data_norm_3)"
   ]
  },
  {
   "cell_type": "code",
   "execution_count": 71,
   "metadata": {},
   "outputs": [
    {
     "name": "stdout",
     "output_type": "stream",
     "text": [
      "                                                  title  norm_weighted_avg  \\\n",
      "228                                         Steins;Gate           0.991996   \n",
      "2941                                     Kimi no Na wa.           1.000000   \n",
      "579                                Hunter x Hunter 2011           0.982894   \n",
      "2132                                     Koe no Katachi           0.965336   \n",
      "2354                                      One Punch Man           0.913754   \n",
      "1657                            Shigatsu wa Kimi no Uso           0.938801   \n",
      "984                                  Shingeki no Kyojin           0.868462   \n",
      "334                                             Gintama           0.946951   \n",
      "3188  Haikyuu Karasuno Koukou vs. Shiratorizawa Gaku...           0.943365   \n",
      "3404                   Boku no Hero Academia 2nd Season           0.913789   \n",
      "\n",
      "      norm_popularity  norm_members     score  \n",
      "228          0.000307      0.750222  0.868650  \n",
      "2941         0.000798      0.540403  0.854120  \n",
      "579          0.001105      0.534375  0.839863  \n",
      "2132         0.003132      0.378548  0.810437  \n",
      "2354         0.000184      0.757220  0.806744  \n",
      "1657         0.001596      0.532799  0.804480  \n",
      "984          0.000000      1.000000  0.794769  \n",
      "334          0.021552      0.160164  0.775732  \n",
      "3188         0.013570      0.187402  0.774789  \n",
      "3404         0.001228      0.430239  0.774178  \n"
     ]
    }
   ],
   "source": [
    "res = show_normalized(data_scored_3)\n",
    "print(res)"
   ]
  },
  {
   "cell_type": "code",
   "execution_count": 65,
   "metadata": {},
   "outputs": [
    {
     "data": {
      "image/png": "[encoded data removed]",
      "text/plain": [
       "<Figure size 1296x576 with 1 Axes>"
      ]
     },
     "metadata": {
      "needs_background": "light"
     },
     "output_type": "display_data"
    }
   ],
   "source": [
    "plot(data_scored_3,2010,2019)"
   ]
  },
  {
   "cell_type": "code",
   "execution_count": null,
   "metadata": {},
   "outputs": [],
   "source": []
  }
 ],
 "metadata": {
  "kernelspec": {
   "display_name": "Python 3",
   "language": "python",
   "name": "python3"
  },
  "language_info": {
   "codemirror_mode": {
    "name": "ipython",
    "version": 3
   },
   "file_extension": ".py",
   "mimetype": "text/x-python",
   "name": "python",
   "nbconvert_exporter": "python",
   "pygments_lexer": "ipython3",
   "version": "3.6.9"
  }
 },
 "nbformat": 4,
 "nbformat_minor": 2
}
