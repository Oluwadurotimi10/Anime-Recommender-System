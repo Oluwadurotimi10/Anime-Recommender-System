{
  "nbformat": 4,
  "nbformat_minor": 0,
  "metadata": {
    "colab": {
      "name": "anime_weighted.ipynb",
      "provenance": [],
      "toc_visible": true
    },
    "kernelspec": {
      "name": "python3",
      "display_name": "Python 3"
    }
  },
  "cells": [
    {
      "cell_type": "markdown",
      "metadata": {
        "id": "J3Wc0KJxaTMs",
        "colab_type": "text"
      },
      "source": [
        "### Simple Reccommedations"
      ]
    },
    {
      "cell_type": "markdown",
      "metadata": {
        "id": "XEQFDw08fpzQ",
        "colab_type": "text"
      },
      "source": [
        "Importing necessary libraries"
      ]
    },
    {
      "cell_type": "code",
      "metadata": {
        "id": "_xGMvvA49FN0",
        "colab_type": "code",
        "colab": {}
      },
      "source": [
        "import pandas as pd\n",
        "import numpy as np"
      ],
      "execution_count": 1,
      "outputs": []
    },
    {
      "cell_type": "code",
      "metadata": {
        "id": "WCtYTi_k9vpB",
        "colab_type": "code",
        "colab": {
          "base_uri": "https://localhost:8080/",
          "height": 204
        },
        "outputId": "db717cbe-51fe-4e8e-a632-d7537dd7650a"
      },
      "source": [
        "anime = pd.read_csv('/content/drive/My Drive/anime data/anime.csv')\n",
        "anime.head()"
      ],
      "execution_count": 2,
      "outputs": [
        {
          "output_type": "execute_result",
          "data": {
            "text/html": [
              "<div>\n",
              "<style scoped>\n",
              "    .dataframe tbody tr th:only-of-type {\n",
              "        vertical-align: middle;\n",
              "    }\n",
              "\n",
              "    .dataframe tbody tr th {\n",
              "        vertical-align: top;\n",
              "    }\n",
              "\n",
              "    .dataframe thead th {\n",
              "        text-align: right;\n",
              "    }\n",
              "</style>\n",
              "<table border=\"1\" class=\"dataframe\">\n",
              "  <thead>\n",
              "    <tr style=\"text-align: right;\">\n",
              "      <th></th>\n",
              "      <th>anime_id</th>\n",
              "      <th>name</th>\n",
              "      <th>genre</th>\n",
              "      <th>type</th>\n",
              "      <th>episodes</th>\n",
              "      <th>rating</th>\n",
              "      <th>members</th>\n",
              "    </tr>\n",
              "  </thead>\n",
              "  <tbody>\n",
              "    <tr>\n",
              "      <th>0</th>\n",
              "      <td>32281</td>\n",
              "      <td>Kimi no Na wa.</td>\n",
              "      <td>Drama, Romance, School, Supernatural</td>\n",
              "      <td>Movie</td>\n",
              "      <td>1</td>\n",
              "      <td>9.37</td>\n",
              "      <td>200630</td>\n",
              "    </tr>\n",
              "    <tr>\n",
              "      <th>1</th>\n",
              "      <td>5114</td>\n",
              "      <td>Fullmetal Alchemist: Brotherhood</td>\n",
              "      <td>Action, Adventure, Drama, Fantasy, Magic, Mili...</td>\n",
              "      <td>TV</td>\n",
              "      <td>64</td>\n",
              "      <td>9.26</td>\n",
              "      <td>793665</td>\n",
              "    </tr>\n",
              "    <tr>\n",
              "      <th>2</th>\n",
              "      <td>28977</td>\n",
              "      <td>Gintama°</td>\n",
              "      <td>Action, Comedy, Historical, Parody, Samurai, S...</td>\n",
              "      <td>TV</td>\n",
              "      <td>51</td>\n",
              "      <td>9.25</td>\n",
              "      <td>114262</td>\n",
              "    </tr>\n",
              "    <tr>\n",
              "      <th>3</th>\n",
              "      <td>9253</td>\n",
              "      <td>Steins;Gate</td>\n",
              "      <td>Sci-Fi, Thriller</td>\n",
              "      <td>TV</td>\n",
              "      <td>24</td>\n",
              "      <td>9.17</td>\n",
              "      <td>673572</td>\n",
              "    </tr>\n",
              "    <tr>\n",
              "      <th>4</th>\n",
              "      <td>9969</td>\n",
              "      <td>Gintama&amp;#039;</td>\n",
              "      <td>Action, Comedy, Historical, Parody, Samurai, S...</td>\n",
              "      <td>TV</td>\n",
              "      <td>51</td>\n",
              "      <td>9.16</td>\n",
              "      <td>151266</td>\n",
              "    </tr>\n",
              "  </tbody>\n",
              "</table>\n",
              "</div>"
            ],
            "text/plain": [
              "   anime_id                              name  ... rating members\n",
              "0     32281                    Kimi no Na wa.  ...   9.37  200630\n",
              "1      5114  Fullmetal Alchemist: Brotherhood  ...   9.26  793665\n",
              "2     28977                          Gintama°  ...   9.25  114262\n",
              "3      9253                       Steins;Gate  ...   9.17  673572\n",
              "4      9969                     Gintama&#039;  ...   9.16  151266\n",
              "\n",
              "[5 rows x 7 columns]"
            ]
          },
          "metadata": {
            "tags": []
          },
          "execution_count": 2
        }
      ]
    },
    {
      "cell_type": "markdown",
      "metadata": {
        "id": "NbjbUQi4go7x",
        "colab_type": "text"
      },
      "source": [
        "Cleaning up the name column from non-alphanumeric characters\n"
      ]
    },
    {
      "cell_type": "code",
      "metadata": {
        "id": "AbSiLXeMjBUT",
        "colab_type": "code",
        "colab": {
          "base_uri": "https://localhost:8080/",
          "height": 153
        },
        "outputId": "f1b52f65-4036-4695-ea76-ff5c47bc7409"
      },
      "source": [
        "anime.dtypes"
      ],
      "execution_count": 3,
      "outputs": [
        {
          "output_type": "execute_result",
          "data": {
            "text/plain": [
              "anime_id      int64\n",
              "name         object\n",
              "genre        object\n",
              "type         object\n",
              "episodes     object\n",
              "rating      float64\n",
              "members       int64\n",
              "dtype: object"
            ]
          },
          "metadata": {
            "tags": []
          },
          "execution_count": 3
        }
      ]
    },
    {
      "cell_type": "code",
      "metadata": {
        "id": "dTQ7QlJpjHVg",
        "colab_type": "code",
        "colab": {}
      },
      "source": [
        "#converting the name column into string datatype\n",
        "anime['name'] = anime['name'].astype('str')"
      ],
      "execution_count": 4,
      "outputs": []
    },
    {
      "cell_type": "code",
      "metadata": {
        "id": "c1NOSjNEgn0s",
        "colab_type": "code",
        "colab": {}
      },
      "source": [
        "#creating the function to remove the non-alphanumeric characters\n",
        "import re\n",
        "def clean_up(s):\n",
        "  new_s = re.sub(r\"[^\\sa-zA-Z0-9\\.\\,\\;]\",\"\",str(s))\n",
        "  return new_s\n"
      ],
      "execution_count": 5,
      "outputs": []
    },
    {
      "cell_type": "code",
      "metadata": {
        "id": "bFAqNu_0i3qu",
        "colab_type": "code",
        "colab": {}
      },
      "source": [
        "anime['name'] = anime['name'].apply(clean_up)"
      ],
      "execution_count": 6,
      "outputs": []
    },
    {
      "cell_type": "code",
      "metadata": {
        "id": "DjVjzZyMkR1O",
        "colab_type": "code",
        "colab": {
          "base_uri": "https://localhost:8080/",
          "height": 204
        },
        "outputId": "87f7d85f-85b0-47ca-e69c-af75309e510e"
      },
      "source": [
        "#after clean-up\n",
        "anime.head()"
      ],
      "execution_count": 7,
      "outputs": [
        {
          "output_type": "execute_result",
          "data": {
            "text/html": [
              "<div>\n",
              "<style scoped>\n",
              "    .dataframe tbody tr th:only-of-type {\n",
              "        vertical-align: middle;\n",
              "    }\n",
              "\n",
              "    .dataframe tbody tr th {\n",
              "        vertical-align: top;\n",
              "    }\n",
              "\n",
              "    .dataframe thead th {\n",
              "        text-align: right;\n",
              "    }\n",
              "</style>\n",
              "<table border=\"1\" class=\"dataframe\">\n",
              "  <thead>\n",
              "    <tr style=\"text-align: right;\">\n",
              "      <th></th>\n",
              "      <th>anime_id</th>\n",
              "      <th>name</th>\n",
              "      <th>genre</th>\n",
              "      <th>type</th>\n",
              "      <th>episodes</th>\n",
              "      <th>rating</th>\n",
              "      <th>members</th>\n",
              "    </tr>\n",
              "  </thead>\n",
              "  <tbody>\n",
              "    <tr>\n",
              "      <th>0</th>\n",
              "      <td>32281</td>\n",
              "      <td>Kimi no Na wa.</td>\n",
              "      <td>Drama, Romance, School, Supernatural</td>\n",
              "      <td>Movie</td>\n",
              "      <td>1</td>\n",
              "      <td>9.37</td>\n",
              "      <td>200630</td>\n",
              "    </tr>\n",
              "    <tr>\n",
              "      <th>1</th>\n",
              "      <td>5114</td>\n",
              "      <td>Fullmetal Alchemist Brotherhood</td>\n",
              "      <td>Action, Adventure, Drama, Fantasy, Magic, Mili...</td>\n",
              "      <td>TV</td>\n",
              "      <td>64</td>\n",
              "      <td>9.26</td>\n",
              "      <td>793665</td>\n",
              "    </tr>\n",
              "    <tr>\n",
              "      <th>2</th>\n",
              "      <td>28977</td>\n",
              "      <td>Gintama</td>\n",
              "      <td>Action, Comedy, Historical, Parody, Samurai, S...</td>\n",
              "      <td>TV</td>\n",
              "      <td>51</td>\n",
              "      <td>9.25</td>\n",
              "      <td>114262</td>\n",
              "    </tr>\n",
              "    <tr>\n",
              "      <th>3</th>\n",
              "      <td>9253</td>\n",
              "      <td>Steins;Gate</td>\n",
              "      <td>Sci-Fi, Thriller</td>\n",
              "      <td>TV</td>\n",
              "      <td>24</td>\n",
              "      <td>9.17</td>\n",
              "      <td>673572</td>\n",
              "    </tr>\n",
              "    <tr>\n",
              "      <th>4</th>\n",
              "      <td>9969</td>\n",
              "      <td>Gintama039;</td>\n",
              "      <td>Action, Comedy, Historical, Parody, Samurai, S...</td>\n",
              "      <td>TV</td>\n",
              "      <td>51</td>\n",
              "      <td>9.16</td>\n",
              "      <td>151266</td>\n",
              "    </tr>\n",
              "  </tbody>\n",
              "</table>\n",
              "</div>"
            ],
            "text/plain": [
              "   anime_id                             name  ... rating members\n",
              "0     32281                   Kimi no Na wa.  ...   9.37  200630\n",
              "1      5114  Fullmetal Alchemist Brotherhood  ...   9.26  793665\n",
              "2     28977                          Gintama  ...   9.25  114262\n",
              "3      9253                      Steins;Gate  ...   9.17  673572\n",
              "4      9969                      Gintama039;  ...   9.16  151266\n",
              "\n",
              "[5 rows x 7 columns]"
            ]
          },
          "metadata": {
            "tags": []
          },
          "execution_count": 7
        }
      ]
    },
    {
      "cell_type": "code",
      "metadata": {
        "id": "vpdhj-ky9vmV",
        "colab_type": "code",
        "colab": {
          "base_uri": "https://localhost:8080/",
          "height": 204
        },
        "outputId": "494007f0-1cbf-4e9e-b4d0-0dbe842f830d"
      },
      "source": [
        "ratings = pd.read_csv('/content/drive/My Drive/anime data/rating.csv')\n",
        "ratings.head()"
      ],
      "execution_count": 8,
      "outputs": [
        {
          "output_type": "execute_result",
          "data": {
            "text/html": [
              "<div>\n",
              "<style scoped>\n",
              "    .dataframe tbody tr th:only-of-type {\n",
              "        vertical-align: middle;\n",
              "    }\n",
              "\n",
              "    .dataframe tbody tr th {\n",
              "        vertical-align: top;\n",
              "    }\n",
              "\n",
              "    .dataframe thead th {\n",
              "        text-align: right;\n",
              "    }\n",
              "</style>\n",
              "<table border=\"1\" class=\"dataframe\">\n",
              "  <thead>\n",
              "    <tr style=\"text-align: right;\">\n",
              "      <th></th>\n",
              "      <th>user_id</th>\n",
              "      <th>anime_id</th>\n",
              "      <th>rating</th>\n",
              "    </tr>\n",
              "  </thead>\n",
              "  <tbody>\n",
              "    <tr>\n",
              "      <th>0</th>\n",
              "      <td>1</td>\n",
              "      <td>20</td>\n",
              "      <td>-1</td>\n",
              "    </tr>\n",
              "    <tr>\n",
              "      <th>1</th>\n",
              "      <td>1</td>\n",
              "      <td>24</td>\n",
              "      <td>-1</td>\n",
              "    </tr>\n",
              "    <tr>\n",
              "      <th>2</th>\n",
              "      <td>1</td>\n",
              "      <td>79</td>\n",
              "      <td>-1</td>\n",
              "    </tr>\n",
              "    <tr>\n",
              "      <th>3</th>\n",
              "      <td>1</td>\n",
              "      <td>226</td>\n",
              "      <td>-1</td>\n",
              "    </tr>\n",
              "    <tr>\n",
              "      <th>4</th>\n",
              "      <td>1</td>\n",
              "      <td>241</td>\n",
              "      <td>-1</td>\n",
              "    </tr>\n",
              "  </tbody>\n",
              "</table>\n",
              "</div>"
            ],
            "text/plain": [
              "   user_id  anime_id  rating\n",
              "0        1        20      -1\n",
              "1        1        24      -1\n",
              "2        1        79      -1\n",
              "3        1       226      -1\n",
              "4        1       241      -1"
            ]
          },
          "metadata": {
            "tags": []
          },
          "execution_count": 8
        }
      ]
    },
    {
      "cell_type": "code",
      "metadata": {
        "id": "Y5zMftE4XBM-",
        "colab_type": "code",
        "colab": {
          "base_uri": "https://localhost:8080/",
          "height": 34
        },
        "outputId": "3ff5060a-3d85-48f5-d982-e7478cacd27a"
      },
      "source": [
        "len(ratings)"
      ],
      "execution_count": 9,
      "outputs": [
        {
          "output_type": "execute_result",
          "data": {
            "text/plain": [
              "7813737"
            ]
          },
          "metadata": {
            "tags": []
          },
          "execution_count": 9
        }
      ]
    },
    {
      "cell_type": "code",
      "metadata": {
        "id": "K7-RPMWgWmoS",
        "colab_type": "code",
        "colab": {
          "base_uri": "https://localhost:8080/",
          "height": 34
        },
        "outputId": "f1aafee4-79cd-4ee9-f757-1a2da84e3ce9"
      },
      "source": [
        "#dropping all rows with rating value of -1. ie. the user_id did not rate the anime\n",
        "ratings = ratings[ratings['rating'] != -1]\n",
        "len(ratings)"
      ],
      "execution_count": 10,
      "outputs": [
        {
          "output_type": "execute_result",
          "data": {
            "text/plain": [
              "6337241"
            ]
          },
          "metadata": {
            "tags": []
          },
          "execution_count": 10
        }
      ]
    },
    {
      "cell_type": "code",
      "metadata": {
        "id": "tJNAVSDO9vi9",
        "colab_type": "code",
        "colab": {
          "base_uri": "https://localhost:8080/",
          "height": 34
        },
        "outputId": "59a061c0-4660-4ea4-d00f-a43cff77a498"
      },
      "source": [
        "anime.shape"
      ],
      "execution_count": 11,
      "outputs": [
        {
          "output_type": "execute_result",
          "data": {
            "text/plain": [
              "(12294, 7)"
            ]
          },
          "metadata": {
            "tags": []
          },
          "execution_count": 11
        }
      ]
    },
    {
      "cell_type": "code",
      "metadata": {
        "id": "0z9Dp-Fw9vgS",
        "colab_type": "code",
        "colab": {
          "base_uri": "https://localhost:8080/",
          "height": 34
        },
        "outputId": "750d68c5-b4e9-475e-c081-a8017e10d543"
      },
      "source": [
        "ratings.shape"
      ],
      "execution_count": 12,
      "outputs": [
        {
          "output_type": "execute_result",
          "data": {
            "text/plain": [
              "(6337241, 3)"
            ]
          },
          "metadata": {
            "tags": []
          },
          "execution_count": 12
        }
      ]
    },
    {
      "cell_type": "code",
      "metadata": {
        "id": "FY25J8II9vdv",
        "colab_type": "code",
        "colab": {}
      },
      "source": [
        "#renaming rating in anime df rating to average rating\n",
        "anime.rename(columns={'rating':'average_rating'}, inplace=True)"
      ],
      "execution_count": 13,
      "outputs": []
    },
    {
      "cell_type": "code",
      "metadata": {
        "id": "GaB5eEVZ9va2",
        "colab_type": "code",
        "colab": {
          "base_uri": "https://localhost:8080/",
          "height": 204
        },
        "outputId": "30af3fef-29bb-4213-ab85-17a2a5963750"
      },
      "source": [
        "anime.head()"
      ],
      "execution_count": 14,
      "outputs": [
        {
          "output_type": "execute_result",
          "data": {
            "text/html": [
              "<div>\n",
              "<style scoped>\n",
              "    .dataframe tbody tr th:only-of-type {\n",
              "        vertical-align: middle;\n",
              "    }\n",
              "\n",
              "    .dataframe tbody tr th {\n",
              "        vertical-align: top;\n",
              "    }\n",
              "\n",
              "    .dataframe thead th {\n",
              "        text-align: right;\n",
              "    }\n",
              "</style>\n",
              "<table border=\"1\" class=\"dataframe\">\n",
              "  <thead>\n",
              "    <tr style=\"text-align: right;\">\n",
              "      <th></th>\n",
              "      <th>anime_id</th>\n",
              "      <th>name</th>\n",
              "      <th>genre</th>\n",
              "      <th>type</th>\n",
              "      <th>episodes</th>\n",
              "      <th>average_rating</th>\n",
              "      <th>members</th>\n",
              "    </tr>\n",
              "  </thead>\n",
              "  <tbody>\n",
              "    <tr>\n",
              "      <th>0</th>\n",
              "      <td>32281</td>\n",
              "      <td>Kimi no Na wa.</td>\n",
              "      <td>Drama, Romance, School, Supernatural</td>\n",
              "      <td>Movie</td>\n",
              "      <td>1</td>\n",
              "      <td>9.37</td>\n",
              "      <td>200630</td>\n",
              "    </tr>\n",
              "    <tr>\n",
              "      <th>1</th>\n",
              "      <td>5114</td>\n",
              "      <td>Fullmetal Alchemist Brotherhood</td>\n",
              "      <td>Action, Adventure, Drama, Fantasy, Magic, Mili...</td>\n",
              "      <td>TV</td>\n",
              "      <td>64</td>\n",
              "      <td>9.26</td>\n",
              "      <td>793665</td>\n",
              "    </tr>\n",
              "    <tr>\n",
              "      <th>2</th>\n",
              "      <td>28977</td>\n",
              "      <td>Gintama</td>\n",
              "      <td>Action, Comedy, Historical, Parody, Samurai, S...</td>\n",
              "      <td>TV</td>\n",
              "      <td>51</td>\n",
              "      <td>9.25</td>\n",
              "      <td>114262</td>\n",
              "    </tr>\n",
              "    <tr>\n",
              "      <th>3</th>\n",
              "      <td>9253</td>\n",
              "      <td>Steins;Gate</td>\n",
              "      <td>Sci-Fi, Thriller</td>\n",
              "      <td>TV</td>\n",
              "      <td>24</td>\n",
              "      <td>9.17</td>\n",
              "      <td>673572</td>\n",
              "    </tr>\n",
              "    <tr>\n",
              "      <th>4</th>\n",
              "      <td>9969</td>\n",
              "      <td>Gintama039;</td>\n",
              "      <td>Action, Comedy, Historical, Parody, Samurai, S...</td>\n",
              "      <td>TV</td>\n",
              "      <td>51</td>\n",
              "      <td>9.16</td>\n",
              "      <td>151266</td>\n",
              "    </tr>\n",
              "  </tbody>\n",
              "</table>\n",
              "</div>"
            ],
            "text/plain": [
              "   anime_id                             name  ... average_rating members\n",
              "0     32281                   Kimi no Na wa.  ...           9.37  200630\n",
              "1      5114  Fullmetal Alchemist Brotherhood  ...           9.26  793665\n",
              "2     28977                          Gintama  ...           9.25  114262\n",
              "3      9253                      Steins;Gate  ...           9.17  673572\n",
              "4      9969                      Gintama039;  ...           9.16  151266\n",
              "\n",
              "[5 rows x 7 columns]"
            ]
          },
          "metadata": {
            "tags": []
          },
          "execution_count": 14
        }
      ]
    },
    {
      "cell_type": "markdown",
      "metadata": {
        "id": "nEFKkcosk1Ee",
        "colab_type": "text"
      },
      "source": [
        "## Merging both the anime and rating dataframes"
      ]
    },
    {
      "cell_type": "markdown",
      "metadata": {
        "id": "3IVQDX6_lFIZ",
        "colab_type": "text"
      },
      "source": [
        "### Important points to grasp about the datasets\n",
        "In the anime.csv file, **anime_id** is **unique** for each row.\n",
        "In the rating.csv file, neither **anime_id** nor  **user_id** is  **unique**. \n",
        "When we merge both, our **index** is the only unique column."
      ]
    },
    {
      "cell_type": "code",
      "metadata": {
        "id": "MvNdT0n29vYX",
        "colab_type": "code",
        "colab": {}
      },
      "source": [
        "#we merge based on anime_id cus they're both common in the 2 dataframes\n",
        "df_merged = pd.merge(ratings,anime,on='anime_id')"
      ],
      "execution_count": 15,
      "outputs": []
    },
    {
      "cell_type": "code",
      "metadata": {
        "id": "5CWxsSPL13Mv",
        "colab_type": "code",
        "colab": {
          "base_uri": "https://localhost:8080/",
          "height": 34
        },
        "outputId": "fa10b834-d549-45e0-ae39-c09ab826b3eb"
      },
      "source": [
        "unique_user_ids = len(df_merged['user_id'].unique())\n",
        "unique_anime_ids = len(df_merged['anime_id'].unique())\n",
        "lenghth_of_rows = df_merged.shape[0]\n",
        "print(f\"Length of unique user_ids: {unique_user_ids}, length of unique anime_ids: {unique_anime_ids} and length of rows: {lenghth_of_rows}\")"
      ],
      "execution_count": 16,
      "outputs": [
        {
          "output_type": "stream",
          "text": [
            "Length of unique user_ids: 69600, length of unique anime_ids: 9926 and length of rows: 6337239\n"
          ],
          "name": "stdout"
        }
      ]
    },
    {
      "cell_type": "code",
      "metadata": {
        "id": "45-kPl8_9vVz",
        "colab_type": "code",
        "colab": {
          "base_uri": "https://localhost:8080/",
          "height": 34
        },
        "outputId": "fa124218-f227-489e-f645-a5e1aee6c9fa"
      },
      "source": [
        "df_merged.shape"
      ],
      "execution_count": 17,
      "outputs": [
        {
          "output_type": "execute_result",
          "data": {
            "text/plain": [
              "(6337239, 9)"
            ]
          },
          "metadata": {
            "tags": []
          },
          "execution_count": 17
        }
      ]
    },
    {
      "cell_type": "code",
      "metadata": {
        "id": "EVi2ijlC9vTb",
        "colab_type": "code",
        "colab": {
          "base_uri": "https://localhost:8080/",
          "height": 142
        },
        "outputId": "f29fa431-9e6f-4cc2-91a4-868b3fcd568b"
      },
      "source": [
        "df_merged.head(3) "
      ],
      "execution_count": 18,
      "outputs": [
        {
          "output_type": "execute_result",
          "data": {
            "text/html": [
              "<div>\n",
              "<style scoped>\n",
              "    .dataframe tbody tr th:only-of-type {\n",
              "        vertical-align: middle;\n",
              "    }\n",
              "\n",
              "    .dataframe tbody tr th {\n",
              "        vertical-align: top;\n",
              "    }\n",
              "\n",
              "    .dataframe thead th {\n",
              "        text-align: right;\n",
              "    }\n",
              "</style>\n",
              "<table border=\"1\" class=\"dataframe\">\n",
              "  <thead>\n",
              "    <tr style=\"text-align: right;\">\n",
              "      <th></th>\n",
              "      <th>user_id</th>\n",
              "      <th>anime_id</th>\n",
              "      <th>rating</th>\n",
              "      <th>name</th>\n",
              "      <th>genre</th>\n",
              "      <th>type</th>\n",
              "      <th>episodes</th>\n",
              "      <th>average_rating</th>\n",
              "      <th>members</th>\n",
              "    </tr>\n",
              "  </thead>\n",
              "  <tbody>\n",
              "    <tr>\n",
              "      <th>0</th>\n",
              "      <td>1</td>\n",
              "      <td>8074</td>\n",
              "      <td>10</td>\n",
              "      <td>Highschool of the Dead</td>\n",
              "      <td>Action, Ecchi, Horror, Supernatural</td>\n",
              "      <td>TV</td>\n",
              "      <td>12</td>\n",
              "      <td>7.46</td>\n",
              "      <td>535892</td>\n",
              "    </tr>\n",
              "    <tr>\n",
              "      <th>1</th>\n",
              "      <td>3</td>\n",
              "      <td>8074</td>\n",
              "      <td>6</td>\n",
              "      <td>Highschool of the Dead</td>\n",
              "      <td>Action, Ecchi, Horror, Supernatural</td>\n",
              "      <td>TV</td>\n",
              "      <td>12</td>\n",
              "      <td>7.46</td>\n",
              "      <td>535892</td>\n",
              "    </tr>\n",
              "    <tr>\n",
              "      <th>2</th>\n",
              "      <td>5</td>\n",
              "      <td>8074</td>\n",
              "      <td>2</td>\n",
              "      <td>Highschool of the Dead</td>\n",
              "      <td>Action, Ecchi, Horror, Supernatural</td>\n",
              "      <td>TV</td>\n",
              "      <td>12</td>\n",
              "      <td>7.46</td>\n",
              "      <td>535892</td>\n",
              "    </tr>\n",
              "  </tbody>\n",
              "</table>\n",
              "</div>"
            ],
            "text/plain": [
              "   user_id  anime_id  rating  ... episodes average_rating members\n",
              "0        1      8074      10  ...       12           7.46  535892\n",
              "1        3      8074       6  ...       12           7.46  535892\n",
              "2        5      8074       2  ...       12           7.46  535892\n",
              "\n",
              "[3 rows x 9 columns]"
            ]
          },
          "metadata": {
            "tags": []
          },
          "execution_count": 18
        }
      ]
    },
    {
      "cell_type": "markdown",
      "metadata": {
        "id": "9_wZPSJAarIo",
        "colab_type": "text"
      },
      "source": [
        "#### Note that: There are 69,600 unique user ids and 9,926 unique anime ids and 6,337,239 rows"
      ]
    },
    {
      "cell_type": "code",
      "metadata": {
        "id": "4op1k578-OXq",
        "colab_type": "code",
        "colab": {}
      },
      "source": [
        "#shuffling the dataframe\n",
        "df_merged = df_merged.sample(n=len(df_merged), random_state=42)\n",
        "\n",
        "#we're going to use only 200,000 of the dataset to avoid RAM issues\n",
        "#df_merged = df_merged[:200000]"
      ],
      "execution_count": 19,
      "outputs": []
    },
    {
      "cell_type": "code",
      "metadata": {
        "id": "SxLRcOwQfc_1",
        "colab_type": "code",
        "colab": {
          "base_uri": "https://localhost:8080/",
          "height": 204
        },
        "outputId": "0953efb2-0c99-469f-dcd6-e1d0e5e58af1"
      },
      "source": [
        "#checking out the new head of the dataframe after shuffling\n",
        "df_merged.head()"
      ],
      "execution_count": 20,
      "outputs": [
        {
          "output_type": "execute_result",
          "data": {
            "text/html": [
              "<div>\n",
              "<style scoped>\n",
              "    .dataframe tbody tr th:only-of-type {\n",
              "        vertical-align: middle;\n",
              "    }\n",
              "\n",
              "    .dataframe tbody tr th {\n",
              "        vertical-align: top;\n",
              "    }\n",
              "\n",
              "    .dataframe thead th {\n",
              "        text-align: right;\n",
              "    }\n",
              "</style>\n",
              "<table border=\"1\" class=\"dataframe\">\n",
              "  <thead>\n",
              "    <tr style=\"text-align: right;\">\n",
              "      <th></th>\n",
              "      <th>user_id</th>\n",
              "      <th>anime_id</th>\n",
              "      <th>rating</th>\n",
              "      <th>name</th>\n",
              "      <th>genre</th>\n",
              "      <th>type</th>\n",
              "      <th>episodes</th>\n",
              "      <th>average_rating</th>\n",
              "      <th>members</th>\n",
              "    </tr>\n",
              "  </thead>\n",
              "  <tbody>\n",
              "    <tr>\n",
              "      <th>5589647</th>\n",
              "      <td>33460</td>\n",
              "      <td>238</td>\n",
              "      <td>9</td>\n",
              "      <td>Rekka no Honoo</td>\n",
              "      <td>Action, Adventure, Martial Arts, Shounen, Supe...</td>\n",
              "      <td>TV</td>\n",
              "      <td>42</td>\n",
              "      <td>7.44</td>\n",
              "      <td>35258</td>\n",
              "    </tr>\n",
              "    <tr>\n",
              "      <th>1898051</th>\n",
              "      <td>56212</td>\n",
              "      <td>17895</td>\n",
              "      <td>9</td>\n",
              "      <td>Golden Time</td>\n",
              "      <td>Comedy, Romance, Seinen</td>\n",
              "      <td>TV</td>\n",
              "      <td>24</td>\n",
              "      <td>7.92</td>\n",
              "      <td>273191</td>\n",
              "    </tr>\n",
              "    <tr>\n",
              "      <th>1215622</th>\n",
              "      <td>11329</td>\n",
              "      <td>5680</td>\n",
              "      <td>7</td>\n",
              "      <td>KOn</td>\n",
              "      <td>Comedy, Music, School, Slice of Life</td>\n",
              "      <td>TV</td>\n",
              "      <td>13</td>\n",
              "      <td>7.87</td>\n",
              "      <td>386048</td>\n",
              "    </tr>\n",
              "    <tr>\n",
              "      <th>4476341</th>\n",
              "      <td>50678</td>\n",
              "      <td>5630</td>\n",
              "      <td>10</td>\n",
              "      <td>Higashi no Eden</td>\n",
              "      <td>Action, Comedy, Drama, Mystery, Romance, Sci-F...</td>\n",
              "      <td>TV</td>\n",
              "      <td>11</td>\n",
              "      <td>8.03</td>\n",
              "      <td>276593</td>\n",
              "    </tr>\n",
              "    <tr>\n",
              "      <th>77210</th>\n",
              "      <td>6265</td>\n",
              "      <td>20</td>\n",
              "      <td>8</td>\n",
              "      <td>Naruto</td>\n",
              "      <td>Action, Comedy, Martial Arts, Shounen, Super P...</td>\n",
              "      <td>TV</td>\n",
              "      <td>220</td>\n",
              "      <td>7.81</td>\n",
              "      <td>683297</td>\n",
              "    </tr>\n",
              "  </tbody>\n",
              "</table>\n",
              "</div>"
            ],
            "text/plain": [
              "         user_id  anime_id  rating  ... episodes average_rating members\n",
              "5589647    33460       238       9  ...       42           7.44   35258\n",
              "1898051    56212     17895       9  ...       24           7.92  273191\n",
              "1215622    11329      5680       7  ...       13           7.87  386048\n",
              "4476341    50678      5630      10  ...       11           8.03  276593\n",
              "77210       6265        20       8  ...      220           7.81  683297\n",
              "\n",
              "[5 rows x 9 columns]"
            ]
          },
          "metadata": {
            "tags": []
          },
          "execution_count": 20
        }
      ]
    },
    {
      "cell_type": "markdown",
      "metadata": {
        "id": "o5g8vkft-QzP",
        "colab_type": "text"
      },
      "source": [
        "### EDA - Visualizing Imports"
      ]
    },
    {
      "cell_type": "code",
      "metadata": {
        "id": "u4KaKOaQ-OUm",
        "colab_type": "code",
        "colab": {
          "base_uri": "https://localhost:8080/",
          "height": 71
        },
        "outputId": "0f114f38-177c-4dd8-9323-176e64b6ad4d"
      },
      "source": [
        "import matplotlib.pyplot as plt\n",
        "import seaborn as sns\n",
        "sns.set_style('white')\n",
        "%matplotlib inline"
      ],
      "execution_count": 21,
      "outputs": [
        {
          "output_type": "stream",
          "text": [
            "/usr/local/lib/python3.6/dist-packages/statsmodels/tools/_testing.py:19: FutureWarning: pandas.util.testing is deprecated. Use the functions in the public API at pandas.testing instead.\n",
            "  import pandas.util.testing as tm\n"
          ],
          "name": "stderr"
        }
      ]
    },
    {
      "cell_type": "markdown",
      "metadata": {
        "id": "0J9BOyyK-ce8",
        "colab_type": "text"
      },
      "source": [
        "Creating ratings dataframe with number of ratings"
      ]
    },
    {
      "cell_type": "code",
      "metadata": {
        "id": "3wfxiBlY-gNZ",
        "colab_type": "code",
        "colab": {
          "base_uri": "https://localhost:8080/",
          "height": 136
        },
        "outputId": "2131b746-1e72-41ad-87ac-6ff303f89d02"
      },
      "source": [
        "#getting the number of users that voted for each anime (ie the number of times each anime_id appeared in the dataframe)\n",
        "df_merged.groupby('name')['genre'].count().sort_values(ascending=False).head()"
      ],
      "execution_count": 22,
      "outputs": [
        {
          "output_type": "execute_result",
          "data": {
            "text/plain": [
              "name\n",
              "Death Note                        34226\n",
              "Sword Art Online                  26310\n",
              "Shingeki no Kyojin                25290\n",
              "Code Geass Hangyaku no Lelouch    24126\n",
              "Angel Beats                       23565\n",
              "Name: genre, dtype: int64"
            ]
          },
          "metadata": {
            "tags": []
          },
          "execution_count": 22
        }
      ]
    },
    {
      "cell_type": "markdown",
      "metadata": {
        "id": "PwLZhk16sdbT",
        "colab_type": "text"
      },
      "source": [
        "Creating a dataframe of anime name with the count of their ratings "
      ]
    },
    {
      "cell_type": "code",
      "metadata": {
        "id": "Nh3fCiAE-gE9",
        "colab_type": "code",
        "colab": {
          "base_uri": "https://localhost:8080/",
          "height": 235
        },
        "outputId": "ff21f457-3484-4f2a-9134-04fa5ce3ea44"
      },
      "source": [
        "new_df = pd.DataFrame(df_merged.groupby('name')['members'].count())\n",
        "new_df.rename(columns={'members':'count of votes'}, inplace=True)\n",
        "new_df.head()"
      ],
      "execution_count": 23,
      "outputs": [
        {
          "output_type": "execute_result",
          "data": {
            "text/html": [
              "<div>\n",
              "<style scoped>\n",
              "    .dataframe tbody tr th:only-of-type {\n",
              "        vertical-align: middle;\n",
              "    }\n",
              "\n",
              "    .dataframe tbody tr th {\n",
              "        vertical-align: top;\n",
              "    }\n",
              "\n",
              "    .dataframe thead th {\n",
              "        text-align: right;\n",
              "    }\n",
              "</style>\n",
              "<table border=\"1\" class=\"dataframe\">\n",
              "  <thead>\n",
              "    <tr style=\"text-align: right;\">\n",
              "      <th></th>\n",
              "      <th>count of votes</th>\n",
              "    </tr>\n",
              "    <tr>\n",
              "      <th>name</th>\n",
              "      <th></th>\n",
              "    </tr>\n",
              "  </thead>\n",
              "  <tbody>\n",
              "    <tr>\n",
              "      <th></th>\n",
              "      <td>6</td>\n",
              "    </tr>\n",
              "    <tr>\n",
              "      <th>.hackG.U. Returner</th>\n",
              "      <td>528</td>\n",
              "    </tr>\n",
              "    <tr>\n",
              "      <th>.hackG.U. Trilogy</th>\n",
              "      <td>839</td>\n",
              "    </tr>\n",
              "    <tr>\n",
              "      <th>.hackG.U. Trilogy Parody Mode</th>\n",
              "      <td>256</td>\n",
              "    </tr>\n",
              "    <tr>\n",
              "      <th>.hackGift</th>\n",
              "      <td>644</td>\n",
              "    </tr>\n",
              "  </tbody>\n",
              "</table>\n",
              "</div>"
            ],
            "text/plain": [
              "                               count of votes\n",
              "name                                         \n",
              "                                            6\n",
              ".hackG.U. Returner                        528\n",
              ".hackG.U. Trilogy                         839\n",
              ".hackG.U. Trilogy Parody Mode             256\n",
              ".hackGift                                 644"
            ]
          },
          "metadata": {
            "tags": []
          },
          "execution_count": 23
        }
      ]
    },
    {
      "cell_type": "markdown",
      "metadata": {
        "id": "xRmI4BJmsvKH",
        "colab_type": "text"
      },
      "source": [
        "Merge the above dataframe to df_merged"
      ]
    },
    {
      "cell_type": "code",
      "metadata": {
        "id": "a0uqnFtN-gCC",
        "colab_type": "code",
        "colab": {}
      },
      "source": [
        "#we merge based on name cus they're both common in the 2 dataframes\n",
        "df_merged = pd.merge(new_df,df_merged,on='name')"
      ],
      "execution_count": 24,
      "outputs": []
    },
    {
      "cell_type": "code",
      "metadata": {
        "id": "-HLeOgts4qbO",
        "colab_type": "code",
        "colab": {
          "base_uri": "https://localhost:8080/",
          "height": 204
        },
        "outputId": "8e8d56f4-be29-450f-9867-96bc863a3c1d"
      },
      "source": [
        "df_merged.head()"
      ],
      "execution_count": 25,
      "outputs": [
        {
          "output_type": "execute_result",
          "data": {
            "text/html": [
              "<div>\n",
              "<style scoped>\n",
              "    .dataframe tbody tr th:only-of-type {\n",
              "        vertical-align: middle;\n",
              "    }\n",
              "\n",
              "    .dataframe tbody tr th {\n",
              "        vertical-align: top;\n",
              "    }\n",
              "\n",
              "    .dataframe thead th {\n",
              "        text-align: right;\n",
              "    }\n",
              "</style>\n",
              "<table border=\"1\" class=\"dataframe\">\n",
              "  <thead>\n",
              "    <tr style=\"text-align: right;\">\n",
              "      <th></th>\n",
              "      <th>name</th>\n",
              "      <th>count of votes</th>\n",
              "      <th>user_id</th>\n",
              "      <th>anime_id</th>\n",
              "      <th>rating</th>\n",
              "      <th>genre</th>\n",
              "      <th>type</th>\n",
              "      <th>episodes</th>\n",
              "      <th>average_rating</th>\n",
              "      <th>members</th>\n",
              "    </tr>\n",
              "  </thead>\n",
              "  <tbody>\n",
              "    <tr>\n",
              "      <th>0</th>\n",
              "      <td></td>\n",
              "      <td>6</td>\n",
              "      <td>53492</td>\n",
              "      <td>31687</td>\n",
              "      <td>2</td>\n",
              "      <td>Dementia, Music</td>\n",
              "      <td>ONA</td>\n",
              "      <td>1</td>\n",
              "      <td>4.22</td>\n",
              "      <td>448</td>\n",
              "    </tr>\n",
              "    <tr>\n",
              "      <th>1</th>\n",
              "      <td></td>\n",
              "      <td>6</td>\n",
              "      <td>47487</td>\n",
              "      <td>31687</td>\n",
              "      <td>1</td>\n",
              "      <td>Dementia, Music</td>\n",
              "      <td>ONA</td>\n",
              "      <td>1</td>\n",
              "      <td>4.22</td>\n",
              "      <td>448</td>\n",
              "    </tr>\n",
              "    <tr>\n",
              "      <th>2</th>\n",
              "      <td></td>\n",
              "      <td>6</td>\n",
              "      <td>3009</td>\n",
              "      <td>31687</td>\n",
              "      <td>4</td>\n",
              "      <td>Dementia, Music</td>\n",
              "      <td>ONA</td>\n",
              "      <td>1</td>\n",
              "      <td>4.22</td>\n",
              "      <td>448</td>\n",
              "    </tr>\n",
              "    <tr>\n",
              "      <th>3</th>\n",
              "      <td></td>\n",
              "      <td>6</td>\n",
              "      <td>12431</td>\n",
              "      <td>31687</td>\n",
              "      <td>2</td>\n",
              "      <td>Dementia, Music</td>\n",
              "      <td>ONA</td>\n",
              "      <td>1</td>\n",
              "      <td>4.22</td>\n",
              "      <td>448</td>\n",
              "    </tr>\n",
              "    <tr>\n",
              "      <th>4</th>\n",
              "      <td></td>\n",
              "      <td>6</td>\n",
              "      <td>26056</td>\n",
              "      <td>31687</td>\n",
              "      <td>2</td>\n",
              "      <td>Dementia, Music</td>\n",
              "      <td>ONA</td>\n",
              "      <td>1</td>\n",
              "      <td>4.22</td>\n",
              "      <td>448</td>\n",
              "    </tr>\n",
              "  </tbody>\n",
              "</table>\n",
              "</div>"
            ],
            "text/plain": [
              "  name  count of votes  user_id  ...  episodes  average_rating members\n",
              "0                    6    53492  ...         1            4.22     448\n",
              "1                    6    47487  ...         1            4.22     448\n",
              "2                    6     3009  ...         1            4.22     448\n",
              "3                    6    12431  ...         1            4.22     448\n",
              "4                    6    26056  ...         1            4.22     448\n",
              "\n",
              "[5 rows x 10 columns]"
            ]
          },
          "metadata": {
            "tags": []
          },
          "execution_count": 25
        }
      ]
    },
    {
      "cell_type": "markdown",
      "metadata": {
        "id": "qejz1NW9-stF",
        "colab_type": "text"
      },
      "source": [
        "Plotting histogram wrt number of ratings"
      ]
    },
    {
      "cell_type": "code",
      "metadata": {
        "id": "hOyYu3MW-pVQ",
        "colab_type": "code",
        "colab": {
          "base_uri": "https://localhost:8080/",
          "height": 282
        },
        "outputId": "969d6553-b000-42b8-a609-48aaa19cab03"
      },
      "source": [
        "#x-axis is number of votes, y-axis is frquency\n",
        "plt.figure(figsize=(10,4))\n",
        "df_merged['count of votes'].hist(bins=70)"
      ],
      "execution_count": 26,
      "outputs": [
        {
          "output_type": "execute_result",
          "data": {
            "text/plain": [
              "<matplotlib.axes._subplots.AxesSubplot at 0x7f2ee7fa8ba8>"
            ]
          },
          "metadata": {
            "tags": []
          },
          "execution_count": 26
        },
        {
          "output_type": "display_data",
          "data": {
            "image/png": "[encoded data removed]",
            "text/plain": [
              "<Figure size 720x288 with 1 Axes>"
            ]
          },
          "metadata": {
            "tags": [],
            "needs_background": "light"
          }
        }
      ]
    },
    {
      "cell_type": "code",
      "metadata": {
        "id": "DB4WwxaQ-pPG",
        "colab_type": "code",
        "colab": {
          "base_uri": "https://localhost:8080/",
          "height": 282
        },
        "outputId": "68a842a0-28ea-47a0-ec7b-0f68b4f0e7a4"
      },
      "source": [
        "#x-axis is average rating and y-axis is frequenct of the rating\n",
        "plt.figure(figsize=(10,4))\n",
        "df_merged['average_rating'].hist(bins=70)"
      ],
      "execution_count": 27,
      "outputs": [
        {
          "output_type": "execute_result",
          "data": {
            "text/plain": [
              "<matplotlib.axes._subplots.AxesSubplot at 0x7f2ee7e60208>"
            ]
          },
          "metadata": {
            "tags": []
          },
          "execution_count": 27
        },
        {
          "output_type": "display_data",
          "data": {
            "image/png": "[encoded data removed]",
            "text/plain": [
              "<Figure size 720x288 with 1 Axes>"
            ]
          },
          "metadata": {
            "tags": [],
            "needs_background": "light"
          }
        }
      ]
    },
    {
      "cell_type": "code",
      "metadata": {
        "id": "bAYmoeFa5bcr",
        "colab_type": "code",
        "colab": {
          "base_uri": "https://localhost:8080/",
          "height": 34
        },
        "outputId": "a5b74f84-40dc-4d69-f768-e84b86c0c181"
      },
      "source": [
        "df_merged.shape"
      ],
      "execution_count": 28,
      "outputs": [
        {
          "output_type": "execute_result",
          "data": {
            "text/plain": [
              "(6337239, 10)"
            ]
          },
          "metadata": {
            "tags": []
          },
          "execution_count": 28
        }
      ]
    },
    {
      "cell_type": "markdown",
      "metadata": {
        "id": "Df5kEQ7q6qsu",
        "colab_type": "text"
      },
      "source": [
        "Note that the new length of the dataframe is now 9,906"
      ]
    },
    {
      "cell_type": "markdown",
      "metadata": {
        "id": "0Aad_ikw657R",
        "colab_type": "text"
      },
      "source": [
        "Using the Weighted Average Formula AND the members column based on popularity\n",
        "WR = (vR + mC/v+m) where:\n",
        "- v is the number of votes\n",
        "- m is minimum votes required to be listed\n",
        "- R is rating average of the anime\n",
        "- C is mean vote across whole report"
      ]
    },
    {
      "cell_type": "code",
      "metadata": {
        "id": "EU3aC8xm8hgO",
        "colab_type": "code",
        "colab": {
          "base_uri": "https://localhost:8080/",
          "height": 142
        },
        "outputId": "2b91912f-b6b8-4f3a-d39c-59212b16ab80"
      },
      "source": [
        "#looking at the members column before normalizing (we have a range of 0-1,000,000)\n",
        "df_merged.head(3)"
      ],
      "execution_count": 29,
      "outputs": [
        {
          "output_type": "execute_result",
          "data": {
            "text/html": [
              "<div>\n",
              "<style scoped>\n",
              "    .dataframe tbody tr th:only-of-type {\n",
              "        vertical-align: middle;\n",
              "    }\n",
              "\n",
              "    .dataframe tbody tr th {\n",
              "        vertical-align: top;\n",
              "    }\n",
              "\n",
              "    .dataframe thead th {\n",
              "        text-align: right;\n",
              "    }\n",
              "</style>\n",
              "<table border=\"1\" class=\"dataframe\">\n",
              "  <thead>\n",
              "    <tr style=\"text-align: right;\">\n",
              "      <th></th>\n",
              "      <th>name</th>\n",
              "      <th>count of votes</th>\n",
              "      <th>user_id</th>\n",
              "      <th>anime_id</th>\n",
              "      <th>rating</th>\n",
              "      <th>genre</th>\n",
              "      <th>type</th>\n",
              "      <th>episodes</th>\n",
              "      <th>average_rating</th>\n",
              "      <th>members</th>\n",
              "    </tr>\n",
              "  </thead>\n",
              "  <tbody>\n",
              "    <tr>\n",
              "      <th>0</th>\n",
              "      <td></td>\n",
              "      <td>6</td>\n",
              "      <td>53492</td>\n",
              "      <td>31687</td>\n",
              "      <td>2</td>\n",
              "      <td>Dementia, Music</td>\n",
              "      <td>ONA</td>\n",
              "      <td>1</td>\n",
              "      <td>4.22</td>\n",
              "      <td>448</td>\n",
              "    </tr>\n",
              "    <tr>\n",
              "      <th>1</th>\n",
              "      <td></td>\n",
              "      <td>6</td>\n",
              "      <td>47487</td>\n",
              "      <td>31687</td>\n",
              "      <td>1</td>\n",
              "      <td>Dementia, Music</td>\n",
              "      <td>ONA</td>\n",
              "      <td>1</td>\n",
              "      <td>4.22</td>\n",
              "      <td>448</td>\n",
              "    </tr>\n",
              "    <tr>\n",
              "      <th>2</th>\n",
              "      <td></td>\n",
              "      <td>6</td>\n",
              "      <td>3009</td>\n",
              "      <td>31687</td>\n",
              "      <td>4</td>\n",
              "      <td>Dementia, Music</td>\n",
              "      <td>ONA</td>\n",
              "      <td>1</td>\n",
              "      <td>4.22</td>\n",
              "      <td>448</td>\n",
              "    </tr>\n",
              "  </tbody>\n",
              "</table>\n",
              "</div>"
            ],
            "text/plain": [
              "  name  count of votes  user_id  ...  episodes  average_rating members\n",
              "0                    6    53492  ...         1            4.22     448\n",
              "1                    6    47487  ...         1            4.22     448\n",
              "2                    6     3009  ...         1            4.22     448\n",
              "\n",
              "[3 rows x 10 columns]"
            ]
          },
          "metadata": {
            "tags": []
          },
          "execution_count": 29
        }
      ]
    },
    {
      "cell_type": "code",
      "metadata": {
        "id": "KTHvbSCl89Pz",
        "colab_type": "code",
        "colab": {
          "base_uri": "https://localhost:8080/",
          "height": 34
        },
        "outputId": "44e9325d-b463-42ca-f175-d95c783a265c"
      },
      "source": [
        "df_merged.members.max()"
      ],
      "execution_count": 30,
      "outputs": [
        {
          "output_type": "execute_result",
          "data": {
            "text/plain": [
              "1013917"
            ]
          },
          "metadata": {
            "tags": []
          },
          "execution_count": 30
        }
      ]
    },
    {
      "cell_type": "code",
      "metadata": {
        "id": "EfzUMYCC669h",
        "colab_type": "code",
        "colab": {}
      },
      "source": [
        "#normalizing the members column to a scale of 0-10\n",
        "from sklearn import preprocessing\n",
        "\n",
        "x = df_merged['members'].values #returns a numpy array\n",
        "x = x.reshape(-1,1)\n",
        "min_max_scaler = preprocessing.MinMaxScaler(feature_range=(0,10))\n",
        "x_scaled = min_max_scaler.fit_transform(x)\n",
        "df_merged['members'] = pd.DataFrame(x_scaled)"
      ],
      "execution_count": 31,
      "outputs": []
    },
    {
      "cell_type": "code",
      "metadata": {
        "id": "4W2nAc5U78_-",
        "colab_type": "code",
        "colab": {
          "base_uri": "https://localhost:8080/",
          "height": 142
        },
        "outputId": "5fd7deb2-95e4-4394-ff7b-6293fb727863"
      },
      "source": [
        "#after normalizing, we have a scale of 0-10\n",
        "df_merged.head(3)"
      ],
      "execution_count": 32,
      "outputs": [
        {
          "output_type": "execute_result",
          "data": {
            "text/html": [
              "<div>\n",
              "<style scoped>\n",
              "    .dataframe tbody tr th:only-of-type {\n",
              "        vertical-align: middle;\n",
              "    }\n",
              "\n",
              "    .dataframe tbody tr th {\n",
              "        vertical-align: top;\n",
              "    }\n",
              "\n",
              "    .dataframe thead th {\n",
              "        text-align: right;\n",
              "    }\n",
              "</style>\n",
              "<table border=\"1\" class=\"dataframe\">\n",
              "  <thead>\n",
              "    <tr style=\"text-align: right;\">\n",
              "      <th></th>\n",
              "      <th>name</th>\n",
              "      <th>count of votes</th>\n",
              "      <th>user_id</th>\n",
              "      <th>anime_id</th>\n",
              "      <th>rating</th>\n",
              "      <th>genre</th>\n",
              "      <th>type</th>\n",
              "      <th>episodes</th>\n",
              "      <th>average_rating</th>\n",
              "      <th>members</th>\n",
              "    </tr>\n",
              "  </thead>\n",
              "  <tbody>\n",
              "    <tr>\n",
              "      <th>0</th>\n",
              "      <td></td>\n",
              "      <td>6</td>\n",
              "      <td>53492</td>\n",
              "      <td>31687</td>\n",
              "      <td>2</td>\n",
              "      <td>Dementia, Music</td>\n",
              "      <td>ONA</td>\n",
              "      <td>1</td>\n",
              "      <td>4.22</td>\n",
              "      <td>0.004093</td>\n",
              "    </tr>\n",
              "    <tr>\n",
              "      <th>1</th>\n",
              "      <td></td>\n",
              "      <td>6</td>\n",
              "      <td>47487</td>\n",
              "      <td>31687</td>\n",
              "      <td>1</td>\n",
              "      <td>Dementia, Music</td>\n",
              "      <td>ONA</td>\n",
              "      <td>1</td>\n",
              "      <td>4.22</td>\n",
              "      <td>0.004093</td>\n",
              "    </tr>\n",
              "    <tr>\n",
              "      <th>2</th>\n",
              "      <td></td>\n",
              "      <td>6</td>\n",
              "      <td>3009</td>\n",
              "      <td>31687</td>\n",
              "      <td>4</td>\n",
              "      <td>Dementia, Music</td>\n",
              "      <td>ONA</td>\n",
              "      <td>1</td>\n",
              "      <td>4.22</td>\n",
              "      <td>0.004093</td>\n",
              "    </tr>\n",
              "  </tbody>\n",
              "</table>\n",
              "</div>"
            ],
            "text/plain": [
              "  name  count of votes  user_id  ...  episodes  average_rating   members\n",
              "0                    6    53492  ...         1            4.22  0.004093\n",
              "1                    6    47487  ...         1            4.22  0.004093\n",
              "2                    6     3009  ...         1            4.22  0.004093\n",
              "\n",
              "[3 rows x 10 columns]"
            ]
          },
          "metadata": {
            "tags": []
          },
          "execution_count": 32
        }
      ]
    },
    {
      "cell_type": "code",
      "metadata": {
        "id": "Qwk6xGzHNv1e",
        "colab_type": "code",
        "colab": {
          "base_uri": "https://localhost:8080/",
          "height": 34
        },
        "outputId": "aa6a081b-4f1e-4416-9e7e-0136eed840b5"
      },
      "source": [
        "# Calculate the mean vote of average rating column\n",
        "C = df_merged['average_rating'].mean()\n",
        "C"
      ],
      "execution_count": 33,
      "outputs": [
        {
          "output_type": "execute_result",
          "data": {
            "text/plain": [
              "7.674981203251645"
            ]
          },
          "metadata": {
            "tags": []
          },
          "execution_count": 33
        }
      ]
    },
    {
      "cell_type": "markdown",
      "metadata": {
        "id": "I_lwSZ0J53bw",
        "colab_type": "text"
      },
      "source": [
        "Calculating the number of votes, m, received by a movie in the 90th percentile."
      ]
    },
    {
      "cell_type": "code",
      "metadata": {
        "id": "7ilKahiW5wdI",
        "colab_type": "code",
        "colab": {
          "base_uri": "https://localhost:8080/",
          "height": 34
        },
        "outputId": "c571da86-a004-4fc9-e341-958e223ac74e"
      },
      "source": [
        "m = df_merged['count of votes'].quantile(0.90)\n",
        "print(m)"
      ],
      "execution_count": 34,
      "outputs": [
        {
          "output_type": "stream",
          "text": [
            "13846.0\n"
          ],
          "name": "stdout"
        }
      ]
    },
    {
      "cell_type": "markdown",
      "metadata": {
        "id": "nX1J63nD6J43",
        "colab_type": "text"
      },
      "source": [
        "using m to filter out anime qualified for the model. ie anime with rating count >= m"
      ]
    },
    {
      "cell_type": "code",
      "metadata": {
        "id": "7njl4QpQ6DTN",
        "colab_type": "code",
        "colab": {
          "base_uri": "https://localhost:8080/",
          "height": 34
        },
        "outputId": "a886fbbe-4811-44e4-eb22-883d20ed53cf"
      },
      "source": [
        "q_anime = df_merged.copy().loc[df_merged['count of votes'] >= m]\n",
        "q_anime.shape"
      ],
      "execution_count": 35,
      "outputs": [
        {
          "output_type": "execute_result",
          "data": {
            "text/plain": [
              "(642142, 10)"
            ]
          },
          "metadata": {
            "tags": []
          },
          "execution_count": 35
        }
      ]
    },
    {
      "cell_type": "code",
      "metadata": {
        "id": "pQP7bZIF6iTZ",
        "colab_type": "code",
        "colab": {
          "base_uri": "https://localhost:8080/",
          "height": 34
        },
        "outputId": "c2b21e04-5552-4cc5-9829-d796aa14bf89"
      },
      "source": [
        "df_merged.shape"
      ],
      "execution_count": 36,
      "outputs": [
        {
          "output_type": "execute_result",
          "data": {
            "text/plain": [
              "(6337239, 10)"
            ]
          },
          "metadata": {
            "tags": []
          },
          "execution_count": 36
        }
      ]
    },
    {
      "cell_type": "code",
      "metadata": {
        "id": "dJayNrpi6mHi",
        "colab_type": "code",
        "colab": {}
      },
      "source": [
        "# Function that computes the weighted rating of each movie\n",
        "def weighted_rating(x, m=m, C=C):\n",
        "    v = x['count of votes']\n",
        "    R = x['average_rating']\n",
        "    P = x['members']\n",
        "    # Calculation based on the IMDB formula\n",
        "    return 0.5*(( (v*R+m*C)/(v+m) ) + P)"
      ],
      "execution_count": 37,
      "outputs": []
    },
    {
      "cell_type": "code",
      "metadata": {
        "id": "G12AOluD9YiI",
        "colab_type": "code",
        "colab": {}
      },
      "source": [
        "#Define a feature 'score' and calculate its value with `weighted_rating()`\n",
        "q_anime['score'] = q_anime.apply(weighted_rating, axis=1) "
      ],
      "execution_count": 38,
      "outputs": []
    },
    {
      "cell_type": "code",
      "metadata": {
        "id": "IarUcARX9hnr",
        "colab_type": "code",
        "colab": {
          "base_uri": "https://localhost:8080/",
          "height": 669
        },
        "outputId": "a916c86e-5f03-4643-e488-d147ffbca668"
      },
      "source": [
        "#Sort anime based on score calculated above\n",
        "\n",
        "q_anime = q_anime.sort_values('score', ascending=False)\n",
        "q_anime = q_anime.drop_duplicates(subset=['name'])\n",
        "\n",
        "#Print the top 20 movies\n",
        "q_anime[['name', 'count of votes', 'average_rating', 'score']].head(20)"
      ],
      "execution_count": 39,
      "outputs": [
        {
          "output_type": "execute_result",
          "data": {
            "text/html": [
              "<div>\n",
              "<style scoped>\n",
              "    .dataframe tbody tr th:only-of-type {\n",
              "        vertical-align: middle;\n",
              "    }\n",
              "\n",
              "    .dataframe tbody tr th {\n",
              "        vertical-align: top;\n",
              "    }\n",
              "\n",
              "    .dataframe thead th {\n",
              "        text-align: right;\n",
              "    }\n",
              "</style>\n",
              "<table border=\"1\" class=\"dataframe\">\n",
              "  <thead>\n",
              "    <tr style=\"text-align: right;\">\n",
              "      <th></th>\n",
              "      <th>name</th>\n",
              "      <th>count of votes</th>\n",
              "      <th>average_rating</th>\n",
              "      <th>score</th>\n",
              "    </tr>\n",
              "  </thead>\n",
              "  <tbody>\n",
              "    <tr>\n",
              "      <th>1320809</th>\n",
              "      <td>Death Note</td>\n",
              "      <td>34226</td>\n",
              "      <td>8.71</td>\n",
              "      <td>9.205944</td>\n",
              "    </tr>\n",
              "    <tr>\n",
              "      <th>5233402</th>\n",
              "      <td>Shingeki no Kyojin</td>\n",
              "      <td>25290</td>\n",
              "      <td>8.54</td>\n",
              "      <td>8.536600</td>\n",
              "    </tr>\n",
              "    <tr>\n",
              "      <th>5564126</th>\n",
              "      <td>Sword Art Online</td>\n",
              "      <td>26310</td>\n",
              "      <td>7.83</td>\n",
              "      <td>8.292462</td>\n",
              "    </tr>\n",
              "    <tr>\n",
              "      <th>1935174</th>\n",
              "      <td>Fullmetal Alchemist Brotherhood</td>\n",
              "      <td>21494</td>\n",
              "      <td>9.26</td>\n",
              "      <td>8.233320</td>\n",
              "    </tr>\n",
              "    <tr>\n",
              "      <th>1075905</th>\n",
              "      <td>Code Geass Hangyaku no Lelouch</td>\n",
              "      <td>24126</td>\n",
              "      <td>8.83</td>\n",
              "      <td>7.731045</td>\n",
              "    </tr>\n",
              "    <tr>\n",
              "      <th>233264</th>\n",
              "      <td>Angel Beats</td>\n",
              "      <td>23565</td>\n",
              "      <td>8.39</td>\n",
              "      <td>7.602354</td>\n",
              "    </tr>\n",
              "    <tr>\n",
              "      <th>5435036</th>\n",
              "      <td>Steins;Gate</td>\n",
              "      <td>17151</td>\n",
              "      <td>9.17</td>\n",
              "      <td>7.572674</td>\n",
              "    </tr>\n",
              "    <tr>\n",
              "      <th>4009194</th>\n",
              "      <td>Naruto</td>\n",
              "      <td>22071</td>\n",
              "      <td>7.81</td>\n",
              "      <td>7.248512</td>\n",
              "    </tr>\n",
              "    <tr>\n",
              "      <th>5891303</th>\n",
              "      <td>Toradora</td>\n",
              "      <td>20837</td>\n",
              "      <td>8.45</td>\n",
              "      <td>7.195825</td>\n",
              "    </tr>\n",
              "    <tr>\n",
              "      <th>3801955</th>\n",
              "      <td>Mirai Nikki TV</td>\n",
              "      <td>18649</td>\n",
              "      <td>8.07</td>\n",
              "      <td>7.191632</td>\n",
              "    </tr>\n",
              "    <tr>\n",
              "      <th>1107715</th>\n",
              "      <td>Code Geass Hangyaku no Lelouch R2</td>\n",
              "      <td>21124</td>\n",
              "      <td>8.98</td>\n",
              "      <td>7.056698</td>\n",
              "    </tr>\n",
              "    <tr>\n",
              "      <th>4195527</th>\n",
              "      <td>No Game No Life</td>\n",
              "      <td>15574</td>\n",
              "      <td>8.47</td>\n",
              "      <td>7.017973</td>\n",
              "    </tr>\n",
              "    <tr>\n",
              "      <th>1918432</th>\n",
              "      <td>Fullmetal Alchemist</td>\n",
              "      <td>21332</td>\n",
              "      <td>8.33</td>\n",
              "      <td>6.996742</td>\n",
              "    </tr>\n",
              "    <tr>\n",
              "      <th>5810865</th>\n",
              "      <td>Tokyo Ghoul</td>\n",
              "      <td>15061</td>\n",
              "      <td>8.07</td>\n",
              "      <td>6.988195</td>\n",
              "    </tr>\n",
              "    <tr>\n",
              "      <th>1636991</th>\n",
              "      <td>Elfen Lied</td>\n",
              "      <td>23528</td>\n",
              "      <td>7.85</td>\n",
              "      <td>6.967281</td>\n",
              "    </tr>\n",
              "    <tr>\n",
              "      <th>5670478</th>\n",
              "      <td>Tengen Toppa Gurren Lagann</td>\n",
              "      <td>16955</td>\n",
              "      <td>8.78</td>\n",
              "      <td>6.917732</td>\n",
              "    </tr>\n",
              "    <tr>\n",
              "      <th>997728</th>\n",
              "      <td>Clannad</td>\n",
              "      <td>18746</td>\n",
              "      <td>8.30</td>\n",
              "      <td>6.811724</td>\n",
              "    </tr>\n",
              "    <tr>\n",
              "      <th>5384749</th>\n",
              "      <td>Soul Eater</td>\n",
              "      <td>16667</td>\n",
              "      <td>8.08</td>\n",
              "      <td>6.809139</td>\n",
              "    </tr>\n",
              "    <tr>\n",
              "      <th>316107</th>\n",
              "      <td>Ao no Exorcist</td>\n",
              "      <td>17801</td>\n",
              "      <td>7.92</td>\n",
              "      <td>6.785379</td>\n",
              "    </tr>\n",
              "    <tr>\n",
              "      <th>1597020</th>\n",
              "      <td>Durarara</td>\n",
              "      <td>15874</td>\n",
              "      <td>8.38</td>\n",
              "      <td>6.769666</td>\n",
              "    </tr>\n",
              "  </tbody>\n",
              "</table>\n",
              "</div>"
            ],
            "text/plain": [
              "                                      name  ...     score\n",
              "1320809                         Death Note  ...  9.205944\n",
              "5233402                 Shingeki no Kyojin  ...  8.536600\n",
              "5564126                   Sword Art Online  ...  8.292462\n",
              "1935174    Fullmetal Alchemist Brotherhood  ...  8.233320\n",
              "1075905     Code Geass Hangyaku no Lelouch  ...  7.731045\n",
              "233264                         Angel Beats  ...  7.602354\n",
              "5435036                        Steins;Gate  ...  7.572674\n",
              "4009194                             Naruto  ...  7.248512\n",
              "5891303                           Toradora  ...  7.195825\n",
              "3801955                     Mirai Nikki TV  ...  7.191632\n",
              "1107715  Code Geass Hangyaku no Lelouch R2  ...  7.056698\n",
              "4195527                    No Game No Life  ...  7.017973\n",
              "1918432                Fullmetal Alchemist  ...  6.996742\n",
              "5810865                        Tokyo Ghoul  ...  6.988195\n",
              "1636991                         Elfen Lied  ...  6.967281\n",
              "5670478         Tengen Toppa Gurren Lagann  ...  6.917732\n",
              "997728                             Clannad  ...  6.811724\n",
              "5384749                         Soul Eater  ...  6.809139\n",
              "316107                      Ao no Exorcist  ...  6.785379\n",
              "1597020                           Durarara  ...  6.769666\n",
              "\n",
              "[20 rows x 4 columns]"
            ]
          },
          "metadata": {
            "tags": []
          },
          "execution_count": 39
        }
      ]
    },
    {
      "cell_type": "code",
      "metadata": {
        "id": "VvA5hokkfaWc",
        "colab_type": "code",
        "colab": {}
      },
      "source": [
        ""
      ],
      "execution_count": null,
      "outputs": []
    }
  ]
}