{
  "nbformat": 4,
  "nbformat_minor": 0,
  "metadata": {
    "colab": {
      "name": "anime_content-based_old.ipynb",
      "provenance": []
    },
    "kernelspec": {
      "name": "python3",
      "display_name": "Python 3"
    }
  },
  "cells": [
    {
      "cell_type": "markdown",
      "metadata": {
        "id": "sGyspujdhlNt",
        "colab_type": "text"
      },
      "source": [
        "### Content Based Recommender"
      ]
    },
    {
      "cell_type": "markdown",
      "metadata": {
        "id": "MDxhOMm8iClP",
        "colab_type": "text"
      },
      "source": [
        "Importing neccessary libraries"
      ]
    },
    {
      "cell_type": "code",
      "metadata": {
        "id": "Owtnni4QhWll",
        "colab_type": "code",
        "colab": {}
      },
      "source": [
        "import pandas as pd\n",
        "import numpy as np"
      ],
      "execution_count": null,
      "outputs": []
    },
    {
      "cell_type": "code",
      "metadata": {
        "id": "Np1MEeNMiJIM",
        "colab_type": "code",
        "colab": {}
      },
      "source": [
        "anime = pd.read_csv('/content/drive/My Drive/anime data/anime.csv')\n",
        "ratings = pd.read_csv('/content/drive/My Drive/anime data/rating.csv')"
      ],
      "execution_count": null,
      "outputs": []
    },
    {
      "cell_type": "code",
      "metadata": {
        "id": "5EM062diiVhF",
        "colab_type": "code",
        "colab": {
          "base_uri": "https://localhost:8080/",
          "height": 204
        },
        "outputId": "efab4718-1e56-4aef-ced7-ea8331d0e369"
      },
      "source": [
        "anime.head()"
      ],
      "execution_count": null,
      "outputs": [
        {
          "output_type": "execute_result",
          "data": {
            "text/html": [
              "<div>\n",
              "<style scoped>\n",
              "    .dataframe tbody tr th:only-of-type {\n",
              "        vertical-align: middle;\n",
              "    }\n",
              "\n",
              "    .dataframe tbody tr th {\n",
              "        vertical-align: top;\n",
              "    }\n",
              "\n",
              "    .dataframe thead th {\n",
              "        text-align: right;\n",
              "    }\n",
              "</style>\n",
              "<table border=\"1\" class=\"dataframe\">\n",
              "  <thead>\n",
              "    <tr style=\"text-align: right;\">\n",
              "      <th></th>\n",
              "      <th>anime_id</th>\n",
              "      <th>name</th>\n",
              "      <th>genre</th>\n",
              "      <th>type</th>\n",
              "      <th>episodes</th>\n",
              "      <th>rating</th>\n",
              "      <th>members</th>\n",
              "    </tr>\n",
              "  </thead>\n",
              "  <tbody>\n",
              "    <tr>\n",
              "      <th>0</th>\n",
              "      <td>32281</td>\n",
              "      <td>Kimi no Na wa.</td>\n",
              "      <td>Drama, Romance, School, Supernatural</td>\n",
              "      <td>Movie</td>\n",
              "      <td>1</td>\n",
              "      <td>9.37</td>\n",
              "      <td>200630</td>\n",
              "    </tr>\n",
              "    <tr>\n",
              "      <th>1</th>\n",
              "      <td>5114</td>\n",
              "      <td>Fullmetal Alchemist: Brotherhood</td>\n",
              "      <td>Action, Adventure, Drama, Fantasy, Magic, Mili...</td>\n",
              "      <td>TV</td>\n",
              "      <td>64</td>\n",
              "      <td>9.26</td>\n",
              "      <td>793665</td>\n",
              "    </tr>\n",
              "    <tr>\n",
              "      <th>2</th>\n",
              "      <td>28977</td>\n",
              "      <td>Gintama°</td>\n",
              "      <td>Action, Comedy, Historical, Parody, Samurai, S...</td>\n",
              "      <td>TV</td>\n",
              "      <td>51</td>\n",
              "      <td>9.25</td>\n",
              "      <td>114262</td>\n",
              "    </tr>\n",
              "    <tr>\n",
              "      <th>3</th>\n",
              "      <td>9253</td>\n",
              "      <td>Steins;Gate</td>\n",
              "      <td>Sci-Fi, Thriller</td>\n",
              "      <td>TV</td>\n",
              "      <td>24</td>\n",
              "      <td>9.17</td>\n",
              "      <td>673572</td>\n",
              "    </tr>\n",
              "    <tr>\n",
              "      <th>4</th>\n",
              "      <td>9969</td>\n",
              "      <td>Gintama&amp;#039;</td>\n",
              "      <td>Action, Comedy, Historical, Parody, Samurai, S...</td>\n",
              "      <td>TV</td>\n",
              "      <td>51</td>\n",
              "      <td>9.16</td>\n",
              "      <td>151266</td>\n",
              "    </tr>\n",
              "  </tbody>\n",
              "</table>\n",
              "</div>"
            ],
            "text/plain": [
              "   anime_id                              name  ... rating members\n",
              "0     32281                    Kimi no Na wa.  ...   9.37  200630\n",
              "1      5114  Fullmetal Alchemist: Brotherhood  ...   9.26  793665\n",
              "2     28977                          Gintama°  ...   9.25  114262\n",
              "3      9253                       Steins;Gate  ...   9.17  673572\n",
              "4      9969                     Gintama&#039;  ...   9.16  151266\n",
              "\n",
              "[5 rows x 7 columns]"
            ]
          },
          "metadata": {
            "tags": []
          },
          "execution_count": 29
        }
      ]
    },
    {
      "cell_type": "markdown",
      "metadata": {
        "id": "yUWPzfMpisIr",
        "colab_type": "text"
      },
      "source": [
        "Cleaning up the name column from non-alphanumeric characters\n"
      ]
    },
    {
      "cell_type": "code",
      "metadata": {
        "id": "Q6hdiZoRikue",
        "colab_type": "code",
        "colab": {
          "base_uri": "https://localhost:8080/",
          "height": 153
        },
        "outputId": "a398f4ff-b2f2-4400-c391-792ebde278dd"
      },
      "source": [
        "anime.dtypes"
      ],
      "execution_count": null,
      "outputs": [
        {
          "output_type": "execute_result",
          "data": {
            "text/plain": [
              "anime_id      int64\n",
              "name         object\n",
              "genre        object\n",
              "type         object\n",
              "episodes     object\n",
              "rating      float64\n",
              "members       int64\n",
              "dtype: object"
            ]
          },
          "metadata": {
            "tags": []
          },
          "execution_count": 30
        }
      ]
    },
    {
      "cell_type": "code",
      "metadata": {
        "id": "6b85tY0-i2SP",
        "colab_type": "code",
        "colab": {}
      },
      "source": [
        "#converting the name column into string datatype\n",
        "anime['name'] = anime['name'].astype('str')"
      ],
      "execution_count": null,
      "outputs": []
    },
    {
      "cell_type": "code",
      "metadata": {
        "id": "g7Sg8p6Qi5mn",
        "colab_type": "code",
        "colab": {}
      },
      "source": [
        "#creating the function to remove the characters\n",
        "import re\n",
        "def clean_up(s):\n",
        "  new_s = re.sub(r\"[^\\sa-zA-Z0-9\\.\\,\\;]\",\"\",str(s))\n",
        "  return new_s\n"
      ],
      "execution_count": null,
      "outputs": []
    },
    {
      "cell_type": "code",
      "metadata": {
        "id": "ICOlV6bWi722",
        "colab_type": "code",
        "colab": {}
      },
      "source": [
        "anime['name'] = anime['name'].apply(clean_up)"
      ],
      "execution_count": null,
      "outputs": []
    },
    {
      "cell_type": "code",
      "metadata": {
        "id": "mGNSbrfDjbxK",
        "colab_type": "code",
        "colab": {}
      },
      "source": [
        "#renaming rating in anime df rating to average rating\n",
        "anime.rename(columns={'rating':'average_rating'}, inplace=True)"
      ],
      "execution_count": null,
      "outputs": []
    },
    {
      "cell_type": "code",
      "metadata": {
        "id": "l0YJzaYPi-55",
        "colab_type": "code",
        "colab": {
          "base_uri": "https://localhost:8080/",
          "height": 204
        },
        "outputId": "a519ec85-5690-4b47-c653-a7a293dabba6"
      },
      "source": [
        "anime.head()"
      ],
      "execution_count": null,
      "outputs": [
        {
          "output_type": "execute_result",
          "data": {
            "text/html": [
              "<div>\n",
              "<style scoped>\n",
              "    .dataframe tbody tr th:only-of-type {\n",
              "        vertical-align: middle;\n",
              "    }\n",
              "\n",
              "    .dataframe tbody tr th {\n",
              "        vertical-align: top;\n",
              "    }\n",
              "\n",
              "    .dataframe thead th {\n",
              "        text-align: right;\n",
              "    }\n",
              "</style>\n",
              "<table border=\"1\" class=\"dataframe\">\n",
              "  <thead>\n",
              "    <tr style=\"text-align: right;\">\n",
              "      <th></th>\n",
              "      <th>anime_id</th>\n",
              "      <th>name</th>\n",
              "      <th>genre</th>\n",
              "      <th>type</th>\n",
              "      <th>episodes</th>\n",
              "      <th>average_rating</th>\n",
              "      <th>members</th>\n",
              "    </tr>\n",
              "  </thead>\n",
              "  <tbody>\n",
              "    <tr>\n",
              "      <th>0</th>\n",
              "      <td>32281</td>\n",
              "      <td>Kimi no Na wa.</td>\n",
              "      <td>Drama, Romance, School, Supernatural</td>\n",
              "      <td>Movie</td>\n",
              "      <td>1</td>\n",
              "      <td>9.37</td>\n",
              "      <td>200630</td>\n",
              "    </tr>\n",
              "    <tr>\n",
              "      <th>1</th>\n",
              "      <td>5114</td>\n",
              "      <td>Fullmetal Alchemist Brotherhood</td>\n",
              "      <td>Action, Adventure, Drama, Fantasy, Magic, Mili...</td>\n",
              "      <td>TV</td>\n",
              "      <td>64</td>\n",
              "      <td>9.26</td>\n",
              "      <td>793665</td>\n",
              "    </tr>\n",
              "    <tr>\n",
              "      <th>2</th>\n",
              "      <td>28977</td>\n",
              "      <td>Gintama</td>\n",
              "      <td>Action, Comedy, Historical, Parody, Samurai, S...</td>\n",
              "      <td>TV</td>\n",
              "      <td>51</td>\n",
              "      <td>9.25</td>\n",
              "      <td>114262</td>\n",
              "    </tr>\n",
              "    <tr>\n",
              "      <th>3</th>\n",
              "      <td>9253</td>\n",
              "      <td>Steins;Gate</td>\n",
              "      <td>Sci-Fi, Thriller</td>\n",
              "      <td>TV</td>\n",
              "      <td>24</td>\n",
              "      <td>9.17</td>\n",
              "      <td>673572</td>\n",
              "    </tr>\n",
              "    <tr>\n",
              "      <th>4</th>\n",
              "      <td>9969</td>\n",
              "      <td>Gintama039;</td>\n",
              "      <td>Action, Comedy, Historical, Parody, Samurai, S...</td>\n",
              "      <td>TV</td>\n",
              "      <td>51</td>\n",
              "      <td>9.16</td>\n",
              "      <td>151266</td>\n",
              "    </tr>\n",
              "  </tbody>\n",
              "</table>\n",
              "</div>"
            ],
            "text/plain": [
              "   anime_id                             name  ... average_rating members\n",
              "0     32281                   Kimi no Na wa.  ...           9.37  200630\n",
              "1      5114  Fullmetal Alchemist Brotherhood  ...           9.26  793665\n",
              "2     28977                          Gintama  ...           9.25  114262\n",
              "3      9253                      Steins;Gate  ...           9.17  673572\n",
              "4      9969                      Gintama039;  ...           9.16  151266\n",
              "\n",
              "[5 rows x 7 columns]"
            ]
          },
          "metadata": {
            "tags": []
          },
          "execution_count": 35
        }
      ]
    },
    {
      "cell_type": "code",
      "metadata": {
        "id": "nyExFo0KjBHo",
        "colab_type": "code",
        "colab": {
          "base_uri": "https://localhost:8080/",
          "height": 204
        },
        "outputId": "9a76fedb-d88a-4b5a-92ee-9a30c3b32ee9"
      },
      "source": [
        "ratings.head()"
      ],
      "execution_count": null,
      "outputs": [
        {
          "output_type": "execute_result",
          "data": {
            "text/html": [
              "<div>\n",
              "<style scoped>\n",
              "    .dataframe tbody tr th:only-of-type {\n",
              "        vertical-align: middle;\n",
              "    }\n",
              "\n",
              "    .dataframe tbody tr th {\n",
              "        vertical-align: top;\n",
              "    }\n",
              "\n",
              "    .dataframe thead th {\n",
              "        text-align: right;\n",
              "    }\n",
              "</style>\n",
              "<table border=\"1\" class=\"dataframe\">\n",
              "  <thead>\n",
              "    <tr style=\"text-align: right;\">\n",
              "      <th></th>\n",
              "      <th>user_id</th>\n",
              "      <th>anime_id</th>\n",
              "      <th>rating</th>\n",
              "    </tr>\n",
              "  </thead>\n",
              "  <tbody>\n",
              "    <tr>\n",
              "      <th>0</th>\n",
              "      <td>1</td>\n",
              "      <td>20</td>\n",
              "      <td>-1</td>\n",
              "    </tr>\n",
              "    <tr>\n",
              "      <th>1</th>\n",
              "      <td>1</td>\n",
              "      <td>24</td>\n",
              "      <td>-1</td>\n",
              "    </tr>\n",
              "    <tr>\n",
              "      <th>2</th>\n",
              "      <td>1</td>\n",
              "      <td>79</td>\n",
              "      <td>-1</td>\n",
              "    </tr>\n",
              "    <tr>\n",
              "      <th>3</th>\n",
              "      <td>1</td>\n",
              "      <td>226</td>\n",
              "      <td>-1</td>\n",
              "    </tr>\n",
              "    <tr>\n",
              "      <th>4</th>\n",
              "      <td>1</td>\n",
              "      <td>241</td>\n",
              "      <td>-1</td>\n",
              "    </tr>\n",
              "  </tbody>\n",
              "</table>\n",
              "</div>"
            ],
            "text/plain": [
              "   user_id  anime_id  rating\n",
              "0        1        20      -1\n",
              "1        1        24      -1\n",
              "2        1        79      -1\n",
              "3        1       226      -1\n",
              "4        1       241      -1"
            ]
          },
          "metadata": {
            "tags": []
          },
          "execution_count": 36
        }
      ]
    },
    {
      "cell_type": "code",
      "metadata": {
        "id": "nA1O_GsNjG7L",
        "colab_type": "code",
        "colab": {
          "base_uri": "https://localhost:8080/",
          "height": 34
        },
        "outputId": "c2f140cf-f95d-46fe-d1ce-ce734d15a51e"
      },
      "source": [
        "len(ratings)"
      ],
      "execution_count": null,
      "outputs": [
        {
          "output_type": "execute_result",
          "data": {
            "text/plain": [
              "7813737"
            ]
          },
          "metadata": {
            "tags": []
          },
          "execution_count": 37
        }
      ]
    },
    {
      "cell_type": "code",
      "metadata": {
        "id": "8rbijY9djK5F",
        "colab_type": "code",
        "colab": {
          "base_uri": "https://localhost:8080/",
          "height": 34
        },
        "outputId": "a305a50b-ae2e-43c2-b227-863eee5d9460"
      },
      "source": [
        "#dropping all rows with rating value of -1. ie. the user_id did not rate the anime\n",
        "ratings = ratings[ratings['rating'] != -1]\n",
        "len(ratings)"
      ],
      "execution_count": null,
      "outputs": [
        {
          "output_type": "execute_result",
          "data": {
            "text/plain": [
              "6337241"
            ]
          },
          "metadata": {
            "tags": []
          },
          "execution_count": 38
        }
      ]
    },
    {
      "cell_type": "code",
      "metadata": {
        "id": "2KUdsa8DjNx8",
        "colab_type": "code",
        "colab": {}
      },
      "source": [
        "#renaming rating in anime df rating to average rating\n",
        "anime.rename(columns={'rating':'average_rating'}, inplace=True)"
      ],
      "execution_count": null,
      "outputs": []
    },
    {
      "cell_type": "markdown",
      "metadata": {
        "id": "0zr-9THpjvrx",
        "colab_type": "text"
      },
      "source": [
        "### Logic for Content Based"
      ]
    },
    {
      "cell_type": "markdown",
      "metadata": {
        "id": "aP9rPRyUj5VI",
        "colab_type": "text"
      },
      "source": [
        "**Future Findings**\n",
        "1. Getting the anime overview description. ie summary of the plot description\n",
        "2. Getting 3 major casts of the anime\n",
        "3. Getting directors of the anime"
      ]
    },
    {
      "cell_type": "code",
      "metadata": {
        "id": "MV08G6FujVoO",
        "colab_type": "code",
        "colab": {}
      },
      "source": [
        "# creating a function to split the values in the genre column\n",
        "def split_genre(x):\n",
        "  return x.split(', ')\n"
      ],
      "execution_count": null,
      "outputs": []
    },
    {
      "cell_type": "code",
      "metadata": {
        "id": "1Z-7oi_LlsYw",
        "colab_type": "code",
        "colab": {}
      },
      "source": [
        "#converting the name column into string datatype\n",
        "anime['genre'] = anime['genre'].astype('str')"
      ],
      "execution_count": null,
      "outputs": []
    },
    {
      "cell_type": "code",
      "metadata": {
        "id": "DJT_9Hh8pFg3",
        "colab_type": "code",
        "colab": {}
      },
      "source": [
        "#converting the name column into string datatype\n",
        "anime['type'] = anime['type'].astype('str')"
      ],
      "execution_count": null,
      "outputs": []
    },
    {
      "cell_type": "code",
      "metadata": {
        "id": "VkRovHxbl8ks",
        "colab_type": "code",
        "colab": {}
      },
      "source": [
        "#applying the function\n",
        "anime['genre'] = anime['genre'].apply(split_genre)"
      ],
      "execution_count": null,
      "outputs": []
    },
    {
      "cell_type": "code",
      "metadata": {
        "id": "-ylMbmU9mFT5",
        "colab_type": "code",
        "colab": {
          "base_uri": "https://localhost:8080/",
          "height": 204
        },
        "outputId": "90f9741e-e454-46e0-fee6-f92c1bd6ec83"
      },
      "source": [
        "anime.head()"
      ],
      "execution_count": null,
      "outputs": [
        {
          "output_type": "execute_result",
          "data": {
            "text/html": [
              "<div>\n",
              "<style scoped>\n",
              "    .dataframe tbody tr th:only-of-type {\n",
              "        vertical-align: middle;\n",
              "    }\n",
              "\n",
              "    .dataframe tbody tr th {\n",
              "        vertical-align: top;\n",
              "    }\n",
              "\n",
              "    .dataframe thead th {\n",
              "        text-align: right;\n",
              "    }\n",
              "</style>\n",
              "<table border=\"1\" class=\"dataframe\">\n",
              "  <thead>\n",
              "    <tr style=\"text-align: right;\">\n",
              "      <th></th>\n",
              "      <th>anime_id</th>\n",
              "      <th>name</th>\n",
              "      <th>genre</th>\n",
              "      <th>type</th>\n",
              "      <th>episodes</th>\n",
              "      <th>average_rating</th>\n",
              "      <th>members</th>\n",
              "    </tr>\n",
              "  </thead>\n",
              "  <tbody>\n",
              "    <tr>\n",
              "      <th>0</th>\n",
              "      <td>32281</td>\n",
              "      <td>Kimi no Na wa.</td>\n",
              "      <td>[Drama, Romance, School, Supernatural]</td>\n",
              "      <td>Movie</td>\n",
              "      <td>1</td>\n",
              "      <td>9.37</td>\n",
              "      <td>200630</td>\n",
              "    </tr>\n",
              "    <tr>\n",
              "      <th>1</th>\n",
              "      <td>5114</td>\n",
              "      <td>Fullmetal Alchemist Brotherhood</td>\n",
              "      <td>[Action, Adventure, Drama, Fantasy, Magic, Mil...</td>\n",
              "      <td>TV</td>\n",
              "      <td>64</td>\n",
              "      <td>9.26</td>\n",
              "      <td>793665</td>\n",
              "    </tr>\n",
              "    <tr>\n",
              "      <th>2</th>\n",
              "      <td>28977</td>\n",
              "      <td>Gintama</td>\n",
              "      <td>[Action, Comedy, Historical, Parody, Samurai, ...</td>\n",
              "      <td>TV</td>\n",
              "      <td>51</td>\n",
              "      <td>9.25</td>\n",
              "      <td>114262</td>\n",
              "    </tr>\n",
              "    <tr>\n",
              "      <th>3</th>\n",
              "      <td>9253</td>\n",
              "      <td>Steins;Gate</td>\n",
              "      <td>[Sci-Fi, Thriller]</td>\n",
              "      <td>TV</td>\n",
              "      <td>24</td>\n",
              "      <td>9.17</td>\n",
              "      <td>673572</td>\n",
              "    </tr>\n",
              "    <tr>\n",
              "      <th>4</th>\n",
              "      <td>9969</td>\n",
              "      <td>Gintama039;</td>\n",
              "      <td>[Action, Comedy, Historical, Parody, Samurai, ...</td>\n",
              "      <td>TV</td>\n",
              "      <td>51</td>\n",
              "      <td>9.16</td>\n",
              "      <td>151266</td>\n",
              "    </tr>\n",
              "  </tbody>\n",
              "</table>\n",
              "</div>"
            ],
            "text/plain": [
              "   anime_id                             name  ... average_rating members\n",
              "0     32281                   Kimi no Na wa.  ...           9.37  200630\n",
              "1      5114  Fullmetal Alchemist Brotherhood  ...           9.26  793665\n",
              "2     28977                          Gintama  ...           9.25  114262\n",
              "3      9253                      Steins;Gate  ...           9.17  673572\n",
              "4      9969                      Gintama039;  ...           9.16  151266\n",
              "\n",
              "[5 rows x 7 columns]"
            ]
          },
          "metadata": {
            "tags": []
          },
          "execution_count": 44
        }
      ]
    },
    {
      "cell_type": "code",
      "metadata": {
        "id": "7GLFQbitmGuV",
        "colab_type": "code",
        "colab": {}
      },
      "source": [
        "#taking only the features we would be making use of\n",
        "features = ['name','genre','type']\n",
        "anime = anime[features]"
      ],
      "execution_count": null,
      "outputs": []
    },
    {
      "cell_type": "code",
      "metadata": {
        "id": "9XKEuE0rmlBt",
        "colab_type": "code",
        "colab": {
          "base_uri": "https://localhost:8080/",
          "height": 142
        },
        "outputId": "d5aebfa3-c413-49fa-ea73-983d18cd4d99"
      },
      "source": [
        "anime.head(3)"
      ],
      "execution_count": null,
      "outputs": [
        {
          "output_type": "execute_result",
          "data": {
            "text/html": [
              "<div>\n",
              "<style scoped>\n",
              "    .dataframe tbody tr th:only-of-type {\n",
              "        vertical-align: middle;\n",
              "    }\n",
              "\n",
              "    .dataframe tbody tr th {\n",
              "        vertical-align: top;\n",
              "    }\n",
              "\n",
              "    .dataframe thead th {\n",
              "        text-align: right;\n",
              "    }\n",
              "</style>\n",
              "<table border=\"1\" class=\"dataframe\">\n",
              "  <thead>\n",
              "    <tr style=\"text-align: right;\">\n",
              "      <th></th>\n",
              "      <th>name</th>\n",
              "      <th>genre</th>\n",
              "      <th>type</th>\n",
              "    </tr>\n",
              "  </thead>\n",
              "  <tbody>\n",
              "    <tr>\n",
              "      <th>0</th>\n",
              "      <td>Kimi no Na wa.</td>\n",
              "      <td>[Drama, Romance, School, Supernatural]</td>\n",
              "      <td>Movie</td>\n",
              "    </tr>\n",
              "    <tr>\n",
              "      <th>1</th>\n",
              "      <td>Fullmetal Alchemist Brotherhood</td>\n",
              "      <td>[Action, Adventure, Drama, Fantasy, Magic, Mil...</td>\n",
              "      <td>TV</td>\n",
              "    </tr>\n",
              "    <tr>\n",
              "      <th>2</th>\n",
              "      <td>Gintama</td>\n",
              "      <td>[Action, Comedy, Historical, Parody, Samurai, ...</td>\n",
              "      <td>TV</td>\n",
              "    </tr>\n",
              "  </tbody>\n",
              "</table>\n",
              "</div>"
            ],
            "text/plain": [
              "                              name  ...   type\n",
              "0                   Kimi no Na wa.  ...  Movie\n",
              "1  Fullmetal Alchemist Brotherhood  ...     TV\n",
              "2                          Gintama  ...     TV\n",
              "\n",
              "[3 rows x 3 columns]"
            ]
          },
          "metadata": {
            "tags": []
          },
          "execution_count": 46
        }
      ]
    },
    {
      "cell_type": "markdown",
      "metadata": {
        "id": "jVUZQYNQmpek",
        "colab_type": "text"
      },
      "source": [
        "The next step would be to convert the names and keyword instances into lowercase and strip all the spaces between them."
      ]
    },
    {
      "cell_type": "code",
      "metadata": {
        "id": "8RuIWi7Kmm7O",
        "colab_type": "code",
        "colab": {}
      },
      "source": [
        "# Function to convert all strings to lower case and strip names of spaces\n",
        "def clean_data(x):\n",
        "    if isinstance(x, list):\n",
        "        return [str.lower(i.replace(\" \", \"\")) for i in x]\n",
        "    else:\n",
        "        #Check if nothing exists. If not, return empty string\n",
        "        if isinstance(x, str):\n",
        "            return str.lower(x.replace(\" \", \"\"))\n",
        "        else:\n",
        "            return ''"
      ],
      "execution_count": null,
      "outputs": []
    },
    {
      "cell_type": "code",
      "metadata": {
        "id": "QXhCgPbEnIaX",
        "colab_type": "code",
        "colab": {}
      },
      "source": [
        "# Apply clean_data function to your features.\n",
        "features = ['genre', 'type']\n",
        "\n",
        "for feature in features:\n",
        "    anime[feature] = anime[feature].apply(clean_data)"
      ],
      "execution_count": null,
      "outputs": []
    },
    {
      "cell_type": "code",
      "metadata": {
        "id": "5kv19v5PnXkm",
        "colab_type": "code",
        "colab": {
          "base_uri": "https://localhost:8080/",
          "height": 142
        },
        "outputId": "aa1d36c0-4158-4ca5-a6e0-caf271d7aa37"
      },
      "source": [
        "anime.head(3)"
      ],
      "execution_count": null,
      "outputs": [
        {
          "output_type": "execute_result",
          "data": {
            "text/html": [
              "<div>\n",
              "<style scoped>\n",
              "    .dataframe tbody tr th:only-of-type {\n",
              "        vertical-align: middle;\n",
              "    }\n",
              "\n",
              "    .dataframe tbody tr th {\n",
              "        vertical-align: top;\n",
              "    }\n",
              "\n",
              "    .dataframe thead th {\n",
              "        text-align: right;\n",
              "    }\n",
              "</style>\n",
              "<table border=\"1\" class=\"dataframe\">\n",
              "  <thead>\n",
              "    <tr style=\"text-align: right;\">\n",
              "      <th></th>\n",
              "      <th>name</th>\n",
              "      <th>genre</th>\n",
              "      <th>type</th>\n",
              "    </tr>\n",
              "  </thead>\n",
              "  <tbody>\n",
              "    <tr>\n",
              "      <th>0</th>\n",
              "      <td>Kimi no Na wa.</td>\n",
              "      <td>[drama, romance, school, supernatural]</td>\n",
              "      <td>movie</td>\n",
              "    </tr>\n",
              "    <tr>\n",
              "      <th>1</th>\n",
              "      <td>Fullmetal Alchemist Brotherhood</td>\n",
              "      <td>[action, adventure, drama, fantasy, magic, mil...</td>\n",
              "      <td>tv</td>\n",
              "    </tr>\n",
              "    <tr>\n",
              "      <th>2</th>\n",
              "      <td>Gintama</td>\n",
              "      <td>[action, comedy, historical, parody, samurai, ...</td>\n",
              "      <td>tv</td>\n",
              "    </tr>\n",
              "  </tbody>\n",
              "</table>\n",
              "</div>"
            ],
            "text/plain": [
              "                              name  ...   type\n",
              "0                   Kimi no Na wa.  ...  movie\n",
              "1  Fullmetal Alchemist Brotherhood  ...     tv\n",
              "2                          Gintama  ...     tv\n",
              "\n",
              "[3 rows x 3 columns]"
            ]
          },
          "metadata": {
            "tags": []
          },
          "execution_count": 49
        }
      ]
    },
    {
      "cell_type": "markdown",
      "metadata": {
        "id": "4Zw6wFnGovnZ",
        "colab_type": "text"
      },
      "source": [
        "Finally, we create a metadata soup, in which we feed the vectorizer. This metadata are strings separated by whitespace"
      ]
    },
    {
      "cell_type": "code",
      "metadata": {
        "id": "jvvpZF6MnZ18",
        "colab_type": "code",
        "colab": {}
      },
      "source": [
        "def create_soup(x):\n",
        "    return ' '.join(x['genre']) + ' ' + ' '.join(x['type'])"
      ],
      "execution_count": null,
      "outputs": []
    },
    {
      "cell_type": "code",
      "metadata": {
        "id": "UmKGhPowpQmg",
        "colab_type": "code",
        "colab": {}
      },
      "source": [
        "# Create a new soup feature\n",
        "anime['soup'] = anime.apply(create_soup, axis=1)"
      ],
      "execution_count": null,
      "outputs": []
    },
    {
      "cell_type": "code",
      "metadata": {
        "id": "BoQIHWv0pePH",
        "colab_type": "code",
        "colab": {
          "base_uri": "https://localhost:8080/",
          "height": 204
        },
        "outputId": "e3944793-403c-47aa-e80e-f3c6e12faacf"
      },
      "source": [
        "anime.head()"
      ],
      "execution_count": null,
      "outputs": [
        {
          "output_type": "execute_result",
          "data": {
            "text/html": [
              "<div>\n",
              "<style scoped>\n",
              "    .dataframe tbody tr th:only-of-type {\n",
              "        vertical-align: middle;\n",
              "    }\n",
              "\n",
              "    .dataframe tbody tr th {\n",
              "        vertical-align: top;\n",
              "    }\n",
              "\n",
              "    .dataframe thead th {\n",
              "        text-align: right;\n",
              "    }\n",
              "</style>\n",
              "<table border=\"1\" class=\"dataframe\">\n",
              "  <thead>\n",
              "    <tr style=\"text-align: right;\">\n",
              "      <th></th>\n",
              "      <th>name</th>\n",
              "      <th>genre</th>\n",
              "      <th>type</th>\n",
              "      <th>soup</th>\n",
              "    </tr>\n",
              "  </thead>\n",
              "  <tbody>\n",
              "    <tr>\n",
              "      <th>0</th>\n",
              "      <td>Kimi no Na wa.</td>\n",
              "      <td>[drama, romance, school, supernatural]</td>\n",
              "      <td>movie</td>\n",
              "      <td>drama romance school supernatural m o v i e</td>\n",
              "    </tr>\n",
              "    <tr>\n",
              "      <th>1</th>\n",
              "      <td>Fullmetal Alchemist Brotherhood</td>\n",
              "      <td>[action, adventure, drama, fantasy, magic, mil...</td>\n",
              "      <td>tv</td>\n",
              "      <td>action adventure drama fantasy magic military ...</td>\n",
              "    </tr>\n",
              "    <tr>\n",
              "      <th>2</th>\n",
              "      <td>Gintama</td>\n",
              "      <td>[action, comedy, historical, parody, samurai, ...</td>\n",
              "      <td>tv</td>\n",
              "      <td>action comedy historical parody samurai sci-fi...</td>\n",
              "    </tr>\n",
              "    <tr>\n",
              "      <th>3</th>\n",
              "      <td>Steins;Gate</td>\n",
              "      <td>[sci-fi, thriller]</td>\n",
              "      <td>tv</td>\n",
              "      <td>sci-fi thriller t v</td>\n",
              "    </tr>\n",
              "    <tr>\n",
              "      <th>4</th>\n",
              "      <td>Gintama039;</td>\n",
              "      <td>[action, comedy, historical, parody, samurai, ...</td>\n",
              "      <td>tv</td>\n",
              "      <td>action comedy historical parody samurai sci-fi...</td>\n",
              "    </tr>\n",
              "  </tbody>\n",
              "</table>\n",
              "</div>"
            ],
            "text/plain": [
              "                              name  ...                                               soup\n",
              "0                   Kimi no Na wa.  ...        drama romance school supernatural m o v i e\n",
              "1  Fullmetal Alchemist Brotherhood  ...  action adventure drama fantasy magic military ...\n",
              "2                          Gintama  ...  action comedy historical parody samurai sci-fi...\n",
              "3                      Steins;Gate  ...                                sci-fi thriller t v\n",
              "4                      Gintama039;  ...  action comedy historical parody samurai sci-fi...\n",
              "\n",
              "[5 rows x 4 columns]"
            ]
          },
          "metadata": {
            "tags": []
          },
          "execution_count": 53
        }
      ]
    },
    {
      "cell_type": "markdown",
      "metadata": {
        "id": "JAc27RVpponf",
        "colab_type": "text"
      },
      "source": [
        "We make use of the CountVectorizer library. This will give us a matrix where each column represents a word in the overview vocabulary (all the words that appear in at least one document), and each row represents an anime, as before."
      ]
    },
    {
      "cell_type": "code",
      "metadata": {
        "id": "DAMQoeH6pg2q",
        "colab_type": "code",
        "colab": {}
      },
      "source": [
        "# Import CountVectorizer and create the count matrix\n",
        "from sklearn.feature_extraction.text import CountVectorizer\n",
        "\n",
        "count = CountVectorizer(stop_words='english')\n",
        "count_matrix = count.fit_transform(anime['soup'])"
      ],
      "execution_count": null,
      "outputs": []
    },
    {
      "cell_type": "code",
      "metadata": {
        "id": "8wSG2RmgqORY",
        "colab_type": "code",
        "colab": {
          "base_uri": "https://localhost:8080/",
          "height": 34
        },
        "outputId": "43d8887c-b904-4dfd-c37d-6a76ef174883"
      },
      "source": [
        "count_matrix.shape"
      ],
      "execution_count": null,
      "outputs": [
        {
          "output_type": "execute_result",
          "data": {
            "text/plain": [
              "(12294, 45)"
            ]
          },
          "metadata": {
            "tags": []
          },
          "execution_count": 57
        }
      ]
    },
    {
      "cell_type": "markdown",
      "metadata": {
        "id": "FZnTAUOZqlav",
        "colab_type": "text"
      },
      "source": [
        "From the above, there are 73,881 vocabularies in the metadata that you fed to it.\n",
        "Next, we will use the cosine_similarity to measure the distance between the embeddings."
      ]
    },
    {
      "cell_type": "code",
      "metadata": {
        "id": "8wcuahwGqbGt",
        "colab_type": "code",
        "colab": {}
      },
      "source": [
        "# Compute the Cosine Similarity matrix based on the count_matrix\n",
        "from sklearn.metrics.pairwise import cosine_similarity\n",
        "\n",
        "cosine_sim = cosine_similarity(count_matrix, count_matrix)"
      ],
      "execution_count": null,
      "outputs": []
    },
    {
      "cell_type": "markdown",
      "metadata": {
        "id": "h-jLe1d6rFba",
        "colab_type": "text"
      },
      "source": [
        "We create a function to get top 10 similar animes, based on it's features"
      ]
    },
    {
      "cell_type": "code",
      "metadata": {
        "id": "PtvGILR8rfBw",
        "colab_type": "code",
        "colab": {}
      },
      "source": [
        "#Construct a reverse map of indices and anime titles\n",
        "indices = pd.Series(anime.index, index=anime['name']).drop_duplicates()"
      ],
      "execution_count": null,
      "outputs": []
    },
    {
      "cell_type": "code",
      "metadata": {
        "id": "4DEa_FgbrlaH",
        "colab_type": "code",
        "colab": {
          "base_uri": "https://localhost:8080/",
          "height": 102
        },
        "outputId": "c625f672-214c-4d22-8f2b-c400ba7b22ed"
      },
      "source": [
        "indices.head(3)"
      ],
      "execution_count": null,
      "outputs": [
        {
          "output_type": "execute_result",
          "data": {
            "text/plain": [
              "name\n",
              "Kimi no Na wa.                     0\n",
              "Fullmetal Alchemist Brotherhood    1\n",
              "Gintama                            2\n",
              "dtype: int64"
            ]
          },
          "metadata": {
            "tags": []
          },
          "execution_count": 60
        }
      ]
    },
    {
      "cell_type": "markdown",
      "metadata": {
        "id": "Cwv-iJxgrk6u",
        "colab_type": "text"
      },
      "source": [
        ""
      ]
    },
    {
      "cell_type": "code",
      "metadata": {
        "id": "WEi35TXlqyYJ",
        "colab_type": "code",
        "colab": {}
      },
      "source": [
        "# Function that takes in anime title as input and outputs most similar anime\n",
        "def get_recommendations(title, cosine_sim=cosine_sim):\n",
        "    # Get the index of the anime that matches the title\n",
        "    idx = indices[title]\n",
        "\n",
        "    # Get the pairwsie similarity scores of all anime with that anime\n",
        "    sim_scores = list(enumerate(cosine_sim[idx]))\n",
        "\n",
        "    # Sort the anime based on the similarity scores\n",
        "    sim_scores = sorted(sim_scores, key=lambda x: x[1], reverse=True)\n",
        "\n",
        "    # Get the scores of the 10 most similar anime\n",
        "    sim_scores = sim_scores[1:11]\n",
        "\n",
        "    # Get the anime indices\n",
        "    anime_indices = [i[0] for i in sim_scores]\n",
        "\n",
        "    # Return the top 10 most similar anime\n",
        "    return anime['name'].iloc[anime_indices]"
      ],
      "execution_count": null,
      "outputs": []
    },
    {
      "cell_type": "markdown",
      "metadata": {
        "id": "Jm8fS2rxr0Hu",
        "colab_type": "text"
      },
      "source": [
        "### Testing with Death Note"
      ]
    },
    {
      "cell_type": "code",
      "metadata": {
        "id": "dseE2dU3rwf_",
        "colab_type": "code",
        "colab": {
          "base_uri": "https://localhost:8080/",
          "height": 204
        },
        "outputId": "9c558a7b-c73d-44d3-823c-4c6d0cac99fd"
      },
      "source": [
        "recommendations = get_recommendations('Death Note')\n",
        "print(recommendations)"
      ],
      "execution_count": null,
      "outputs": [
        {
          "output_type": "stream",
          "text": [
            "778                                     Death Note Rewrite\n",
            "981                                        Mousou Dairinin\n",
            "144                          Higurashi no Naku Koro ni Kai\n",
            "334                              Higurashi no Naku Koro ni\n",
            "1383                         Higurashi no Naku Koro ni Rei\n",
            "833                               Jigoku Shoujo Mitsuganae\n",
            "2691                     Yakushiji Ryouko no Kaiki Jikenbo\n",
            "6323                               Saint Luminous Jogakuin\n",
            "10785    Yakushiji Ryouko no Kaiki Jikenbo Hamachou, Vo...\n",
            "445                                         Mirai Nikki TV\n",
            "Name: name, dtype: object\n"
          ],
          "name": "stdout"
        }
      ]
    },
    {
      "cell_type": "code",
      "metadata": {
        "id": "OPaO_QzLlg5K",
        "colab_type": "code",
        "colab": {}
      },
      "source": [
        ""
      ],
      "execution_count": null,
      "outputs": []
    }
  ]
}